{
  "cells": [
    {
      "cell_type": "markdown",
      "metadata": {
        "id": "4O_zgP34Gt0K"
      },
      "source": [
        "### **Content License Agreement**\n",
        "\n",
        "<font color='red'><b>**WARNING**</b></font> : 본 자료는 삼성청년SW·AI아카데미의 컨텐츠 자산으로, 보안서약서에 의거하여 어떠한 사유로도 임의로 복사, 촬영, 녹음, 복제, 보관, 전송하거나 허가 받지 않은 저장매체를 이용한 보관, 제3자에게 누설, 공개 또는 사용하는 등의 무단 사용 및 불법 배포 시 법적 조치를 받을 수 있습니다."
      ]
    },
    {
      "cell_type": "markdown",
      "metadata": {
        "id": "wBMRC-8eG2Fh"
      },
      "source": [
        "### **Objectives**\n",
        "\n",
        "1. **실습명**: NumPy를 이용한 선형 회귀 모델 구현\n",
        "\n",
        "2. **핵심 주제**\n",
        "  - 데이터 정규화 및 브로드캐스팅  \n",
        "  - 선형대수 기반 최적해 계산 (lstsq & SVD)  \n",
        "  - 경사 하강법 및 손실 추적  \n",
        "\n",
        "3. **학습 목표**  \n",
        "  - 표준 정규화 과정을 구현하여 입력 스케일을 조정한다.  \n",
        "  - `np.linalg.lstsq`와 SVD를 활용해 안정적인 파라미터 해를 구한다.  \n",
        "  - 경사 하강법으로 모델을 학습하고 MSE 손실을 계산한다.  \n",
        "  - 브로드캐스팅과 벡터화 기법으로 효율적인 NumPy 코드를 작성한다.  \n",
        "\n",
        "4. **학습 개념**\n",
        "  - **표준화(Standard Scaling)** : 평균 0, 분산 1로 각 특성을 변환하는 기법  \n",
        "  - **브로드캐스팅(Broadcasting)** : 배열 연산 시 차원을 자동 확장하여 계산하는 방식  \n",
        "  - **정규 방정식(Normal Equation)** : 역행렬을 이용해 선형 회귀 해를 직접 구하는 수식\n",
        "  - **최소제곱법(Least Squares)** : 잔차 제곱합을 최소화하는 최적화 원리  \n",
        "  - **특이값 분해(SVD)** : 행렬을 U, Σ, Vᵀ로 분해하여 유사역행렬을 구하는 기법  \n",
        "  - **경사 하강법(Gradient Descent)** : 기울기를 따라 손실을 최소화하는 반복 최적화 알고리즘  \n",
        "\n",
        "5. **학습 방향**\n",
        "  - 데이터 로딩 후 숫자형 특성만 선택하고, 평균·표준편차 계산을 통해 표준 정규화를 수행합니다.  \n",
        "  - 상수항 열을 추가해 \\(X_b\\)를 구성하고, 정규 방정식의 수치 불안정성을 이해합니다.  \n",
        "  - `np.linalg.lstsq`로 간편한 해를 구하고, SVD 기반 유사역행렬 방법으로 보다 안정적인 해를 구합니다.  \n",
        "  - 경사 하강법 루프에서 예측·손실(MSE)/미분을 계산하고 파라미터를 업데이트하며 학습 과정을 시각화합니다.  \n",
        "  - 모든 단계에서 NumPy의 벡터화, 브로드캐스팅, 선형대수 함수를 활용해 수학 공식과 코드 구현 간 연결을 명확히 이해합니다.  \n",
        "\n",
        "6. **데이터셋 개요 및 저작권 정보**  \n",
        "  - 데이터셋 명 : Diamonds 데이터셋\n",
        "  - 데이터셋 개요 : 약 54,000개의 다이아몬드 가격(`price`)과 주요 속성(`carat`, `depth`, `table`, `x`, `y`, `z`)을 포함한 데이터  \n",
        "  - 데이터셋 저작권 : seaborn-data 저장소(BSD 라이선스)에 따라 제공  \n"
      ]
    },
    {
      "cell_type": "markdown",
      "metadata": {
        "id": "GIhfwFSYaiPY"
      },
      "source": [
        "### **Prerequisites**\n",
        "```\n",
        "numpy>=1.26\n",
        "seaborn>=0.12\n",
        "matplotlib>=3.8\n",
        "tqdm>=4.65\n",
        "```"
      ]
    },
    {
      "cell_type": "markdown",
      "metadata": {
        "id": "8-_D1uG2G67l"
      },
      "source": [
        "# 1. 데이터 정규화 및 준비\n",
        "1. 학습 목표  \n",
        "  - 모델 학습 전 입력 데이터의 스케일 차이를 줄여 수렴 속도와 안정성을 높인다.  \n",
        "  - 평균과 표준편차의 개념을 이해하고, 브로드캐스팅을 활용한 벡터 연산 방식을 익힌다.  \n",
        "\n",
        "2. 학습 개념  \n",
        "  - 표준 정규화(Standard Scaling)  \n",
        "    - 각 특성(feature)의 분포를 평균 0, 분산 1로 변환  \n",
        "    - 수식: $ X_{\\text{norm}} = \\frac{X - \\mu}{\\sigma}$  \n",
        "  - 브로드캐스팅(Broadcasting)  \n",
        "    - 서로 다른 모양(matrix와 벡터 등)의 배열 간 연산을 자동 확장해 수행  \n",
        "\n",
        "3. 진행하는 실습 요약  \n",
        "  - `np.mean()`과 `np.std()`로 각 열의 μ, σ 계산  \n",
        "  - `X_norm = (X_raw - μ) / σ` 형태로 브로드캐스팅 정규화  \n",
        "  - `np.c_[ ]`를 사용해 상수항(bias) 열을 결합하여 $X_b$ 완성\n"
      ]
    },
    {
      "cell_type": "markdown",
      "metadata": {
        "id": "p0JRkDHD4s9P"
      },
      "source": [
        "모든 데이터 분석의 첫 번째는 무엇일까요? 당연히 데이터 수집이 1순위이지만, 수집이 끝난 뒤 가장 먼저 할 일은 데이터 전처리입니다. 오늘은 seaborn 라이브러리의 `diamonds` 데이터셋을 사용해, 실제 수치형 특성만 뽑아 선형 회귀 모델을 준비하고 학습해 보는 과정을 살펴봅니다."
      ]
    },
    {
      "cell_type": "code",
      "execution_count": 18,
      "metadata": {
        "id": "ZD1ZxAduG8ra"
      },
      "outputs": [],
      "source": [
        "import numpy as np\n",
        "import seaborn as sns\n",
        "df = sns.load_dataset(\"diamonds\")"
      ]
    },
    {
      "cell_type": "markdown",
      "metadata": {
        "id": "G9zlqRLSZDSG"
      },
      "source": [
        "데이터셋의 구성을 살펴봅시다."
      ]
    },
    {
      "cell_type": "code",
      "execution_count": 19,
      "metadata": {
        "colab": {
          "base_uri": "https://localhost:8080/"
        },
        "id": "9O71n7C8ZCcd",
        "outputId": "773ffa1c-9dd4-4551-908c-dfda53ef330f"
      },
      "outputs": [
        {
          "output_type": "stream",
          "name": "stdout",
          "text": [
            "<class 'pandas.core.frame.DataFrame'>\n",
            "RangeIndex: 53940 entries, 0 to 53939\n",
            "Data columns (total 10 columns):\n",
            " #   Column   Non-Null Count  Dtype   \n",
            "---  ------   --------------  -----   \n",
            " 0   carat    53940 non-null  float64 \n",
            " 1   cut      53940 non-null  category\n",
            " 2   color    53940 non-null  category\n",
            " 3   clarity  53940 non-null  category\n",
            " 4   depth    53940 non-null  float64 \n",
            " 5   table    53940 non-null  float64 \n",
            " 6   price    53940 non-null  int64   \n",
            " 7   x        53940 non-null  float64 \n",
            " 8   y        53940 non-null  float64 \n",
            " 9   z        53940 non-null  float64 \n",
            "dtypes: category(3), float64(6), int64(1)\n",
            "memory usage: 3.0 MB\n"
          ]
        }
      ],
      "source": [
        "df.info()"
      ]
    },
    {
      "cell_type": "code",
      "execution_count": 20,
      "metadata": {
        "colab": {
          "base_uri": "https://localhost:8080/",
          "height": 300
        },
        "id": "18I_wgt7ZHFd",
        "outputId": "8df30675-7d1b-4d05-fc84-2dc67c5d85eb"
      },
      "outputs": [
        {
          "output_type": "execute_result",
          "data": {
            "text/plain": [
              "              carat         depth         table         price             x  \\\n",
              "count  53940.000000  53940.000000  53940.000000  53940.000000  53940.000000   \n",
              "mean       0.797940     61.749405     57.457184   3932.799722      5.731157   \n",
              "std        0.474011      1.432621      2.234491   3989.439738      1.121761   \n",
              "min        0.200000     43.000000     43.000000    326.000000      0.000000   \n",
              "25%        0.400000     61.000000     56.000000    950.000000      4.710000   \n",
              "50%        0.700000     61.800000     57.000000   2401.000000      5.700000   \n",
              "75%        1.040000     62.500000     59.000000   5324.250000      6.540000   \n",
              "max        5.010000     79.000000     95.000000  18823.000000     10.740000   \n",
              "\n",
              "                  y             z  \n",
              "count  53940.000000  53940.000000  \n",
              "mean       5.734526      3.538734  \n",
              "std        1.142135      0.705699  \n",
              "min        0.000000      0.000000  \n",
              "25%        4.720000      2.910000  \n",
              "50%        5.710000      3.530000  \n",
              "75%        6.540000      4.040000  \n",
              "max       58.900000     31.800000  "
            ],
            "text/html": [
              "\n",
              "  <div id=\"df-2e5a923f-3306-4162-b39f-68d4b1020ba8\" class=\"colab-df-container\">\n",
              "    <div>\n",
              "<style scoped>\n",
              "    .dataframe tbody tr th:only-of-type {\n",
              "        vertical-align: middle;\n",
              "    }\n",
              "\n",
              "    .dataframe tbody tr th {\n",
              "        vertical-align: top;\n",
              "    }\n",
              "\n",
              "    .dataframe thead th {\n",
              "        text-align: right;\n",
              "    }\n",
              "</style>\n",
              "<table border=\"1\" class=\"dataframe\">\n",
              "  <thead>\n",
              "    <tr style=\"text-align: right;\">\n",
              "      <th></th>\n",
              "      <th>carat</th>\n",
              "      <th>depth</th>\n",
              "      <th>table</th>\n",
              "      <th>price</th>\n",
              "      <th>x</th>\n",
              "      <th>y</th>\n",
              "      <th>z</th>\n",
              "    </tr>\n",
              "  </thead>\n",
              "  <tbody>\n",
              "    <tr>\n",
              "      <th>count</th>\n",
              "      <td>53940.000000</td>\n",
              "      <td>53940.000000</td>\n",
              "      <td>53940.000000</td>\n",
              "      <td>53940.000000</td>\n",
              "      <td>53940.000000</td>\n",
              "      <td>53940.000000</td>\n",
              "      <td>53940.000000</td>\n",
              "    </tr>\n",
              "    <tr>\n",
              "      <th>mean</th>\n",
              "      <td>0.797940</td>\n",
              "      <td>61.749405</td>\n",
              "      <td>57.457184</td>\n",
              "      <td>3932.799722</td>\n",
              "      <td>5.731157</td>\n",
              "      <td>5.734526</td>\n",
              "      <td>3.538734</td>\n",
              "    </tr>\n",
              "    <tr>\n",
              "      <th>std</th>\n",
              "      <td>0.474011</td>\n",
              "      <td>1.432621</td>\n",
              "      <td>2.234491</td>\n",
              "      <td>3989.439738</td>\n",
              "      <td>1.121761</td>\n",
              "      <td>1.142135</td>\n",
              "      <td>0.705699</td>\n",
              "    </tr>\n",
              "    <tr>\n",
              "      <th>min</th>\n",
              "      <td>0.200000</td>\n",
              "      <td>43.000000</td>\n",
              "      <td>43.000000</td>\n",
              "      <td>326.000000</td>\n",
              "      <td>0.000000</td>\n",
              "      <td>0.000000</td>\n",
              "      <td>0.000000</td>\n",
              "    </tr>\n",
              "    <tr>\n",
              "      <th>25%</th>\n",
              "      <td>0.400000</td>\n",
              "      <td>61.000000</td>\n",
              "      <td>56.000000</td>\n",
              "      <td>950.000000</td>\n",
              "      <td>4.710000</td>\n",
              "      <td>4.720000</td>\n",
              "      <td>2.910000</td>\n",
              "    </tr>\n",
              "    <tr>\n",
              "      <th>50%</th>\n",
              "      <td>0.700000</td>\n",
              "      <td>61.800000</td>\n",
              "      <td>57.000000</td>\n",
              "      <td>2401.000000</td>\n",
              "      <td>5.700000</td>\n",
              "      <td>5.710000</td>\n",
              "      <td>3.530000</td>\n",
              "    </tr>\n",
              "    <tr>\n",
              "      <th>75%</th>\n",
              "      <td>1.040000</td>\n",
              "      <td>62.500000</td>\n",
              "      <td>59.000000</td>\n",
              "      <td>5324.250000</td>\n",
              "      <td>6.540000</td>\n",
              "      <td>6.540000</td>\n",
              "      <td>4.040000</td>\n",
              "    </tr>\n",
              "    <tr>\n",
              "      <th>max</th>\n",
              "      <td>5.010000</td>\n",
              "      <td>79.000000</td>\n",
              "      <td>95.000000</td>\n",
              "      <td>18823.000000</td>\n",
              "      <td>10.740000</td>\n",
              "      <td>58.900000</td>\n",
              "      <td>31.800000</td>\n",
              "    </tr>\n",
              "  </tbody>\n",
              "</table>\n",
              "</div>\n",
              "    <div class=\"colab-df-buttons\">\n",
              "\n",
              "  <div class=\"colab-df-container\">\n",
              "    <button class=\"colab-df-convert\" onclick=\"convertToInteractive('df-2e5a923f-3306-4162-b39f-68d4b1020ba8')\"\n",
              "            title=\"Convert this dataframe to an interactive table.\"\n",
              "            style=\"display:none;\">\n",
              "\n",
              "  <svg xmlns=\"http://www.w3.org/2000/svg\" height=\"24px\" viewBox=\"0 -960 960 960\">\n",
              "    <path d=\"M120-120v-720h720v720H120Zm60-500h600v-160H180v160Zm220 220h160v-160H400v160Zm0 220h160v-160H400v160ZM180-400h160v-160H180v160Zm440 0h160v-160H620v160ZM180-180h160v-160H180v160Zm440 0h160v-160H620v160Z\"/>\n",
              "  </svg>\n",
              "    </button>\n",
              "\n",
              "  <style>\n",
              "    .colab-df-container {\n",
              "      display:flex;\n",
              "      gap: 12px;\n",
              "    }\n",
              "\n",
              "    .colab-df-convert {\n",
              "      background-color: #E8F0FE;\n",
              "      border: none;\n",
              "      border-radius: 50%;\n",
              "      cursor: pointer;\n",
              "      display: none;\n",
              "      fill: #1967D2;\n",
              "      height: 32px;\n",
              "      padding: 0 0 0 0;\n",
              "      width: 32px;\n",
              "    }\n",
              "\n",
              "    .colab-df-convert:hover {\n",
              "      background-color: #E2EBFA;\n",
              "      box-shadow: 0px 1px 2px rgba(60, 64, 67, 0.3), 0px 1px 3px 1px rgba(60, 64, 67, 0.15);\n",
              "      fill: #174EA6;\n",
              "    }\n",
              "\n",
              "    .colab-df-buttons div {\n",
              "      margin-bottom: 4px;\n",
              "    }\n",
              "\n",
              "    [theme=dark] .colab-df-convert {\n",
              "      background-color: #3B4455;\n",
              "      fill: #D2E3FC;\n",
              "    }\n",
              "\n",
              "    [theme=dark] .colab-df-convert:hover {\n",
              "      background-color: #434B5C;\n",
              "      box-shadow: 0px 1px 3px 1px rgba(0, 0, 0, 0.15);\n",
              "      filter: drop-shadow(0px 1px 2px rgba(0, 0, 0, 0.3));\n",
              "      fill: #FFFFFF;\n",
              "    }\n",
              "  </style>\n",
              "\n",
              "    <script>\n",
              "      const buttonEl =\n",
              "        document.querySelector('#df-2e5a923f-3306-4162-b39f-68d4b1020ba8 button.colab-df-convert');\n",
              "      buttonEl.style.display =\n",
              "        google.colab.kernel.accessAllowed ? 'block' : 'none';\n",
              "\n",
              "      async function convertToInteractive(key) {\n",
              "        const element = document.querySelector('#df-2e5a923f-3306-4162-b39f-68d4b1020ba8');\n",
              "        const dataTable =\n",
              "          await google.colab.kernel.invokeFunction('convertToInteractive',\n",
              "                                                    [key], {});\n",
              "        if (!dataTable) return;\n",
              "\n",
              "        const docLinkHtml = 'Like what you see? Visit the ' +\n",
              "          '<a target=\"_blank\" href=https://colab.research.google.com/notebooks/data_table.ipynb>data table notebook</a>'\n",
              "          + ' to learn more about interactive tables.';\n",
              "        element.innerHTML = '';\n",
              "        dataTable['output_type'] = 'display_data';\n",
              "        await google.colab.output.renderOutput(dataTable, element);\n",
              "        const docLink = document.createElement('div');\n",
              "        docLink.innerHTML = docLinkHtml;\n",
              "        element.appendChild(docLink);\n",
              "      }\n",
              "    </script>\n",
              "  </div>\n",
              "\n",
              "\n",
              "    <div id=\"df-5f4c3ad1-04a3-4988-8810-cdb76780daa6\">\n",
              "      <button class=\"colab-df-quickchart\" onclick=\"quickchart('df-5f4c3ad1-04a3-4988-8810-cdb76780daa6')\"\n",
              "                title=\"Suggest charts\"\n",
              "                style=\"display:none;\">\n",
              "\n",
              "<svg xmlns=\"http://www.w3.org/2000/svg\" height=\"24px\"viewBox=\"0 0 24 24\"\n",
              "     width=\"24px\">\n",
              "    <g>\n",
              "        <path d=\"M19 3H5c-1.1 0-2 .9-2 2v14c0 1.1.9 2 2 2h14c1.1 0 2-.9 2-2V5c0-1.1-.9-2-2-2zM9 17H7v-7h2v7zm4 0h-2V7h2v10zm4 0h-2v-4h2v4z\"/>\n",
              "    </g>\n",
              "</svg>\n",
              "      </button>\n",
              "\n",
              "<style>\n",
              "  .colab-df-quickchart {\n",
              "      --bg-color: #E8F0FE;\n",
              "      --fill-color: #1967D2;\n",
              "      --hover-bg-color: #E2EBFA;\n",
              "      --hover-fill-color: #174EA6;\n",
              "      --disabled-fill-color: #AAA;\n",
              "      --disabled-bg-color: #DDD;\n",
              "  }\n",
              "\n",
              "  [theme=dark] .colab-df-quickchart {\n",
              "      --bg-color: #3B4455;\n",
              "      --fill-color: #D2E3FC;\n",
              "      --hover-bg-color: #434B5C;\n",
              "      --hover-fill-color: #FFFFFF;\n",
              "      --disabled-bg-color: #3B4455;\n",
              "      --disabled-fill-color: #666;\n",
              "  }\n",
              "\n",
              "  .colab-df-quickchart {\n",
              "    background-color: var(--bg-color);\n",
              "    border: none;\n",
              "    border-radius: 50%;\n",
              "    cursor: pointer;\n",
              "    display: none;\n",
              "    fill: var(--fill-color);\n",
              "    height: 32px;\n",
              "    padding: 0;\n",
              "    width: 32px;\n",
              "  }\n",
              "\n",
              "  .colab-df-quickchart:hover {\n",
              "    background-color: var(--hover-bg-color);\n",
              "    box-shadow: 0 1px 2px rgba(60, 64, 67, 0.3), 0 1px 3px 1px rgba(60, 64, 67, 0.15);\n",
              "    fill: var(--button-hover-fill-color);\n",
              "  }\n",
              "\n",
              "  .colab-df-quickchart-complete:disabled,\n",
              "  .colab-df-quickchart-complete:disabled:hover {\n",
              "    background-color: var(--disabled-bg-color);\n",
              "    fill: var(--disabled-fill-color);\n",
              "    box-shadow: none;\n",
              "  }\n",
              "\n",
              "  .colab-df-spinner {\n",
              "    border: 2px solid var(--fill-color);\n",
              "    border-color: transparent;\n",
              "    border-bottom-color: var(--fill-color);\n",
              "    animation:\n",
              "      spin 1s steps(1) infinite;\n",
              "  }\n",
              "\n",
              "  @keyframes spin {\n",
              "    0% {\n",
              "      border-color: transparent;\n",
              "      border-bottom-color: var(--fill-color);\n",
              "      border-left-color: var(--fill-color);\n",
              "    }\n",
              "    20% {\n",
              "      border-color: transparent;\n",
              "      border-left-color: var(--fill-color);\n",
              "      border-top-color: var(--fill-color);\n",
              "    }\n",
              "    30% {\n",
              "      border-color: transparent;\n",
              "      border-left-color: var(--fill-color);\n",
              "      border-top-color: var(--fill-color);\n",
              "      border-right-color: var(--fill-color);\n",
              "    }\n",
              "    40% {\n",
              "      border-color: transparent;\n",
              "      border-right-color: var(--fill-color);\n",
              "      border-top-color: var(--fill-color);\n",
              "    }\n",
              "    60% {\n",
              "      border-color: transparent;\n",
              "      border-right-color: var(--fill-color);\n",
              "    }\n",
              "    80% {\n",
              "      border-color: transparent;\n",
              "      border-right-color: var(--fill-color);\n",
              "      border-bottom-color: var(--fill-color);\n",
              "    }\n",
              "    90% {\n",
              "      border-color: transparent;\n",
              "      border-bottom-color: var(--fill-color);\n",
              "    }\n",
              "  }\n",
              "</style>\n",
              "\n",
              "      <script>\n",
              "        async function quickchart(key) {\n",
              "          const quickchartButtonEl =\n",
              "            document.querySelector('#' + key + ' button');\n",
              "          quickchartButtonEl.disabled = true;  // To prevent multiple clicks.\n",
              "          quickchartButtonEl.classList.add('colab-df-spinner');\n",
              "          try {\n",
              "            const charts = await google.colab.kernel.invokeFunction(\n",
              "                'suggestCharts', [key], {});\n",
              "          } catch (error) {\n",
              "            console.error('Error during call to suggestCharts:', error);\n",
              "          }\n",
              "          quickchartButtonEl.classList.remove('colab-df-spinner');\n",
              "          quickchartButtonEl.classList.add('colab-df-quickchart-complete');\n",
              "        }\n",
              "        (() => {\n",
              "          let quickchartButtonEl =\n",
              "            document.querySelector('#df-5f4c3ad1-04a3-4988-8810-cdb76780daa6 button');\n",
              "          quickchartButtonEl.style.display =\n",
              "            google.colab.kernel.accessAllowed ? 'block' : 'none';\n",
              "        })();\n",
              "      </script>\n",
              "    </div>\n",
              "\n",
              "    </div>\n",
              "  </div>\n"
            ],
            "application/vnd.google.colaboratory.intrinsic+json": {
              "type": "dataframe",
              "summary": "{\n  \"name\": \"df\",\n  \"rows\": 8,\n  \"fields\": [\n    {\n      \"column\": \"carat\",\n      \"properties\": {\n        \"dtype\": \"number\",\n        \"std\": 19070.234478413542,\n        \"min\": 0.2,\n        \"max\": 53940.0,\n        \"num_unique_values\": 8,\n        \"samples\": [\n          0.7979397478680014,\n          0.7,\n          53940.0\n        ],\n        \"semantic_type\": \"\",\n        \"description\": \"\"\n      }\n    },\n    {\n      \"column\": \"depth\",\n      \"properties\": {\n        \"dtype\": \"number\",\n        \"std\": 19051.971755068353,\n        \"min\": 1.4326213188337733,\n        \"max\": 53940.0,\n        \"num_unique_values\": 8,\n        \"samples\": [\n          61.749404894327036,\n          61.8,\n          53940.0\n        ],\n        \"semantic_type\": \"\",\n        \"description\": \"\"\n      }\n    },\n    {\n      \"column\": \"table\",\n      \"properties\": {\n        \"dtype\": \"number\",\n        \"std\": 19052.0145920092,\n        \"min\": 2.234490562820938,\n        \"max\": 53940.0,\n        \"num_unique_values\": 8,\n        \"samples\": [\n          57.45718390804598,\n          57.0,\n          53940.0\n        ],\n        \"semantic_type\": \"\",\n        \"description\": \"\"\n      }\n    },\n    {\n      \"column\": \"price\",\n      \"properties\": {\n        \"dtype\": \"number\",\n        \"std\": 18224.294570634513,\n        \"min\": 326.0,\n        \"max\": 53940.0,\n        \"num_unique_values\": 8,\n        \"samples\": [\n          3932.799721913237,\n          2401.0,\n          53940.0\n        ],\n        \"semantic_type\": \"\",\n        \"description\": \"\"\n      }\n    },\n    {\n      \"column\": \"x\",\n      \"properties\": {\n        \"dtype\": \"number\",\n        \"std\": 19068.925494102743,\n        \"min\": 0.0,\n        \"max\": 53940.0,\n        \"num_unique_values\": 8,\n        \"samples\": [\n          5.731157211716722,\n          5.7,\n          53940.0\n        ],\n        \"semantic_type\": \"\",\n        \"description\": \"\"\n      }\n    },\n    {\n      \"column\": \"y\",\n      \"properties\": {\n        \"dtype\": \"number\",\n        \"std\": 19066.500377283075,\n        \"min\": 0.0,\n        \"max\": 53940.0,\n        \"num_unique_values\": 8,\n        \"samples\": [\n          5.734525954764553,\n          5.71,\n          53940.0\n        ],\n        \"semantic_type\": \"\",\n        \"description\": \"\"\n      }\n    },\n    {\n      \"column\": \"z\",\n      \"properties\": {\n        \"dtype\": \"number\",\n        \"std\": 19068.322867939693,\n        \"min\": 0.0,\n        \"max\": 53940.0,\n        \"num_unique_values\": 8,\n        \"samples\": [\n          3.5387337782721544,\n          3.53,\n          53940.0\n        ],\n        \"semantic_type\": \"\",\n        \"description\": \"\"\n      }\n    }\n  ]\n}"
            }
          },
          "metadata": {},
          "execution_count": 20
        }
      ],
      "source": [
        "df.describe()"
      ]
    },
    {
      "cell_type": "markdown",
      "metadata": {
        "id": "GoBsuEyJYbkE"
      },
      "source": [
        "우리는 데이터 한 건마다 갖게 되는 속성들을 feature라고 부릅니다. 일반적으로 한 건의 데이터는 행(row)으로 표현되고, 하나의 feature는 열(column)에 해당합니다.  \n",
        "\n",
        "feature는 성격에 따라 크게 연속형 변수(continuous variable)와 범주형 변수(categorical variable)로 나눌 수 있습니다.  \n",
        "\n",
        "- **연속형 변수(Continuous Variable)**  \n",
        "  - 수치가 연속적인 스펙트럼을 이루며, 실수 형태로 측정됩니다.  \n",
        "  - 예시: 키(cm), 몸무게(kg), 가격(USD), 온도(°C), 시간 간격(초)  \n",
        "  - 머신러닝 전처리: 표준화(Standardization), 정규화(Normalization) 등을 통해 서로 다른 단위와 범위를 조정해야 합니다.  \n",
        "\n",
        "- **범주형 변수(Categorical Variable)**\n",
        "  - 유한 개의 범주 또는 등급으로 구분됩니다.  \n",
        "  - 명목형(Nominal): 성별(남·여), 혈액형(A·B·O·AB), 색상(빨강·초록·파랑)  \n",
        "  - 순서형(Ordinal): 만족도(매우 불만족→매우 만족), 학위(학사→석사→박사)  \n",
        "  - 머신러닝 전처리: 원-핫 인코딩(One-Hot Encoding), 순서형 인코딩(Ordinal Encoding), 임베딩(Embedding) 등으로 숫자화합니다.  \n",
        "\n",
        "데이터 분석에서 feature의 종류를 정확히 파악하고, 각 변수에 맞는 전처리 방법을 적용하는 일은 모델의 성능을 좌우하는 중요한 첫걸음입니다."
      ]
    },
    {
      "cell_type": "markdown",
      "metadata": {
        "id": "TPLVJjtDajp4"
      },
      "source": [
        "### 🧑‍💻 **실습**: 연속형/범주형 변수 분류하기\n",
        "\n",
        "`diamonds` dataset에서 연속형 변수의 데이터와 범주형 변수의 데이터를 분리할 수 있을까요? 연속형 변수의 칼럼과 범주형 변수의 칼럼을 각각 리스트로 받아보세요."
      ]
    },
    {
      "cell_type": "code",
      "execution_count": 21,
      "metadata": {
        "colab": {
          "base_uri": "https://localhost:8080/"
        },
        "id": "We5M5FcbaiPZ",
        "outputId": "339868a4-aca2-4807-e775-1db097499678"
      },
      "outputs": [
        {
          "output_type": "stream",
          "name": "stdout",
          "text": [
            "✅ 모든 테스트를 통과했습니다!\n"
          ]
        }
      ],
      "source": [
        "# TODO\n",
        "from typing import List\n",
        "\n",
        "# 범주형 변수 추출 (dtype이 'category'인 열)\n",
        "categorical_cols: List[str] = df.select_dtypes(include=['category']).columns.tolist()\n",
        "# 연속형 변수 추출 (숫자형 dtype인 열)\n",
        "continuous_cols: List[str] = df.select_dtypes(include=['number']).columns.tolist()\n",
        "\n",
        "# hint: https://pandas.pydata.org/pandas-docs/stable/reference/api/pandas.DataFrame.select_dtypes.html\n",
        "\n",
        "# 아래는 정답코드입니다. 수정없이 사용해주세요 :)\n",
        "# 기대값 설정\n",
        "expected_cats = {\"cut\", \"color\", \"clarity\"}\n",
        "expected_nums = {\"carat\", \"depth\", \"table\", \"price\", \"x\", \"y\", \"z\"}\n",
        "\n",
        "# 개수 검증\n",
        "assert len(categorical_cols) == 3, f\"범주형 변수 개수는 3이어야 합니다 (현재 {len(categorical_cols)})\"\n",
        "assert len(continuous_cols) == 7, f\"연속형 변수 개수는 7이어야 합니다 (현재 {len(continuous_cols)})\"\n",
        "\n",
        "# 컬럼 이름 검증\n",
        "assert set(categorical_cols) == expected_cats, f\"범주형 컬럼이 예상과 다릅니다: {categorical_cols}\"\n",
        "assert set(continuous_cols) == expected_nums, f\"연속형 컬럼이 예상과 다릅니다: {continuous_cols}\"\n",
        "\n",
        "print(\"✅ 모든 테스트를 통과했습니다!\")"
      ]
    },
    {
      "cell_type": "markdown",
      "metadata": {
        "id": "OLH_HtP-bUzz"
      },
      "source": [
        "성공적으로 연속형/범주형 변수를 분리하였습니다. 첫 번째로 해볼 일은 연속형 변수를 처리하는 가장 기본적인 방식인 표준화 (standardization)입니다.\n",
        "\n",
        "### 표준화(Standardization)의 정의\n",
        "\n",
        "표준화는 데이터의 분포를 평균이 0, 표준편차가 1이 되도록 변환하는 전처리 기법입니다. 이 과정은 Z-점수(z-score) 변환이라고도 하며, 원시 데이터 \\(x\\)를 다음 수식에 따라 계산합니다.\n",
        "\n",
        "<div align=\"center\">\n",
        "$$ Z = \\frac{x - \\mu}{\\sigma} $$\n",
        "</div>\n",
        "\n",
        "### 표준화가 필요한 이유\n",
        "\n",
        "- 스케일 차이에 따른 모델 왜곡 방지 서로 다른 단위와 분포를 가진 특성을 그대로 두면, 일부 특성의 값 범위가 너무 커서 학습 과정에서 다른 특성들이 무시될 수 있습니다. 표준화를 통해 평균 0, 표준편차 1 분포로 조정하면 모든 특성이 동등한 영향력을 갖게 되어 모델 성능을 안정적으로 끌어올릴 수 있습니다.\n",
        "\n",
        "- 마지막에 배울 경사 하강법 수렴 가속 손실 함수 표면의 곡률이 표준화되지 않은 입력으로 인해 왜곡되면, 경사 하강법이 어느 방향으로 얼마나 이동해야 할지 예측하기 어렵습니다. 표준화는 손실 함수의 등고선을 원형에 가깝게 만들어 학습 속도를 높이고 지역 수렴(local convergence)을 줄여줍니다.\n",
        "\n",
        "- 이상치 탐지 및 해석 용이 특성별로 Z-점수를 계산하면 평균에서 벗어난 정도를 직관적으로 비교할 수 있어 이상치(outlier)를 식별하기가 쉬워집니다.\n",
        "\n",
        "- 거리 기반 알고리즘 안정화 k-최근접이웃(KNN), k-평균 클러스터링과 같은 거리 기반 알고리즘에서, 특성의 단위나 범위가 다르면 특정 특성이 지나치게 큰 가중치를 갖습니다. 표준화를 적용하면 모든 특성 거리가 동일 스케일로 계산되어 알고리즘의 공정성과 신뢰성이 높아집니다."
      ]
    },
    {
      "cell_type": "markdown",
      "metadata": {
        "id": "VgqXXIgteAw0"
      },
      "source": [
        "### 🧑‍💻 **실습**: 표준화 진행해보기"
      ]
    },
    {
      "cell_type": "code",
      "execution_count": 22,
      "metadata": {
        "colab": {
          "base_uri": "https://localhost:8080/"
        },
        "id": "ccc9c8t4aiPZ",
        "outputId": "f91ec538-be99-42f0-f56e-632749e0508b"
      },
      "outputs": [
        {
          "output_type": "stream",
          "name": "stdout",
          "text": [
            "✅ 평균·표준편차 계산 및 표준화가 올바르게 수행되었습니다!\n"
          ]
        }
      ],
      "source": [
        "# TODO\n",
        "# 1. 앞에서 만들어낸 `continuous_cols`를 이용하여 연속형 변수만 담겨져있는 `X_raw`를 만들어주세요.\n",
        "continuous_cols = df.select_dtypes(include=['number']).columns.tolist()\n",
        "X_raw: np.ndarray = df[continuous_cols].values\n",
        "\n",
        "# 2. 각 열의 평균을 계산하여 mu에 할당하세요.\n",
        "mu: np.ndarray = X_raw.mean(axis=0)\n",
        "\n",
        "# 3. 각 열의 표준편차를 계산하여 sigma에 할당하세요.\n",
        "# 표준화 과정에서 분모에 등장하는 sigma에 0이 포함되는 경우 문제가 생깁니다.\n",
        "# 추가로 혹시 모를 안전 장치를 취해볼까요? (별도의 테스트코드는 없습니다)\n",
        "sigma: np.ndarray =  X_raw.std(axis=0)\n",
        "sigma = np.where(sigma == 0, 1, sigma)\n",
        "\n",
        "# 4. 브로드캐스팅을 활용해 (X_raw - mu) / sigma 형태로 표준화를 수행하고 X_norm에 저장하세요.\n",
        "X_norm: np.ndarray = (X_raw - mu) / sigma\n",
        "\n",
        "\n",
        "# 정답 확인용 코드입니다. 수정하지 않고 이용해주세요\n",
        "mu_expected    = np.mean(X_raw, axis=0)\n",
        "sigma_expected = np.std(X_raw, axis=0)\n",
        "X_norm_expected = (X_raw - mu_expected) / sigma_expected\n",
        "\n",
        "# 모양(shape) 검증\n",
        "assert mu.shape     == mu_expected.shape,     f\"mu shape mismatch: {mu.shape} vs {mu_expected.shape}\"\n",
        "assert sigma.shape  == sigma_expected.shape,  f\"sigma shape mismatch: {sigma.shape} vs {sigma_expected.shape}\"\n",
        "assert X_norm.shape == X_norm_expected.shape, f\"X_norm shape mismatch: {X_norm.shape} vs {X_norm_expected.shape}\"\n",
        "\n",
        "# 값 검증 (허용 오차 내에서 비교)\n",
        "np.testing.assert_allclose(mu,    mu_expected,    rtol=1e-6, atol=1e-8)\n",
        "np.testing.assert_allclose(sigma, sigma_expected, rtol=1e-6, atol=1e-8)\n",
        "np.testing.assert_allclose(X_norm, X_norm_expected, rtol=1e-6, atol=1e-8)\n",
        "\n",
        "print(\"✅ 평균·표준편차 계산 및 표준화가 올바르게 수행되었습니다!\")"
      ]
    },
    {
      "cell_type": "markdown",
      "metadata": {
        "id": "XAgts2zugYod"
      },
      "source": [
        "# 2. 선형대수를 이용한 해법\n",
        "\n",
        "1. 학습 목표  \n",
        "  - 역행렬 계산의 수치적 불안정성을 이해한다.  \n",
        "  - `lstsq`와 SVD 기반 유사역행렬을 통해 더 안정적인 해 찾기 방법을 익힌다.  \n",
        "\n",
        "2. 학습 개념  \n",
        "  - 정규 방정식(Normal Equation)  \n",
        "    $$\\theta = (X_b^T X_b)^{-1} X_b^T y$$\n",
        "    - 역행렬 계산 시 행렬 조건수에 따른 불안정성 발생  \n",
        "  - 최소제곱법(`np.linalg.lstsq`)  \n",
        "    - 잔차 제곱합을 최소화하여 해를 직접 계산\n",
        "- 특이값 분해(SVD)와 유사역행렬(Pseudo-inverse)  \n",
        "  $ X_b = U \\,\\Sigma\\, V^T\\ $로 분해 후 $\\Sigma^+$ 구성\n",
        "  <br>$\\theta = V\\,\\Sigma^+\\,U^T\\,y$계산  \n",
        "\n",
        "3. 진행하는 실습 요약  \n",
        "  - `np.linalg.lstsq(X_b, y)` 호출로 간편히 최적 $\\theta$ 구하기  \n",
        "  - `np.linalg.svd(X_b)`로 U, Σ, Vᵀ 분해  \n",
        "  - Σ의 역수로 Σ⁺를 만들고 유사역행렬 조합 후 $\\theta$"
      ]
    },
    {
      "cell_type": "markdown",
      "metadata": {
        "id": "pD8loQEPnM2G"
      },
      "source": [
        "## 2.1 정규방정식(Normal Equation)\n",
        "\n",
        "### 2.1.1 선형회귀란? (Linear Regression)\n",
        "\n",
        "각 샘플 $(i)$에 대해 연속형 특성 벡터 $\\mathbf{x}^{(i)} \\in \\mathbb{R}^n$와 목표값 $y^{(i)}$가 있을 때, 회귀 모델은 다음과 같이 작성할 수 있습니다.\n",
        "\n",
        "$$\n",
        "\\hat y^{(i)}\n",
        "= \\theta_0 + \\theta_1\\,x^{(i)}_1 + \\cdots + \\theta_n\\,x^{(i)}_n\n",
        "\\quad\\Longleftrightarrow\\quad\n",
        "\\hat y = \\mathbf{X}_b\\,\\boldsymbol{\\theta}\n",
        "$$\n",
        "\n",
        "- $\\mathbf{X}_b \\in \\mathbb{R}^{m \\times (n+1)}$: 각 행이 $[1,\\,x_1,\\dots,x_n]$인 설계 행렬  \n",
        "- $\\boldsymbol{\\theta} \\in \\mathbb{R}^{n+1}$: 절편 $\\theta_0$와 가중치 $\\theta_{1:n}$의 벡터  \n",
        "- $m$: 샘플 수\n",
        "- 우리의 예시의 경우, 연속형 변수들에 어떤 선형계수를 곱해서 합하면 `price`를 예측할 수 있는가?를 보는 것.\n",
        "\n",
        "### 2.1.2 비용 함수\n",
        "\n",
        "- 올바른 선형계수를 찾기 위해서는, 현재 선형계수가 얼마나 모델을 잘 설명하는가 나타내는 '지표'가 필요합니다. 보통은 비용 함수 (Cost function, $J$)를 통해 얼마나 현재 선형계수가 `price`를 잘 예측하는지 확인할 수 있습니다.\n",
        "- 선형회귀와 같은 회귀 (regression) 모델에서는 평균 제곱 오차(MSE)를 비용함수로 많이 사용합니다. 수식은 다음과 같습니다. 예측값과 실제값 사이의 차를 나타내기 때문에, 0에 가까울수록 현재 선형계수들이 `price`를 잘 예측한다고 볼 수 있습니다.\n",
        "\n",
        "$$\n",
        "J(\\boldsymbol{\\theta})\n",
        "= \\frac{1}{2m}\\sum_{i=1}^m \\bigl(\\hat y^{(i)} - y^{(i)}\\bigr)^2\n",
        "= \\frac{1}{2m}(\\mathbf{X}_b\\boldsymbol{\\theta} - \\mathbf{y})^\\mathsf{T}(\\mathbf{X}_b\\boldsymbol{\\theta}-\\mathbf{y})\n",
        "$$\n",
        "\n",
        "### 2.1.3 최적화 조건 → 정규방정식\n",
        "\n",
        "- 고등학교 때 배운 미분을 생각해봅시다. 미분이 0이되는 지점은 해당 함수의 값이 변하지 않는 지점으로, 조건에 따라 함수의 최대값 혹은 최소값을 나타냅니다. 현재 우리의 비용 함수는 변수 $\\theta$에 대한 2차 함수이기 때문에 미분을 0으로 만드는 선형계수를 찾으면 우리는 비용 함수를 최소화하는(즉, `price`를 가장 잘 예측하는) 선형계수를 찾았다고 할 수 있습니다.\n",
        "- 미분이 0이 되는 지점은 해석적으로 다음과 같이 풀어봅시다.\n",
        "\n",
        "$$\n",
        "\\frac{\\partial J}{\\partial \\boldsymbol{\\theta}}\n",
        "= \\frac{1}{m}\\,\\mathbf{X}_b^\\mathsf{T}(\\mathbf{X}_b\\boldsymbol{\\theta} - \\mathbf{y})\n",
        "= 0\n",
        "\\quad\\Longrightarrow\\quad\n",
        "\\mathbf{X}_b^\\mathsf{T}\\mathbf{X}_b \\,\\boldsymbol{\\theta}\n",
        "= \\mathbf{X}_b^\\mathsf{T}\\mathbf{y}\n",
        "$$\n",
        "\n",
        "따라서 해는 다음과 같습니다.   \n",
        "$$\n",
        "\\boldsymbol{\\theta}\n",
        "= \\bigl(\\mathbf{X}_b^\\mathsf{T}\\mathbf{X}_b\\bigr)^{-1}\\,\\mathbf{X}_b^\\mathsf{T}\\mathbf{y}\n",
        "$$\n",
        "\n",
        "놀랍게도 선형계수는 이미 데이터와 예측값의 조합을 통해 계산을 할 수 있습니다.\n",
        "\n",
        "### 2.1.4 해석적 해의 장·단점\n",
        "\n",
        "- 장점  \n",
        "  - 단 한 번의 행렬 연산으로 최적 파라미터 계산할 수 있습니다.   \n",
        "- 단점  \n",
        "  1. $\\mathbf{X}_b^\\mathsf{T}\\mathbf{X}_b$가 풀랭크(full rank)가 아닐 때 역행렬 존재 불가  \n",
        "  2. 특성 개수 $n$이 크거나 샘플 수 $m$에 비해 크면 $ O(n^3)$ 복잡도로 느림  \n",
        "  3. 수치적 불안정성: 조건수(condition number)가 크면 작은 노이즈에도 민감  \n"
      ]
    },
    {
      "cell_type": "markdown",
      "metadata": {
        "id": "hsq9GT-4pnkX"
      },
      "source": [
        "### 🧑‍💻 **실습**: 정규방정식 수행해보기\n",
        "\n",
        "단계적으로 정규방정식을 통한 선형계수를 찾아봅시다. 앞에서 정규화한 `X_norm`을 사용합시다.   \n",
        "최종적으로 $\\theta$의 수식의 요소를 하나씩 변수에 할당해준 후에 행렬곱을 진행하면 됩니다 :)\n",
        "\n",
        "여기서 계산한 `X_b`는 남은 실습에서 계속 사용될 예정이니 열심히 만들어주세요!"
      ]
    },
    {
      "cell_type": "code",
      "execution_count": 23,
      "metadata": {
        "id": "b-UdCfts8IQg"
      },
      "outputs": [],
      "source": [
        "# TODO: None으로 채워져있는 코드를 채우며 마무리 해봅시다.\n",
        "# 이번에는 정답확인용 코드를 별도로 두지 않았으나, 후에 시각화를 통해 확인해봅시다.\n",
        "\n",
        "# 편의를 위해 아까 정리한 X_norm을 다시 pd.DataFrame 형태로 만들어주었습니다.\n",
        "import pandas as pd\n",
        "X_df = pd.DataFrame(X_norm, columns=continuous_cols)\n",
        "\n",
        "# 1. X_norm에서 feature인 X와 예측해야하는 대상인 `price` y를 분리해봅시다.\n",
        "X: np.ndarray = X_df.drop(labels=\"price\", axis=1).values\n",
        "y: np.ndarray = X_df[\"price\"].values\n",
        "\n",
        "# 2. 절편항을 추가해줍니다.\n",
        "m, n = X_norm.shape\n",
        "X_b = np.c_[np.ones((m, 1)), X_norm]        # shape = (m, n+1)\n",
        "\n",
        "# 3. 요소별로 계산을 진행해봅시다.\n",
        "# 3-1. 역행렬의 대상인 `X_b^T @ X_b`를 구해 XT_X에 할당해주세요.\n",
        "XT_X  = X_b.T @ X_b                         # shape = (n+1, n+1)\n",
        "# 3-2. 역행렬과 곱해지는 X_b^T @ y`를 구해 XT_y에 할당해주세요.\n",
        "XT_y  = X_b.T @ y                           # shape = (n+1, 1)\n",
        "\n",
        "# 4. 해를 구해주세요.\n",
        "theta = np.linalg.inv(XT_X) @ XT_y         # shape = (n+1, 1)"
      ]
    },
    {
      "cell_type": "markdown",
      "metadata": {
        "id": "w0Z7ekeu8YRw"
      },
      "source": [
        "최적화가 완료된 매개변수 \\theta를 통해 이제 예측을 진행해봅시다."
      ]
    },
    {
      "cell_type": "code",
      "execution_count": 24,
      "metadata": {
        "id": "A1XTsnhZtvVF"
      },
      "outputs": [],
      "source": [
        "# 시각화에 사용할 코드는 제가 미리 짜두었습니다. 있는 그대로 활용해주시면 됩니다 :)\n",
        "import matplotlib.pyplot as plt\n",
        "sns.set_theme()\n",
        "\n",
        "def plot_prediction(y_true: np.ndarray, y_pred: np.ndarray) -> None:\n",
        "  y_true = y_true.flatten()\n",
        "  y_pred = y_pred.flatten()\n",
        "  assert y_true.shape == y_pred.shape, f\"Size mismatch between y_true and y_pred\"\n",
        "\n",
        "  fig, ax = plt.subplots(figsize=(6, 4))\n",
        "\n",
        "  # 회귀선\n",
        "  sns.scatterplot(x=y_true, y=y_pred,\n",
        "                  alpha=0.5, label=\"Model Prediction\", ax=ax)\n",
        "\n",
        "  # 이상적인 예측선\n",
        "  sns.lineplot(x=[y.min(), y.max()],\n",
        "               y=[y.min(), y.max()],\n",
        "               label=\"Ideal Regression\", linestyle=\"--\", color=\"red\")\n",
        "\n",
        "  ax.set_xlabel('Actual Price')\n",
        "  ax.set_ylabel('Predicted Price')\n",
        "  ax.set_title('Actual vs Predicted Price')\n",
        "  fig.tight_layout()"
      ]
    },
    {
      "cell_type": "code",
      "execution_count": 25,
      "metadata": {
        "colab": {
          "base_uri": "https://localhost:8080/",
          "height": 474
        },
        "id": "qzoiaWiEaiPa",
        "outputId": "4a511339-5c01-4a56-addf-e203286a3f2d"
      },
      "outputs": [
        {
          "output_type": "stream",
          "name": "stdout",
          "text": [
            "파라미터 θ:\n",
            " [-2.61349052e-16  2.30926389e-14 -2.33146835e-15 -4.44089210e-16\n",
            "  1.00000000e+00 -1.77635684e-14 -3.55271368e-15  7.99360578e-15]\n",
            "MSE: 0.00\n"
          ]
        },
        {
          "output_type": "display_data",
          "data": {
            "text/plain": [
              "<Figure size 600x400 with 1 Axes>"
            ],
            "image/png": "[encoded data removed]"
          },
          "metadata": {}
        }
      ],
      "source": [
        "# TODO\n",
        "# 5. 마지막으로 모델을 평가해봅시다.\n",
        "# 얻어낸 `theta`와 데이터의 행렬곱을 통하여 예측값인 `y_pred`를 구해보고\n",
        "# 예측값과 실제값 차이를 나타내는 MSE를 계산해봅시다.\n",
        "y_pred = X_b @ theta # shape = (m, 1)\n",
        "mse    = np.mean((y_pred - y)**2)\n",
        "\n",
        "print(\"파라미터 θ:\\n\", theta.flatten())\n",
        "print(f\"MSE: {mse:.2f}\")\n",
        "plot_prediction(y_true=y, y_pred=y_pred)"
      ]
    },
    {
      "cell_type": "markdown",
      "metadata": {
        "id": "Km3MbWTyq7cn"
      },
      "source": [
        "실제로 연구를 진행할 때 MSE가 0이 나오는 완벽한 경우는 찾기가 어렵습니다. 해당 데이터는 연습용 데이터이다보니 최적화가 잘되는 경우입니다.  \n",
        "\n",
        "보통 MSE만 보고 모델이 얼마나 잘하고 있는지 알 수 있지만,어디까지나 평가 지표는 하나의 숫자로 모델의 성능을 보고 이씩 때문에 _데이터 별 예측상황_을 알기는 어렵습니다_. 따라서 모델 학습 중간, 후에 예측값에 대한 시각화를 진행해보는 것은 중요합니다."
      ]
    },
    {
      "cell_type": "markdown",
      "metadata": {
        "id": "tQLCrMqes6Ou"
      },
      "source": [
        "❓ 예측대상인 `price`도 정규화해야할까?\n",
        "\n",
        "- 선형 회귀의 해(θ)는 타깃 $y$의 스케일에 선형 비례합니다.  \n",
        "- 정규방정식이나 `np.linalg.lstsq`로 해를 구할 때는 타깃을 스케일링하지 않아도 수학적으로 전혀 문제가 없습니다.  \n",
        "- 다만  \n",
        "  - 타깃이 매우 큰 값(예: 수백만 단위)일 경우 컴퓨터 숫자 표현 한계로 인해 드물게 수치 안정성이 조금 떨어질 수 있고  \n",
        "  - 경사하강법을 함께 사용한다면 타깃 정규화가 학습 속도와 수렴 품질을 개선할 수 있습니다.  \n",
        "- 실무에서는 최종적으로 원래 단위로 해석하기 위해 예측 후 반드시 역변환(inverse transform)을 적용해야 합니다.  \n",
        "\n",
        "\n",
        "❓ 절편 (intercept) 항에 1을 채우는 이유는 뭘까?\n",
        "\n",
        "- 절편 $\\theta_0$를 표현하려면 항상 1과 곱해지는 입력 특성이 필요합니다.  \n",
        "- 입력 행렬 첫 열을 모두 1로 두면 해석이 직관적입니다. 즉  \n",
        "\n",
        "  $$ \\theta_0 \\times 1 = \\theta_0 $$\n",
        "\n",
        "  이 되어 θ₀가 순수 절편 역할을 합니다.  \n",
        "\n",
        "- 만약 다른 상수 \\(c\\)를 쓰면 예측식이  \n",
        "  $$ \\hat{y} = \\theta_0 \\times c + \\sum_{j=1}^n \\theta_j x_j $$\n",
        "  가 되고, $\\theta_0$ 자체가 절편이 아니라 $\\theta_0 \\times c$가 절편이어서 해석이 복잡해집니다.  \n",
        "- 관례적으로 1을 사용하면 수식도 간결해지고 수치 조건수(condition number) 악화 없이 안정적입니다.  \n"
      ]
    },
    {
      "cell_type": "markdown",
      "metadata": {
        "id": "FYOb_7QAxtp4"
      },
      "source": [
        "## 2.2 최소제곱법(Least Squares)로 해 찾기: `np.linalg.lstsq`\n",
        "\n",
        "### 2.2.1 정규방정식의 불안정성\n",
        "선형회귀 문제를 풀 때 흔히 사용하는 방법은 정규방정식  \n",
        "$$\n",
        "\\theta = \\bigl(X_b^\\mathsf{T} X_b\\bigr)^{-1} X_b^\\mathsf{T} y\n",
        "$$\n",
        "\n",
        "\n",
        "입니다. 하지만 이 방식은 다음과 같은 한계가 있습니다.\n",
        "\n",
        "1. 역행렬 계산의 수치적 불안정성  \n",
        "   - $X_b^\\mathsf{T} X_b$가 거의 특이(singular)에 가까워지면 작은 수치 오차에도 해가 크게 출렁입니다.  \n",
        "   - 고차원·상관관계가 높은(feature들 간에) 데이터일수록 $X_b^\\mathsf{T} X_b$의 조건수가 커집니다.\n",
        "\n",
        "2. 행렬이 완전한 정칙(invertible)이 아닐 때 해를 구할 수 없음  \n",
        "   - 피처가 많거나 중복될수록 $X_b^\\mathsf{T} X_b$가 비가역행렬이 되어 역행렬 계산이 불가능해집니다.\n",
        "\n",
        "---\n",
        "\n",
        "### 2.2.2 `np.linalg.lstsq`의 핵심 원리\n",
        "\n",
        "- 특이값 분해(SVD)를 이용하여 **의사역행렬(pseudoinverse)**을 계산합니다.  \n",
        "- 의사역행렬 $X_b^+$를 통해 최소제곱 해를 구합니다. (기존 정규방정식의 $\\bigl(X_b^\\mathsf{T} X_b\\bigr)^{-1} X_b^\\mathsf{T}$를 대체)\n",
        "  \n",
        "$$ \\theta = X_b^+\\,y $$\n",
        "\n",
        "- 수치 안정성이 높아 극단적인 피처 스케일 차이, 상관관계 과다 문제를 완화합니다.\n",
        "\n",
        "\n",
        "### 2.2.3 최소제곱법의 주요 장점\n",
        "- $X_b^\\mathsf{T} X_b$의 역행렬을 직접 구하지 않아도 됨  \n",
        "- 특이(Singular, 는 거의 특이)한 상황에서도 해를 산출.  \n",
        "- 잔차(residuals), 랭크(rank), 특이값(singular values)을 함께 반환하여 모델 진단이 가능  \n",
        "\n",
        "위와 같은 이유로 정규방정식 계산 대신 `np.linalg.lstsq`를 활용하면  \n",
        "더욱 견고하고 실용적인 선형회귀 해를 얻을 수 있습니다.\n",
        "\n",
        "- 참고: https://numpy.org/doc/stable/reference/generated/numpy.linalg.lstsq.html"
      ]
    },
    {
      "cell_type": "code",
      "execution_count": 26,
      "metadata": {
        "id": "1IR0OzzRttD9"
      },
      "outputs": [],
      "source": [
        "# TODO: `lstsq`를 이용하여 `theta_lstsq`를 구해주세요.\n",
        "theta_lstsq, residuals, rank, singular_vals = np.linalg.lstsq(X_b, y, rcond=None)"
      ]
    },
    {
      "cell_type": "code",
      "execution_count": 27,
      "metadata": {
        "colab": {
          "base_uri": "https://localhost:8080/",
          "height": 474
        },
        "id": "L37LRXoMaiPa",
        "outputId": "b034ac54-fa8e-4778-fc36-487c38517e99"
      },
      "outputs": [
        {
          "output_type": "stream",
          "name": "stdout",
          "text": [
            "파라미터 θ:\n",
            " [ 3.25060105e-17 -6.21031004e-16 -1.80411242e-16 -1.58727198e-16\n",
            "  1.00000000e+00  5.96460273e-16 -1.96349013e-16  3.13984949e-16]\n",
            "MSE: 0.00\n"
          ]
        },
        {
          "output_type": "display_data",
          "data": {
            "text/plain": [
              "<Figure size 600x400 with 1 Axes>"
            ],
            "image/png": "[encoded data removed]"
          },
          "metadata": {}
        }
      ],
      "source": [
        "# TODO\n",
        "# 마지막으로 모델을 평가해봅시다.\n",
        "# 얻어낸 `theta_lstsq`와 데이터의 행렬곱을 통하여 예측값인 `y_pred`를 구해보고\n",
        "# 예측값과 실제값 차이를 나타내는 MSE를 계산해봅시다.\n",
        "y_pred = X_b @ theta_lstsq\n",
        "mse    = np.mean((y_pred - y)**2)\n",
        "\n",
        "print(\"파라미터 θ:\\n\", theta_lstsq.flatten())\n",
        "print(f\"MSE: {mse:.2f}\")\n",
        "plot_prediction(y_true=y, y_pred=y_pred)"
      ]
    },
    {
      "cell_type": "markdown",
      "metadata": {
        "id": "LyCyBoJJ3T_7"
      },
      "source": [
        "## 2.3 SVD를 이용한 최소제곱 해 구하기\n",
        "\n",
        "SVD(특이값 분해, Singular Value Decomposition)는 임의의 행렬 $A\\in\\mathbb{R}^{m\\times n}$를  \n",
        "\n",
        "$$\n",
        "A = U\\,\\Sigma\\,V^\\mathsf{T}  \n",
        "$$\n",
        "\n",
        "  \n",
        "으로 분해하는 기법입니다. 여기서  \n",
        "- $U\\in\\mathbb{R}^{m\\times r}$와 $V\\in\\mathbb{R}^{n\\times r}$는 직교 행렬 (orthogonal)\n",
        "- $\\Sigma\\in\\mathbb{R}^{r\\times r}$는 특이값을 대각으로 가진 대각 행렬이며 $r=\\mathrm{rank}(A)$입니다.  \n",
        "\n",
        "SVD를 이용하면 최소제곱 해를 닫힌 형식으로 구할 수 있습니다. pseudoinverse $\\Sigma^+$를 정의하면  \n",
        "\n",
        "$$\n",
        "\\Sigma^+_{ii} = \\frac{1}{\\Sigma_{ii}}\\quad(\\Sigma_{ii}>0)\n",
        "$$\n",
        "\n",
        "\n",
        "이고, 이때  \n",
        "\n",
        "\n",
        "$$ x^* = A^+ b = V\\,\\Sigma^+\\,U^\\mathsf{T} b\n",
        "$$\n",
        "\n",
        "\n",
        "로 최소제곱 해 $\\min_x\\|Ax - b\\|_2^2$를 얻게 됩니다.  \n",
        "\n",
        "`np.linalg.lstsq`와 달리 직접 SVD (`np.linalg.svd`)를 사용하면  \n",
        "- 특이값 절단(threshold)을 직접 제어할 수 있고  \n",
        "- $U, \\Sigma, V^\\mathsf{T}$를 학습이나 시각화용으로 바로 활용할 수 있으며  \n",
        "- 정규화(regularization)나 저차원 근사(rank-truncated) 해법 설계가 수월해집니다.\n",
        "- 참고: https://numpy.org/doc/stable/reference/generated/numpy.linalg.svd.html  "
      ]
    },
    {
      "cell_type": "code",
      "execution_count": 28,
      "metadata": {
        "id": "oQ4e0cvp2cdm"
      },
      "outputs": [],
      "source": [
        "# TODO:\n",
        "# SVD를 수행하여 해를 구해봅시다.\n",
        "\n",
        "# 1. SVD를 수행하여 U, S, V^T를 구해봅시다.\n",
        "U, S, Vt = np.linalg.svd(X_b, full_matrices=False)\n",
        "\n",
        "# 2. Pseudo-inverse S_plus를 구해봅시다.\n",
        "S_plus = np.diag(1.0 / S)\n",
        "\n",
        "# 3. 앞서 배운 수식을 참고하여 `theta_svd`를 구해봅시다\n",
        "theta_svd = Vt.T @ S_plus @ U.T @ y"
      ]
    },
    {
      "cell_type": "code",
      "execution_count": 29,
      "metadata": {
        "colab": {
          "base_uri": "https://localhost:8080/",
          "height": 474
        },
        "id": "hcCTC5AVaiPb",
        "outputId": "32f10697-0ad9-4170-e663-171ada190f1d"
      },
      "outputs": [
        {
          "output_type": "stream",
          "name": "stdout",
          "text": [
            "파라미터 θ:\n",
            " [ 1.96023753e-16  2.60208521e-16 -2.26598254e-16 -3.32850067e-16\n",
            "  1.00000000e+00  4.99600361e-16 -6.77192677e-16  1.51625674e-16]\n",
            "MSE: 0.00\n"
          ]
        },
        {
          "output_type": "display_data",
          "data": {
            "text/plain": [
              "<Figure size 600x400 with 1 Axes>"
            ],
            "image/png": "[encoded data removed]"
          },
          "metadata": {}
        }
      ],
      "source": [
        "# TODO\n",
        "# 마지막으로 모델을 평가해봅시다.\n",
        "# 얻어낸 `theta_svd`와 데이터의 행렬곱을 통하여 예측값인 `y_pred`를 구해보고\n",
        "# 예측값과 실제값 차이를 나타내는 MSE를 계산해봅시다.\n",
        "y_pred = X_b @ theta_svd\n",
        "mse    = np.mean((y_pred - y)**2)\n",
        "\n",
        "print(\"파라미터 θ:\\n\", theta_svd.flatten())\n",
        "print(f\"MSE: {mse:.2f}\")\n",
        "plot_prediction(y_true=y, y_pred=y_pred)"
      ]
    },
    {
      "cell_type": "markdown",
      "metadata": {
        "id": "Cb2adBve6J3S"
      },
      "source": [
        "# 3. 경사 하강법과 손실 계산\n",
        "\n",
        "### 3.1 왜 경사 하강법을 사용해야 할까?\n",
        "\n",
        "선형대수 기반의 닫힌 형식 해법(정규방정식, SVD 등)은  \n",
        "- $X_b^\\mathsf{T}X_b$의 역행렬 계산 또는 전체 행렬 분해가 필요합니다.\n",
        "- 특성 수($n$)나 데이터 수 ($m$)가 커지면 메모리와 연산량이 **급격히** 증가합니다.  \n",
        "\n",
        "경사 하강법은  \n",
        "- 배치(batch), 미니배치(mini-batch), 온라인(online) 방식으로 데이터를 나누어 처리해 **메모리 제약을 완화**하고 대규모 데이터에 유연하게 대응할 수 있습니다.  \n",
        "- 정규화 항이나 비선형 손실 함수에도 쉽게 확장 가능해 딥러닝 등 넓은 영역에서 핵심 기법으로 쓰입니다.  \n",
        "\n",
        "\n",
        "### 3.2 손실 함수(MSE) 계산\n",
        "\n",
        "모델 예측 $\\hat y = X_b\\,\\theta$와 실제 $y$ 사이의 평균 제곱 오차는 앞선 2.1 정규방정식에서 다룬 손실함수와 동일합니다.\n",
        "$$\n",
        "\\mathrm{J(\\theta)} = \\frac{1}{m}\\sum_{i=1}^{m}\\bigl(\\hat y_i - y_i\\bigr)^2\n",
        "$$\n",
        "\n",
        "학습 반복마다 MSE를 계산해 `loss_history`에 저장하면  \n",
        "- 수렴 과정을 시각화  \n",
        "- 학습률 스케줄링 또는 조기 종료(early stopping) 기준  \n",
        "로 활용할 수 있습니다.  \n",
        "\n",
        "\n",
        "### 3.3 그래디언트 계산 및 업데이트\n",
        "선형 회귀 MSE의 파라미터 $\\theta$에 대한 그래디언트는  \n",
        "\n",
        "$$\n",
        "\\nabla_\\theta = \\frac{2}{m}\\,X_b^\\mathsf{T}\\bigl(X_b\\,\\theta - y\\bigr)\n",
        "$$\n",
        "\n",
        "\n",
        "입니다.  \n",
        "\n",
        "학습률 $\\alpha$를 사용한 업데이트 식은  \n",
        "\n",
        "\n",
        "$$\n",
        "\\theta \\leftarrow \\theta - \\alpha\\,\\nabla_\\theta\n",
        "$$\n",
        "\n",
        "\n",
        "로, 기울기가 가리키는 손실 상승 방향의 반대로 이동하면서 손실을 점진적으로 줄여 갑니다.  \n"
      ]
    },
    {
      "cell_type": "code",
      "execution_count": 30,
      "metadata": {
        "colab": {
          "base_uri": "https://localhost:8080/",
          "height": 555
        },
        "id": "E2AxMIEkaiPb",
        "outputId": "fe909a4f-04dd-42f1-c40f-c60966bb12dd"
      },
      "outputs": [
        {
          "output_type": "stream",
          "name": "stderr",
          "text": [
            "100%|██████████| 1000/1000 [00:00<00:00, 1118.86it/s]\n"
          ]
        },
        {
          "output_type": "stream",
          "name": "stdout",
          "text": [
            "최종 θ: [-6.42653087e-17  1.37553160e-01 -4.91584831e-03 -5.51089520e-03\n",
            "  9.32494793e-01 -1.70028629e-02 -2.69295815e-02 -2.96354905e-02]\n",
            "최종 MSE: 0.000854141507526023\n"
          ]
        },
        {
          "output_type": "display_data",
          "data": {
            "text/plain": [
              "<Figure size 640x480 with 1 Axes>"
            ],
            "image/png": "[encoded data removed]"
          },
          "metadata": {}
        }
      ],
      "source": [
        "# TODO: None으로 입력된 부분을 요구사항에 맞춰 수정하며 문제를 풀어주세요\n",
        "from tqdm import tqdm\n",
        "\n",
        "# 1. 초기파라미터 설정\n",
        "theta        = np.zeros(n+1)\n",
        "alpha        = 0.01\n",
        "iterations   = 1000\n",
        "loss_history = []\n",
        "\n",
        "# TODO:\n",
        "# 2. 경사하강법 루프를 만들어봅시다.\n",
        "# 정해진 iterations 수만큼\n",
        "for i in tqdm(range(iterations)):\n",
        "    # 현재 매개변수 `theta`에 의한 예측값 `y_pred`를 계산합니다.\n",
        "    y_pred     = (X_b @ theta).flatten()\n",
        "\n",
        "    # 예측해야하는 실제값 `y`와의 차 `error`를 계산하고,\n",
        "    # `error`를 기반으로 `mse`를 계산해주세요.\n",
        "    error      = y_pred - y\n",
        "    mse        = np.mean(error**2)\n",
        "    loss_history.append(mse)\n",
        "\n",
        "    # 위에서 공부한 식을 토대로 `gradient`를 계산해주세요.\n",
        "    gradient   = (2/m) * X_b.T @ error\n",
        "\n",
        "    # 얻어낸 `gradient`를 기반으로 `theta`를 업데이트해주세요.\n",
        "    theta     -= alpha * gradient\n",
        "\n",
        "# 3. 학습 결과를 시각화해봅시다.\n",
        "print(\"최종 θ:\", theta.flatten())\n",
        "print(\"최종 MSE:\", loss_history[-1])\n",
        "\n",
        "plt.plot(loss_history)\n",
        "plt.xlabel(\"Iteration\", size=\"large\")\n",
        "plt.ylabel(\"Mean Squared Error\", size=\"large\")\n",
        "plt.title(\"Loss Curve\", size=\"large\")\n",
        "plt.show()"
      ]
    },
    {
      "cell_type": "markdown",
      "metadata": {
        "id": "0Ua6isvzV_g_"
      },
      "source": [
        "여기서 고민할만한 점이 많습니다.   \n",
        "❓ **초기설정값, 저렇게하는게 맞나요...?**\n",
        "  - Iterations, 학습률 (alpha), 초기매개변수값 등 모두 저렇게 초기화하는게 정답일까요?\n",
        "  - 사실 정해진 값은 없습니다. 어느 정도 경험으로부터 초기설정되는 것들이 많습니다. 특히 학습률의 경우 학습에서 사실상 가장 큰 영향을 준다고 해도 과언이 아닐 정도로 (값에 따라 수렴하지 않는 경우가 많아서) 중요합니다. 그렇기 때문에 여러번 많은 실험을 통해 좋은 값을 찾아주는 것이 좋습니다.\n",
        "  - Iteration이나 학습률과 같이 _학습되지 않는_ 값들을 우리는 **초매개변수 (Hyperparameters)**라고 부릅니다.\n",
        "\n",
        "❓ **iterations에 도달하기 전에 MSE가 도달할 수도 있지 않나...?**\n",
        "  - 맞습니다. 중간에 트리거를 걸어 목표 손실함수 값에 도달했을 때 루프를 깨고 학습을 멈출 수 있습니다.\n",
        "\n",
        "❓ **미분을 통한 업데이트, 최선인가?**\n",
        "  - 오늘 배운 배치 경사 하강법은 평균 제곱 오차를 미분해 전역 최적해로 수렴 가능한 방법입니다. 하지만  1차 도함수만 이용하기 때문에, 학습률 설정이 부적절하면 진동하거나 느리게 수렴할 수 있습니다.  \n",
        "  - 이런 한계를 보완하기 위해 모멘텀, RMSProp, Adam 같은 고급 최적화 기법을 활용하면 더 빠르고 안정적으로 학습할 수 있습니다. 과제에서 가볍게 구현해봅시다.\n",
        "\n",
        "❓ **학습할 때마다 이 코드를 매번 새로 채우나요?**\n",
        "  - 실무에서는 직접 경사 하강법 코드를 매번 작성하기보다, `scikit-learn`, `TensorFlow`, `PyTorch` 같은 라이브러리의 최적화 함수를 사용합니다.  \n",
        "  - 이들 프레임워크는 학습 루프, 손실 추적, 조기 종료, 다양한 옵티마이저를 추상화해 줍니다.\n",
        "  - 학습 원리를 이해하기 위해 초반에는 수작업 구현이 유익하지만, 규모가 커지면 라이브러리 활용이 생산성을 크게 높입니다.  \n",
        "\n",
        "❓ **데이터가 많을 때도 가능할까?**\n",
        "  - 배치 경사 하강법은 한 번에 전체 데이터(m×n)를 곱연산하기 때문에 매우 큰 데이터셋에서는 메모리와 연산량이 부담이 됩니다.  \n",
        "  - 이를 해결하기 위해 보통 미니배치 경사 하강법(mini-batch GD)이나 확률적 경사 하강법(SGD)을 사용해 한 번에 일부 샘플만 처리합니다.  \n",
        "  - 또한 분산 처리(distributed training)나 GPU 가속을 통해 수십만, 수백만 개의 데이터도 효율적으로 학습할 수 있습니다.  \n",
        "\n",
        "❓ **새로운 데이터에 대해서도 잘되는게 맞나?**\n",
        "  - 잘 생각해보면 최적화를 현재 가지고 있는 모든 데이터에 대해 진행했습니다. 만약 새로운 다이아몬드에 대한 정보가 들어왔을 때 우리는 해당 데이터에 대해서도 최적화한 매개변수가 잘 예측할 수 있을까요?\n",
        "  - 이에 대처하기 위해서는 보유하고 있는 모든 데이터를 최적화에 사용하는 것이 아니라 일부만을 사용하여 학습을 진행한 후, 따로 빼둔 데이터에 대해 검증을 진행합니다. 학습에 사용한 데이터는 보통 Train dataset, 검증에 사용한 데이터셋은 Validation dataset이라 부릅니다.\n",
        "  - 이에 대한 이론적인 내용과 실습은 첫 번째 챕터에서 본격적으로 배운 후 진행해볼 예정입니다 :)"
      ]
    },
    {
      "cell_type": "markdown",
      "metadata": {
        "id": "u-mF7AJ0Znwo"
      },
      "source": [
        "### 🧑‍💻 **실습**: 알고리즘 보완하기\n",
        "\n",
        "위에서 나온 질문들의 해답을 반영해 보완해봅시다. 모아서 함수로 만들어서 진행해봅시다.\n",
        "\n",
        "1. **Early Stopping**: MSE가 이미 0, 혹은 0에 가까운 값에 수렴했다면 굳이 학습을 더 진행할 필요가 없습니다. 따라서 일정 MSE 이하로 떨어졌을 경우 루프를 깨고 학습을 마무리하는 코드를 추가해봅시다.\n",
        "2. **Mini-batch training**: 데이터가 너무 많을 경우 손실 계산과 미분 계산에 있어 연산량이 많아져 계산이 어려운 경우가 있습니다. 이를 보완한 것이 Mini-batch Gradient Descent로 전체 데이터에 대한 미분이 아닌 일부 데이터만을 이용한 미분을 통해 매개변수를 업데이트할 수 있습니다. 이 _일부 데이터_를 `batch`라고 표현합니다. `batch_size`를 지정하여 나눠서 업데이트를 진행해봅시다.\n",
        "  - 참고: https://medium.com/analytics-vidhya/gradient-descent-vs-stochastic-gd-vs-mini-batch-sgd-fbd3a2cb4ba4\n",
        "3. **Gradient Accumulation**은 메모리나 하드웨어 제약으로 한 번에 큰 배치 크기를 사용할 수 없을 때, 작은 미니배치들의 기울기(gradient)를 모아서(accumulate) 한 번에 파라미터를 갱신하는 기법입니다.  \n",
        "  - 보통 `batch_size`를 줄이면 메모리는 절약되지만, 너무 자주 업데이트가 일어나 노이즈가 커지고 통신 오버헤드가 증가합니다.  \n",
        "  - `accumulate_steps`만큼의 미니배치 기울기를 더해 두었다가, 그 누적된 기울기를 한 번에 반영함으로써  \n",
        "    - 효과적으론 큰 `effective_batch_size = batch_size × accumulate_steps`를 사용  \n",
        "    - 메모리 사용량은 낮추면서도 업데이트 빈도와 안정성 사이 균형을 맞출 수 있습니다.  \n",
        "  - 분산 학습 환경에서는 각 워커(worker)마다 미니배치 기울기를 모은 뒤, 중앙 서버에 한 번 전송해 통신량을 크게 줄이는 용도로도 쓰입니다.\n",
        "\n"
      ]
    },
    {
      "cell_type": "code",
      "execution_count": 31,
      "metadata": {
        "id": "_U-PvOk3TLyx"
      },
      "outputs": [],
      "source": [
        "# 중간중간 TODO 부분을 채우며 코드를 완성시켜주세요 :)\n",
        "def train_linear_regression_sequential(\n",
        "    X_b, y,\n",
        "    alpha=0.01,\n",
        "    epochs=100,\n",
        "    tol=None,\n",
        "    batch_size=None,\n",
        "    accumulate_steps=1,\n",
        "):\n",
        "    \"\"\"\n",
        "    Shuffling 없이 순차적으로 미니배치를 구성하는 선형 회귀 학습 함수\n",
        "    X: (m, n) 입력 피처\n",
        "    y: (m,) 타깃\n",
        "    alpha: 학습률\n",
        "    epochs: 전체 반복 횟수\n",
        "    tol: MSE 기준 조기 종료 임계값\n",
        "    batch_size: 미니배치 크기 (None이면 전체 배치)\n",
        "    accumulate_steps: Gradient Accumulation할 배치 수\n",
        "    \"\"\"\n",
        "    m, n = X_b.shape\n",
        "    theta = np.zeros(n) # 파라미터 초기화\n",
        "    history = []\n",
        "\n",
        "    # 이렇게 설정하면 batch_size를 주지 않았을 때 전체 데이터 미분을 사용하게 됩니다\n",
        "    bs = batch_size or m\n",
        "\n",
        "    for epoch in range(1, epochs + 1):\n",
        "        grad_accum = np.zeros_like(theta)\n",
        "        accum_count = 0\n",
        "\n",
        "        # 순차적 미니배치 학습\n",
        "        for start in range(0, m, bs):\n",
        "            # TODO: Mini-batch 구성하기\n",
        "            # 현재 batch 내의 index 시작 위치를 나타내는 `start` 변수를 기반으로\n",
        "            # batch를 구성해줍니다.\n",
        "            end = min(start + bs, m)\n",
        "            X_batch = X_b[start:end]\n",
        "            y_batch = y[start:end]\n",
        "\n",
        "            # TODO: Calculating Gradients on mini-batch\n",
        "            # 현재 batch의 prediction을 계산하기\n",
        "            # prediction과 ground truth 사이 오차 계산하기\n",
        "            # 오차를 기반으로 미분 계산하기\n",
        "            y_pred = X_batch.dot(theta)\n",
        "            error = y_pred - y_batch\n",
        "            grad  = (2 / X_batch.shape[0]) * X_batch.T.dot(error)\n",
        "\n",
        "            grad_accum += grad\n",
        "            accum_count += 1\n",
        "            # 누적된 gradient를 기준으로 업데이트\n",
        "            if accum_count == accumulate_steps or end == m:\n",
        "                theta -= alpha * (grad_accum / accum_count)\n",
        "                grad_accum[:] = 0\n",
        "                accum_count = 0\n",
        "\n",
        "        # TODO: 전체 MSE 계산 및 기록\n",
        "        # batch 별로 MSE를 계산할 수 있지만, 이는 전체 데이터에 대한 것이 아니기 때문에\n",
        "        # 누적된 전체 데이터의 MSE를 계산해줍니다.\n",
        "        # 이는 batch loop를 돌 때 MSE 결과를 저장하여 루프 후 평균을 내거나\n",
        "        # 전체 데이터에 대해 다시 추론을 하는 방식으로 진행할 수 있습니다.\n",
        "        # `print`문을 통하여 중간중간 학습결과를 계속 확인하는 것이 중요합니다.\n",
        "        mse = np.mean((X_b.dot(theta) - y) ** 2)\n",
        "        history.append(mse)\n",
        "        print(f\"Epoch {epoch:3d}/{epochs}    MSE: {mse:.6f}\")\n",
        "\n",
        "        # TODO: Early stopping\n",
        "        # 현재 MSE과 tol을 비교하여 학습을 진행하거나 Loop를 깹니다\n",
        "        if tol is not None and mse < tol:\n",
        "            print(f\"-> Early stopping at epoch {epoch}, MSE={mse:.6f}\")\n",
        "            break\n",
        "\n",
        "    return theta, history"
      ]
    },
    {
      "cell_type": "code",
      "execution_count": 32,
      "metadata": {
        "colab": {
          "base_uri": "https://localhost:8080/"
        },
        "id": "Eayrq41raiPb",
        "outputId": "c5e1f335-a4d6-420d-8929-52e5e8e4c0d0"
      },
      "outputs": [
        {
          "output_type": "stream",
          "name": "stdout",
          "text": [
            "Epoch   1/100    MSE: 0.011780\n",
            "Epoch   2/100    MSE: 0.001087\n",
            "Epoch   3/100    MSE: 0.000188\n",
            "Epoch   4/100    MSE: 0.000063\n",
            "-> Early stopping at epoch 4, MSE=0.000063\n",
            "추정된 θ: [-2.01753996e-03 -5.94139703e-03  1.68627498e-03 -8.50616605e-04\n",
            "  9.89263082e-01  4.42230174e-02 -1.57787694e-02 -1.28863573e-02]\n"
          ]
        }
      ],
      "source": [
        "theta_est, loss_hist = train_linear_regression_sequential(\n",
        "    X_b, y,\n",
        "    alpha=0.01,\n",
        "    epochs=100,\n",
        "    tol=1e-4,\n",
        "    batch_size=32,\n",
        "    accumulate_steps=2\n",
        ")\n",
        "print(\"추정된 θ:\", theta_est)"
      ]
    },
    {
      "cell_type": "markdown",
      "metadata": {
        "id": "8fxR7TTo5t3e"
      },
      "source": [
        "### 🧑‍💻 **실습**: 초기값 변경해보기\n",
        "\n",
        "현재 설정된 초매개변수는 학습이 잘되나요? 값을 변경했을 때 현재 학습이 어떻게 될까요? `alpha` 변수를 0.01이 아닌 0.05, 1.0 혹은 1e-5로 변경하여 학습을 한 번 진행해보세요. 결과가 어떻게 변할까요?"
      ]
    },
    {
      "cell_type": "markdown",
      "metadata": {
        "id": "X7xfsDC_abzg"
      },
      "source": [
        "# 마치며 ...\n",
        "오늘 다루지 않았으나, 추후에 다른 실습에서 다뤄볼 보완점은 다음과 같습니다.   \n",
        "1. **Grid Search**: 여러 가지 초매개변수를 수동으로 바꿔보면서 실험하는 것은 상당히 불쾌한 작업입니다. 이를 조금 더 자동화할 수 있도록 만들어주는 라이브러리가 있는데 과제에서 다뤄보도록 하겠습니다.\n",
        "2. **scikit-learn, pytorch**: 우리가 작성한 이 모든 일련의 과정을 High-level Framework인 scikit-learn이나 pytorch에서는 더 간단하게 수행이 가능합니다. 이 또한 추후에 다뤄볼 예정입니다.\n",
        "3. **Different optimiztaion methods**: 오늘 배운 최적화 방법은 가장 기초적인 최적화 방법입니다. 간단하지만 보다 더 쉽게 수렴에 유용한 최적화 방법들은 과제에서 다뤄봅시다.\n",
        "4. **Data Split**: 앞서 언급했듯, 모든 데이터를 학습에 사용하면 문제가 생깁니다. 이를 나눠주는 방법에 대해서도 추후에 다뤄볼 예정입니다."
      ]
    }
  ],
  "metadata": {
    "colab": {
      "provenance": []
    },
    "kernelspec": {
      "display_name": "Python 3 (ipykernel)",
      "language": "python",
      "name": "python3"
    },
    "language_info": {
      "codemirror_mode": {
        "name": "ipython",
        "version": 3
      },
      "file_extension": ".py",
      "mimetype": "text/x-python",
      "name": "python",
      "nbconvert_exporter": "python",
      "pygments_lexer": "ipython3",
      "version": "3.9.12"
    }
  },
  "nbformat": 4,
  "nbformat_minor": 0
}