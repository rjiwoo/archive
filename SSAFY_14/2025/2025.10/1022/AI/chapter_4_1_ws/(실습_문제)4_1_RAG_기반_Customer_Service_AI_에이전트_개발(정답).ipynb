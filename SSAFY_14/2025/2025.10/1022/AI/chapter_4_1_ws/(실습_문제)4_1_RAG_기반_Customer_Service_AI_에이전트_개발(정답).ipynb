{
  "cells": [
    {
      "cell_type": "markdown",
      "metadata": {
        "id": "6dN4xe-5Kn6T"
      },
      "source": [
        "### **Content License Agreement**\n",
        "\n",
        "<font color='red'><b>**WARNING**</b></font> : 본 자료는 삼성청년SW·AI아카데미의 컨텐츠 자산으로, 보안서약서에 의거하여 어떠한 사유로도 임의로 복사, 촬영, 녹음, 복제, 보관, 전송하거나 허가 받지 않은 저장매체를 이용한 보관, 제3자에게 누설, 공개 또는 사용하는 등의 무단 사용 및 불법 배포 시 법적 조치를 받을 수 있습니다."
      ]
    },
    {
      "cell_type": "markdown",
      "metadata": {
        "id": "40na_XFGKuJb"
      },
      "source": [
        "# **Customer Service AI 에이전트 개발 : RAG 기반**\n",
        "\n",
        "## **1. 실습 개요**\n",
        "\n",
        "본 실습은 RAG(Retrieval-Augmented Generation) 기술을 핵심으로 하는 Customer Service AI 에이전트를 개발하는 과정을 학습합니다. AI 온라인 서점 시나리오를 통해, 에이전트가 사용자의 질문을 이해하고, 자체 보유한 지식 기반(배송 정책 등)에서 관련 정보를 검색하여 정확하고 신뢰성 있는 답변을 생성하는 능력을 구축하는 데 초점을 맞춥니다. 텍스트 데이터의 효율적인 처리(청킹, 파싱), 검색 가능한 데이터베이스(Vector Store) 구축, 그리고 검색기(Retriever)를 에이전트의 도구로 활용하는 방법을 단계별로 실습합니다.\n",
        "\n",
        "## **2. 실습 진행 목적 및 배경**\n",
        "\n",
        "*   **목적:** LLM의 정보 한계 및 환각 문제를 극복하고 특정 도메인 지식을 활용하기 위한 핵심 기술인 RAG 파이프라인의 구축 과정을 이해하고 실습하여, 실제 서비스에 적용 가능한 AI 에이전트 개발 역량을 강화합니다.\n",
        "*   **배경:** 현대 AI 챗봇은 단순 대화를 넘어 특정 업무를 수행하거나 전문 지식에 기반한 답변을 제공해야 합니다. RAG는 이러한 요구사항을 충족시키는 효과적인 접근 방식이며, LangChain과 같은 프레임워크는 RAG 시스템 구축을 용이하게 합니다. 본 실습을 통해 RAG의 중요성을 인지하고, 관련 기술 스택(LangChain, Vector Store 등)을 활용하는 실무 역량을 배양합니다.\n",
        "\n",
        "## **3. 실습 수행으로 얻어갈 수 있는 역량**\n",
        "\n",
        "*   **RAG 파이프라인 이해 및 구축 능력:** 데이터 준비(청킹, 파싱), 임베딩, 벡터 스토어 구축, 검색기 생성으로 이어지는 RAG의 전체 흐름을 이해하고 각 구성 요소를 직접 구현할 수 있습니다.\n",
        "*   **텍스트 처리 및 임베딩 활용 능력:** 텍스트 데이터를 효율적으로 분할하는 청킹 기법과 텍스트의 의미를 벡터로 변환하는 임베딩 모델의 역할을 이해하고 활용할 수 있습니다.\n",
        "*   **Vector Store 및 검색기 활용 능력:** Vector Store에 데이터를 저장하고, 저장된 데이터에서 관련 정보를 검색하는 Retriever를 구축하고 활용할 수 있습니다.\n",
        "*   **LangChain 활용 능력:** LangChain 프레임워크를 사용하여 RAG 구성 요소를 연결하고 에이전트의 도구로 통합하는 기본 방법을 습득합니다.\n",
        "\n",
        "## **4. 실습 핵심 내용**\n",
        "\n",
        "*   **환경 설정:** 실습에 필요한 라이브러리(LangChain, Vector Store 관련 라이브러리 등) 설치 및 필요한 API 키(임베딩 모델 사용 시) 설정.\n",
        "*   **텍스트 데이터 준비 및 처리:**\n",
        "    *   **청킹 및 토크나이징 이해:** 텍스트 분할 단위의 개념 이해 및 실습 (실습 1). `chunk_size` 및 `chunk_overlap` 설정에 따른 결과 비교.\n",
        "    *   **자체 데이터 로딩 및 분할:** `TextLoader`를 사용하여 `shipping_policy.txt`와 같은 자체 데이터를 불러오고, `RecursiveCharacterTextSplitter`를 사용하여 검색에 용이한 청크로 분할 (실습 2). 다양한 자료 형식 파싱 및 멀티모달 파서 개념 논의.\n",
        "*   **Vector Store 및 검색기 구축:**\n",
        "    *   **임베딩 생성:** 분할된 텍스트 청크를 임베딩 모델을 사용하여 벡터로 변환.\n",
        "    *   **Vector Store 구축 및 데이터 저장:** ChromaDB와 같은 Vector Store를 설정하고 임베딩된 벡터 데이터 저장.\n",
        "    *   **Retriever 생성:** Vector Store를 기반으로 관련 문서를 검색하는 Retriever 구축.\n",
        "*   **Retriever를 에이전트 도구로 통합:** `create_retriever_tool`을 사용하여 생성된 Retriever를 에이전트가 사용할 수 있는 '배송 정책 검색 도구'와 같은 형태로 정의.\n"
      ]
    },
    {
      "cell_type": "markdown",
      "metadata": {
        "id": "IFH_4wJINVeh"
      },
      "source": [
        "# **Prerequisites**\n",
        "\n",
        "코랩에서 기본적으로 설치된 라이브러리와 새로 설치하는 라이브리리 사이에서 발생하는 의존성 문제입니다. 이는 Python 패키지 관리 구조상, 특정 버전 조합이 완벽히 호환되지 않는 경우가 많기에 발생하고, 강의 실습에 큰 영향을 주지 않는 단순 Error이니 안심하고 실습을 진행해주셔도 됩니다.\n"
      ]
    },
    {
      "cell_type": "code",
      "execution_count": 22,
      "metadata": {
        "colab": {
          "base_uri": "https://localhost:8080/"
        },
        "id": "8gdUtnwsNYBi",
        "outputId": "3ec948c6-b534-4c4d-a749-2f49d56e69a9"
      },
      "outputs": [
        {
          "name": "stdout",
          "output_type": "stream",
          "text": [
            "Requirement already satisfied: langchain-text-splitters==0.3.9 in /usr/local/lib/python3.12/dist-packages (0.3.9)\n",
            "Requirement already satisfied: langchain-core<1.0.0,>=0.3.72 in /usr/local/lib/python3.12/dist-packages (from langchain-text-splitters==0.3.9) (0.3.76)\n",
            "Requirement already satisfied: langsmith>=0.3.45 in /usr/local/lib/python3.12/dist-packages (from langchain-core<1.0.0,>=0.3.72->langchain-text-splitters==0.3.9) (0.4.28)\n",
            "Requirement already satisfied: tenacity!=8.4.0,<10.0.0,>=8.1.0 in /usr/local/lib/python3.12/dist-packages (from langchain-core<1.0.0,>=0.3.72->langchain-text-splitters==0.3.9) (8.5.0)\n",
            "Requirement already satisfied: jsonpatch<2.0,>=1.33 in /usr/local/lib/python3.12/dist-packages (from langchain-core<1.0.0,>=0.3.72->langchain-text-splitters==0.3.9) (1.33)\n",
            "Requirement already satisfied: PyYAML>=5.3 in /usr/local/lib/python3.12/dist-packages (from langchain-core<1.0.0,>=0.3.72->langchain-text-splitters==0.3.9) (6.0.2)\n",
            "Requirement already satisfied: typing-extensions>=4.7 in /usr/local/lib/python3.12/dist-packages (from langchain-core<1.0.0,>=0.3.72->langchain-text-splitters==0.3.9) (4.15.0)\n",
            "Requirement already satisfied: packaging>=23.2 in /usr/local/lib/python3.12/dist-packages (from langchain-core<1.0.0,>=0.3.72->langchain-text-splitters==0.3.9) (25.0)\n",
            "Requirement already satisfied: pydantic>=2.7.4 in /usr/local/lib/python3.12/dist-packages (from langchain-core<1.0.0,>=0.3.72->langchain-text-splitters==0.3.9) (2.11.9)\n",
            "Requirement already satisfied: jsonpointer>=1.9 in /usr/local/lib/python3.12/dist-packages (from jsonpatch<2.0,>=1.33->langchain-core<1.0.0,>=0.3.72->langchain-text-splitters==0.3.9) (3.0.0)\n",
            "Requirement already satisfied: httpx<1,>=0.23.0 in /usr/local/lib/python3.12/dist-packages (from langsmith>=0.3.45->langchain-core<1.0.0,>=0.3.72->langchain-text-splitters==0.3.9) (0.28.1)\n",
            "Requirement already satisfied: orjson>=3.9.14 in /usr/local/lib/python3.12/dist-packages (from langsmith>=0.3.45->langchain-core<1.0.0,>=0.3.72->langchain-text-splitters==0.3.9) (3.11.3)\n",
            "Requirement already satisfied: requests-toolbelt>=1.0.0 in /usr/local/lib/python3.12/dist-packages (from langsmith>=0.3.45->langchain-core<1.0.0,>=0.3.72->langchain-text-splitters==0.3.9) (1.0.0)\n",
            "Requirement already satisfied: requests>=2.0.0 in /usr/local/lib/python3.12/dist-packages (from langsmith>=0.3.45->langchain-core<1.0.0,>=0.3.72->langchain-text-splitters==0.3.9) (2.32.4)\n",
            "Requirement already satisfied: zstandard>=0.23.0 in /usr/local/lib/python3.12/dist-packages (from langsmith>=0.3.45->langchain-core<1.0.0,>=0.3.72->langchain-text-splitters==0.3.9) (0.25.0)\n",
            "Requirement already satisfied: annotated-types>=0.6.0 in /usr/local/lib/python3.12/dist-packages (from pydantic>=2.7.4->langchain-core<1.0.0,>=0.3.72->langchain-text-splitters==0.3.9) (0.7.0)\n",
            "Requirement already satisfied: pydantic-core==2.33.2 in /usr/local/lib/python3.12/dist-packages (from pydantic>=2.7.4->langchain-core<1.0.0,>=0.3.72->langchain-text-splitters==0.3.9) (2.33.2)\n",
            "Requirement already satisfied: typing-inspection>=0.4.0 in /usr/local/lib/python3.12/dist-packages (from pydantic>=2.7.4->langchain-core<1.0.0,>=0.3.72->langchain-text-splitters==0.3.9) (0.4.1)\n",
            "Requirement already satisfied: anyio in /usr/local/lib/python3.12/dist-packages (from httpx<1,>=0.23.0->langsmith>=0.3.45->langchain-core<1.0.0,>=0.3.72->langchain-text-splitters==0.3.9) (4.10.0)\n",
            "Requirement already satisfied: certifi in /usr/local/lib/python3.12/dist-packages (from httpx<1,>=0.23.0->langsmith>=0.3.45->langchain-core<1.0.0,>=0.3.72->langchain-text-splitters==0.3.9) (2025.8.3)\n",
            "Requirement already satisfied: httpcore==1.* in /usr/local/lib/python3.12/dist-packages (from httpx<1,>=0.23.0->langsmith>=0.3.45->langchain-core<1.0.0,>=0.3.72->langchain-text-splitters==0.3.9) (1.0.9)\n",
            "Requirement already satisfied: idna in /usr/local/lib/python3.12/dist-packages (from httpx<1,>=0.23.0->langsmith>=0.3.45->langchain-core<1.0.0,>=0.3.72->langchain-text-splitters==0.3.9) (3.10)\n",
            "Requirement already satisfied: h11>=0.16 in /usr/local/lib/python3.12/dist-packages (from httpcore==1.*->httpx<1,>=0.23.0->langsmith>=0.3.45->langchain-core<1.0.0,>=0.3.72->langchain-text-splitters==0.3.9) (0.16.0)\n",
            "Requirement already satisfied: charset_normalizer<4,>=2 in /usr/local/lib/python3.12/dist-packages (from requests>=2.0.0->langsmith>=0.3.45->langchain-core<1.0.0,>=0.3.72->langchain-text-splitters==0.3.9) (3.4.3)\n",
            "Requirement already satisfied: urllib3<3,>=1.21.1 in /usr/local/lib/python3.12/dist-packages (from requests>=2.0.0->langsmith>=0.3.45->langchain-core<1.0.0,>=0.3.72->langchain-text-splitters==0.3.9) (2.5.0)\n",
            "Requirement already satisfied: sniffio>=1.1 in /usr/local/lib/python3.12/dist-packages (from anyio->httpx<1,>=0.23.0->langsmith>=0.3.45->langchain-core<1.0.0,>=0.3.72->langchain-text-splitters==0.3.9) (1.3.1)\n",
            "Requirement already satisfied: tiktoken==0.11.0 in /usr/local/lib/python3.12/dist-packages (0.11.0)\n",
            "Requirement already satisfied: regex>=2022.1.18 in /usr/local/lib/python3.12/dist-packages (from tiktoken==0.11.0) (2024.11.6)\n",
            "Requirement already satisfied: requests>=2.26.0 in /usr/local/lib/python3.12/dist-packages (from tiktoken==0.11.0) (2.32.4)\n",
            "Requirement already satisfied: charset_normalizer<4,>=2 in /usr/local/lib/python3.12/dist-packages (from requests>=2.26.0->tiktoken==0.11.0) (3.4.3)\n",
            "Requirement already satisfied: idna<4,>=2.5 in /usr/local/lib/python3.12/dist-packages (from requests>=2.26.0->tiktoken==0.11.0) (3.10)\n",
            "Requirement already satisfied: urllib3<3,>=1.21.1 in /usr/local/lib/python3.12/dist-packages (from requests>=2.26.0->tiktoken==0.11.0) (2.5.0)\n",
            "Requirement already satisfied: certifi>=2017.4.17 in /usr/local/lib/python3.12/dist-packages (from requests>=2.26.0->tiktoken==0.11.0) (2025.8.3)\n",
            "Requirement already satisfied: langchain-community==0.3.27 in /usr/local/lib/python3.12/dist-packages (0.3.27)\n",
            "Requirement already satisfied: langchain-core<1.0.0,>=0.3.66 in /usr/local/lib/python3.12/dist-packages (from langchain-community==0.3.27) (0.3.76)\n",
            "Requirement already satisfied: langchain<1.0.0,>=0.3.26 in /usr/local/lib/python3.12/dist-packages (from langchain-community==0.3.27) (0.3.27)\n",
            "Requirement already satisfied: SQLAlchemy<3,>=1.4 in /usr/local/lib/python3.12/dist-packages (from langchain-community==0.3.27) (2.0.43)\n",
            "Requirement already satisfied: requests<3,>=2 in /usr/local/lib/python3.12/dist-packages (from langchain-community==0.3.27) (2.32.4)\n",
            "Requirement already satisfied: PyYAML>=5.3 in /usr/local/lib/python3.12/dist-packages (from langchain-community==0.3.27) (6.0.2)\n",
            "Requirement already satisfied: aiohttp<4.0.0,>=3.8.3 in /usr/local/lib/python3.12/dist-packages (from langchain-community==0.3.27) (3.12.15)\n",
            "Requirement already satisfied: tenacity!=8.4.0,<10,>=8.1.0 in /usr/local/lib/python3.12/dist-packages (from langchain-community==0.3.27) (8.5.0)\n",
            "Requirement already satisfied: dataclasses-json<0.7,>=0.5.7 in /usr/local/lib/python3.12/dist-packages (from langchain-community==0.3.27) (0.6.7)\n",
            "Requirement already satisfied: pydantic-settings<3.0.0,>=2.4.0 in /usr/local/lib/python3.12/dist-packages (from langchain-community==0.3.27) (2.10.1)\n",
            "Requirement already satisfied: langsmith>=0.1.125 in /usr/local/lib/python3.12/dist-packages (from langchain-community==0.3.27) (0.4.28)\n",
            "Requirement already satisfied: httpx-sse<1.0.0,>=0.4.0 in /usr/local/lib/python3.12/dist-packages (from langchain-community==0.3.27) (0.4.1)\n",
            "Requirement already satisfied: numpy>=1.26.2 in /usr/local/lib/python3.12/dist-packages (from langchain-community==0.3.27) (2.0.2)\n",
            "Requirement already satisfied: aiohappyeyeballs>=2.5.0 in /usr/local/lib/python3.12/dist-packages (from aiohttp<4.0.0,>=3.8.3->langchain-community==0.3.27) (2.6.1)\n",
            "Requirement already satisfied: aiosignal>=1.4.0 in /usr/local/lib/python3.12/dist-packages (from aiohttp<4.0.0,>=3.8.3->langchain-community==0.3.27) (1.4.0)\n",
            "Requirement already satisfied: attrs>=17.3.0 in /usr/local/lib/python3.12/dist-packages (from aiohttp<4.0.0,>=3.8.3->langchain-community==0.3.27) (25.3.0)\n",
            "Requirement already satisfied: frozenlist>=1.1.1 in /usr/local/lib/python3.12/dist-packages (from aiohttp<4.0.0,>=3.8.3->langchain-community==0.3.27) (1.7.0)\n",
            "Requirement already satisfied: multidict<7.0,>=4.5 in /usr/local/lib/python3.12/dist-packages (from aiohttp<4.0.0,>=3.8.3->langchain-community==0.3.27) (6.6.4)\n",
            "Requirement already satisfied: propcache>=0.2.0 in /usr/local/lib/python3.12/dist-packages (from aiohttp<4.0.0,>=3.8.3->langchain-community==0.3.27) (0.3.2)\n",
            "Requirement already satisfied: yarl<2.0,>=1.17.0 in /usr/local/lib/python3.12/dist-packages (from aiohttp<4.0.0,>=3.8.3->langchain-community==0.3.27) (1.20.1)\n",
            "Requirement already satisfied: marshmallow<4.0.0,>=3.18.0 in /usr/local/lib/python3.12/dist-packages (from dataclasses-json<0.7,>=0.5.7->langchain-community==0.3.27) (3.26.1)\n",
            "Requirement already satisfied: typing-inspect<1,>=0.4.0 in /usr/local/lib/python3.12/dist-packages (from dataclasses-json<0.7,>=0.5.7->langchain-community==0.3.27) (0.9.0)\n",
            "Requirement already satisfied: langchain-text-splitters<1.0.0,>=0.3.9 in /usr/local/lib/python3.12/dist-packages (from langchain<1.0.0,>=0.3.26->langchain-community==0.3.27) (0.3.9)\n",
            "Requirement already satisfied: pydantic<3.0.0,>=2.7.4 in /usr/local/lib/python3.12/dist-packages (from langchain<1.0.0,>=0.3.26->langchain-community==0.3.27) (2.11.9)\n",
            "Requirement already satisfied: jsonpatch<2.0,>=1.33 in /usr/local/lib/python3.12/dist-packages (from langchain-core<1.0.0,>=0.3.66->langchain-community==0.3.27) (1.33)\n",
            "Requirement already satisfied: typing-extensions>=4.7 in /usr/local/lib/python3.12/dist-packages (from langchain-core<1.0.0,>=0.3.66->langchain-community==0.3.27) (4.15.0)\n",
            "Requirement already satisfied: packaging>=23.2 in /usr/local/lib/python3.12/dist-packages (from langchain-core<1.0.0,>=0.3.66->langchain-community==0.3.27) (25.0)\n",
            "Requirement already satisfied: httpx<1,>=0.23.0 in /usr/local/lib/python3.12/dist-packages (from langsmith>=0.1.125->langchain-community==0.3.27) (0.28.1)\n",
            "Requirement already satisfied: orjson>=3.9.14 in /usr/local/lib/python3.12/dist-packages (from langsmith>=0.1.125->langchain-community==0.3.27) (3.11.3)\n",
            "Requirement already satisfied: requests-toolbelt>=1.0.0 in /usr/local/lib/python3.12/dist-packages (from langsmith>=0.1.125->langchain-community==0.3.27) (1.0.0)\n",
            "Requirement already satisfied: zstandard>=0.23.0 in /usr/local/lib/python3.12/dist-packages (from langsmith>=0.1.125->langchain-community==0.3.27) (0.25.0)\n",
            "Requirement already satisfied: python-dotenv>=0.21.0 in /usr/local/lib/python3.12/dist-packages (from pydantic-settings<3.0.0,>=2.4.0->langchain-community==0.3.27) (1.1.1)\n",
            "Requirement already satisfied: typing-inspection>=0.4.0 in /usr/local/lib/python3.12/dist-packages (from pydantic-settings<3.0.0,>=2.4.0->langchain-community==0.3.27) (0.4.1)\n",
            "Requirement already satisfied: charset_normalizer<4,>=2 in /usr/local/lib/python3.12/dist-packages (from requests<3,>=2->langchain-community==0.3.27) (3.4.3)\n",
            "Requirement already satisfied: idna<4,>=2.5 in /usr/local/lib/python3.12/dist-packages (from requests<3,>=2->langchain-community==0.3.27) (3.10)\n",
            "Requirement already satisfied: urllib3<3,>=1.21.1 in /usr/local/lib/python3.12/dist-packages (from requests<3,>=2->langchain-community==0.3.27) (2.5.0)\n",
            "Requirement already satisfied: certifi>=2017.4.17 in /usr/local/lib/python3.12/dist-packages (from requests<3,>=2->langchain-community==0.3.27) (2025.8.3)\n",
            "Requirement already satisfied: greenlet>=1 in /usr/local/lib/python3.12/dist-packages (from SQLAlchemy<3,>=1.4->langchain-community==0.3.27) (3.2.4)\n",
            "Requirement already satisfied: anyio in /usr/local/lib/python3.12/dist-packages (from httpx<1,>=0.23.0->langsmith>=0.1.125->langchain-community==0.3.27) (4.10.0)\n",
            "Requirement already satisfied: httpcore==1.* in /usr/local/lib/python3.12/dist-packages (from httpx<1,>=0.23.0->langsmith>=0.1.125->langchain-community==0.3.27) (1.0.9)\n",
            "Requirement already satisfied: h11>=0.16 in /usr/local/lib/python3.12/dist-packages (from httpcore==1.*->httpx<1,>=0.23.0->langsmith>=0.1.125->langchain-community==0.3.27) (0.16.0)\n",
            "Requirement already satisfied: jsonpointer>=1.9 in /usr/local/lib/python3.12/dist-packages (from jsonpatch<2.0,>=1.33->langchain-core<1.0.0,>=0.3.66->langchain-community==0.3.27) (3.0.0)\n",
            "Requirement already satisfied: annotated-types>=0.6.0 in /usr/local/lib/python3.12/dist-packages (from pydantic<3.0.0,>=2.7.4->langchain<1.0.0,>=0.3.26->langchain-community==0.3.27) (0.7.0)\n",
            "Requirement already satisfied: pydantic-core==2.33.2 in /usr/local/lib/python3.12/dist-packages (from pydantic<3.0.0,>=2.7.4->langchain<1.0.0,>=0.3.26->langchain-community==0.3.27) (2.33.2)\n",
            "Requirement already satisfied: mypy-extensions>=0.3.0 in /usr/local/lib/python3.12/dist-packages (from typing-inspect<1,>=0.4.0->dataclasses-json<0.7,>=0.5.7->langchain-community==0.3.27) (1.1.0)\n",
            "Requirement already satisfied: sniffio>=1.1 in /usr/local/lib/python3.12/dist-packages (from anyio->httpx<1,>=0.23.0->langsmith>=0.1.125->langchain-community==0.3.27) (1.3.1)\n",
            "Requirement already satisfied: langchain-openai==0.3.31 in /usr/local/lib/python3.12/dist-packages (0.3.31)\n",
            "Requirement already satisfied: langchain-core<1.0.0,>=0.3.74 in /usr/local/lib/python3.12/dist-packages (from langchain-openai==0.3.31) (0.3.76)\n",
            "Requirement already satisfied: openai<2.0.0,>=1.99.9 in /usr/local/lib/python3.12/dist-packages (from langchain-openai==0.3.31) (1.108.0)\n",
            "Requirement already satisfied: tiktoken<1,>=0.7 in /usr/local/lib/python3.12/dist-packages (from langchain-openai==0.3.31) (0.11.0)\n",
            "Requirement already satisfied: langsmith>=0.3.45 in /usr/local/lib/python3.12/dist-packages (from langchain-core<1.0.0,>=0.3.74->langchain-openai==0.3.31) (0.4.28)\n",
            "Requirement already satisfied: tenacity!=8.4.0,<10.0.0,>=8.1.0 in /usr/local/lib/python3.12/dist-packages (from langchain-core<1.0.0,>=0.3.74->langchain-openai==0.3.31) (8.5.0)\n",
            "Requirement already satisfied: jsonpatch<2.0,>=1.33 in /usr/local/lib/python3.12/dist-packages (from langchain-core<1.0.0,>=0.3.74->langchain-openai==0.3.31) (1.33)\n",
            "Requirement already satisfied: PyYAML>=5.3 in /usr/local/lib/python3.12/dist-packages (from langchain-core<1.0.0,>=0.3.74->langchain-openai==0.3.31) (6.0.2)\n",
            "Requirement already satisfied: typing-extensions>=4.7 in /usr/local/lib/python3.12/dist-packages (from langchain-core<1.0.0,>=0.3.74->langchain-openai==0.3.31) (4.15.0)\n",
            "Requirement already satisfied: packaging>=23.2 in /usr/local/lib/python3.12/dist-packages (from langchain-core<1.0.0,>=0.3.74->langchain-openai==0.3.31) (25.0)\n",
            "Requirement already satisfied: pydantic>=2.7.4 in /usr/local/lib/python3.12/dist-packages (from langchain-core<1.0.0,>=0.3.74->langchain-openai==0.3.31) (2.11.9)\n",
            "Requirement already satisfied: anyio<5,>=3.5.0 in /usr/local/lib/python3.12/dist-packages (from openai<2.0.0,>=1.99.9->langchain-openai==0.3.31) (4.10.0)\n",
            "Requirement already satisfied: distro<2,>=1.7.0 in /usr/local/lib/python3.12/dist-packages (from openai<2.0.0,>=1.99.9->langchain-openai==0.3.31) (1.9.0)\n",
            "Requirement already satisfied: httpx<1,>=0.23.0 in /usr/local/lib/python3.12/dist-packages (from openai<2.0.0,>=1.99.9->langchain-openai==0.3.31) (0.28.1)\n",
            "Requirement already satisfied: jiter<1,>=0.4.0 in /usr/local/lib/python3.12/dist-packages (from openai<2.0.0,>=1.99.9->langchain-openai==0.3.31) (0.11.0)\n",
            "Requirement already satisfied: sniffio in /usr/local/lib/python3.12/dist-packages (from openai<2.0.0,>=1.99.9->langchain-openai==0.3.31) (1.3.1)\n",
            "Requirement already satisfied: tqdm>4 in /usr/local/lib/python3.12/dist-packages (from openai<2.0.0,>=1.99.9->langchain-openai==0.3.31) (4.67.1)\n",
            "Requirement already satisfied: regex>=2022.1.18 in /usr/local/lib/python3.12/dist-packages (from tiktoken<1,>=0.7->langchain-openai==0.3.31) (2024.11.6)\n",
            "Requirement already satisfied: requests>=2.26.0 in /usr/local/lib/python3.12/dist-packages (from tiktoken<1,>=0.7->langchain-openai==0.3.31) (2.32.4)\n",
            "Requirement already satisfied: idna>=2.8 in /usr/local/lib/python3.12/dist-packages (from anyio<5,>=3.5.0->openai<2.0.0,>=1.99.9->langchain-openai==0.3.31) (3.10)\n",
            "Requirement already satisfied: certifi in /usr/local/lib/python3.12/dist-packages (from httpx<1,>=0.23.0->openai<2.0.0,>=1.99.9->langchain-openai==0.3.31) (2025.8.3)\n",
            "Requirement already satisfied: httpcore==1.* in /usr/local/lib/python3.12/dist-packages (from httpx<1,>=0.23.0->openai<2.0.0,>=1.99.9->langchain-openai==0.3.31) (1.0.9)\n",
            "Requirement already satisfied: h11>=0.16 in /usr/local/lib/python3.12/dist-packages (from httpcore==1.*->httpx<1,>=0.23.0->openai<2.0.0,>=1.99.9->langchain-openai==0.3.31) (0.16.0)\n",
            "Requirement already satisfied: jsonpointer>=1.9 in /usr/local/lib/python3.12/dist-packages (from jsonpatch<2.0,>=1.33->langchain-core<1.0.0,>=0.3.74->langchain-openai==0.3.31) (3.0.0)\n",
            "Requirement already satisfied: orjson>=3.9.14 in /usr/local/lib/python3.12/dist-packages (from langsmith>=0.3.45->langchain-core<1.0.0,>=0.3.74->langchain-openai==0.3.31) (3.11.3)\n",
            "Requirement already satisfied: requests-toolbelt>=1.0.0 in /usr/local/lib/python3.12/dist-packages (from langsmith>=0.3.45->langchain-core<1.0.0,>=0.3.74->langchain-openai==0.3.31) (1.0.0)\n",
            "Requirement already satisfied: zstandard>=0.23.0 in /usr/local/lib/python3.12/dist-packages (from langsmith>=0.3.45->langchain-core<1.0.0,>=0.3.74->langchain-openai==0.3.31) (0.25.0)\n",
            "Requirement already satisfied: annotated-types>=0.6.0 in /usr/local/lib/python3.12/dist-packages (from pydantic>=2.7.4->langchain-core<1.0.0,>=0.3.74->langchain-openai==0.3.31) (0.7.0)\n",
            "Requirement already satisfied: pydantic-core==2.33.2 in /usr/local/lib/python3.12/dist-packages (from pydantic>=2.7.4->langchain-core<1.0.0,>=0.3.74->langchain-openai==0.3.31) (2.33.2)\n",
            "Requirement already satisfied: typing-inspection>=0.4.0 in /usr/local/lib/python3.12/dist-packages (from pydantic>=2.7.4->langchain-core<1.0.0,>=0.3.74->langchain-openai==0.3.31) (0.4.1)\n",
            "Requirement already satisfied: charset_normalizer<4,>=2 in /usr/local/lib/python3.12/dist-packages (from requests>=2.26.0->tiktoken<1,>=0.7->langchain-openai==0.3.31) (3.4.3)\n",
            "Requirement already satisfied: urllib3<3,>=1.21.1 in /usr/local/lib/python3.12/dist-packages (from requests>=2.26.0->tiktoken<1,>=0.7->langchain-openai==0.3.31) (2.5.0)\n",
            "Requirement already satisfied: chromadb==1.0.20 in /usr/local/lib/python3.12/dist-packages (1.0.20)\n",
            "Requirement already satisfied: build>=1.0.3 in /usr/local/lib/python3.12/dist-packages (from chromadb==1.0.20) (1.3.0)\n",
            "Requirement already satisfied: pydantic>=1.9 in /usr/local/lib/python3.12/dist-packages (from chromadb==1.0.20) (2.11.9)\n",
            "Requirement already satisfied: pybase64>=1.4.1 in /usr/local/lib/python3.12/dist-packages (from chromadb==1.0.20) (1.4.2)\n",
            "Requirement already satisfied: uvicorn>=0.18.3 in /usr/local/lib/python3.12/dist-packages (from uvicorn[standard]>=0.18.3->chromadb==1.0.20) (0.35.0)\n",
            "Requirement already satisfied: numpy>=1.22.5 in /usr/local/lib/python3.12/dist-packages (from chromadb==1.0.20) (2.0.2)\n",
            "Requirement already satisfied: posthog<6.0.0,>=2.4.0 in /usr/local/lib/python3.12/dist-packages (from chromadb==1.0.20) (5.4.0)\n",
            "Requirement already satisfied: typing-extensions>=4.5.0 in /usr/local/lib/python3.12/dist-packages (from chromadb==1.0.20) (4.15.0)\n",
            "Requirement already satisfied: onnxruntime>=1.14.1 in /usr/local/lib/python3.12/dist-packages (from chromadb==1.0.20) (1.22.1)\n",
            "Requirement already satisfied: opentelemetry-api>=1.2.0 in /usr/local/lib/python3.12/dist-packages (from chromadb==1.0.20) (1.37.0)\n",
            "Requirement already satisfied: opentelemetry-exporter-otlp-proto-grpc>=1.2.0 in /usr/local/lib/python3.12/dist-packages (from chromadb==1.0.20) (1.37.0)\n",
            "Requirement already satisfied: opentelemetry-sdk>=1.2.0 in /usr/local/lib/python3.12/dist-packages (from chromadb==1.0.20) (1.37.0)\n",
            "Requirement already satisfied: tokenizers>=0.13.2 in /usr/local/lib/python3.12/dist-packages (from chromadb==1.0.20) (0.20.3)\n",
            "Requirement already satisfied: pypika>=0.48.9 in /usr/local/lib/python3.12/dist-packages (from chromadb==1.0.20) (0.48.9)\n",
            "Requirement already satisfied: tqdm>=4.65.0 in /usr/local/lib/python3.12/dist-packages (from chromadb==1.0.20) (4.67.1)\n",
            "Requirement already satisfied: overrides>=7.3.1 in /usr/local/lib/python3.12/dist-packages (from chromadb==1.0.20) (7.7.0)\n",
            "Requirement already satisfied: importlib-resources in /usr/local/lib/python3.12/dist-packages (from chromadb==1.0.20) (6.5.2)\n",
            "Requirement already satisfied: grpcio>=1.58.0 in /usr/local/lib/python3.12/dist-packages (from chromadb==1.0.20) (1.75.0)\n",
            "Requirement already satisfied: bcrypt>=4.0.1 in /usr/local/lib/python3.12/dist-packages (from chromadb==1.0.20) (4.3.0)\n",
            "Requirement already satisfied: typer>=0.9.0 in /usr/local/lib/python3.12/dist-packages (from chromadb==1.0.20) (0.17.4)\n",
            "Requirement already satisfied: kubernetes>=28.1.0 in /usr/local/lib/python3.12/dist-packages (from chromadb==1.0.20) (33.1.0)\n",
            "Requirement already satisfied: tenacity>=8.2.3 in /usr/local/lib/python3.12/dist-packages (from chromadb==1.0.20) (8.5.0)\n",
            "Requirement already satisfied: pyyaml>=6.0.0 in /usr/local/lib/python3.12/dist-packages (from chromadb==1.0.20) (6.0.2)\n",
            "Requirement already satisfied: mmh3>=4.0.1 in /usr/local/lib/python3.12/dist-packages (from chromadb==1.0.20) (5.2.0)\n",
            "Requirement already satisfied: orjson>=3.9.12 in /usr/local/lib/python3.12/dist-packages (from chromadb==1.0.20) (3.11.3)\n",
            "Requirement already satisfied: httpx>=0.27.0 in /usr/local/lib/python3.12/dist-packages (from chromadb==1.0.20) (0.28.1)\n",
            "Requirement already satisfied: rich>=10.11.0 in /usr/local/lib/python3.12/dist-packages (from chromadb==1.0.20) (13.9.4)\n",
            "Requirement already satisfied: jsonschema>=4.19.0 in /usr/local/lib/python3.12/dist-packages (from chromadb==1.0.20) (4.25.1)\n",
            "Requirement already satisfied: packaging>=19.1 in /usr/local/lib/python3.12/dist-packages (from build>=1.0.3->chromadb==1.0.20) (25.0)\n",
            "Requirement already satisfied: pyproject_hooks in /usr/local/lib/python3.12/dist-packages (from build>=1.0.3->chromadb==1.0.20) (1.2.0)\n",
            "Requirement already satisfied: anyio in /usr/local/lib/python3.12/dist-packages (from httpx>=0.27.0->chromadb==1.0.20) (4.10.0)\n",
            "Requirement already satisfied: certifi in /usr/local/lib/python3.12/dist-packages (from httpx>=0.27.0->chromadb==1.0.20) (2025.8.3)\n",
            "Requirement already satisfied: httpcore==1.* in /usr/local/lib/python3.12/dist-packages (from httpx>=0.27.0->chromadb==1.0.20) (1.0.9)\n",
            "Requirement already satisfied: idna in /usr/local/lib/python3.12/dist-packages (from httpx>=0.27.0->chromadb==1.0.20) (3.10)\n",
            "Requirement already satisfied: h11>=0.16 in /usr/local/lib/python3.12/dist-packages (from httpcore==1.*->httpx>=0.27.0->chromadb==1.0.20) (0.16.0)\n",
            "Requirement already satisfied: attrs>=22.2.0 in /usr/local/lib/python3.12/dist-packages (from jsonschema>=4.19.0->chromadb==1.0.20) (25.3.0)\n",
            "Requirement already satisfied: jsonschema-specifications>=2023.03.6 in /usr/local/lib/python3.12/dist-packages (from jsonschema>=4.19.0->chromadb==1.0.20) (2025.9.1)\n",
            "Requirement already satisfied: referencing>=0.28.4 in /usr/local/lib/python3.12/dist-packages (from jsonschema>=4.19.0->chromadb==1.0.20) (0.36.2)\n",
            "Requirement already satisfied: rpds-py>=0.7.1 in /usr/local/lib/python3.12/dist-packages (from jsonschema>=4.19.0->chromadb==1.0.20) (0.27.1)\n",
            "Requirement already satisfied: six>=1.9.0 in /usr/local/lib/python3.12/dist-packages (from kubernetes>=28.1.0->chromadb==1.0.20) (1.17.0)\n",
            "Requirement already satisfied: python-dateutil>=2.5.3 in /usr/local/lib/python3.12/dist-packages (from kubernetes>=28.1.0->chromadb==1.0.20) (2.9.0.post0)\n",
            "Requirement already satisfied: google-auth>=1.0.1 in /usr/local/lib/python3.12/dist-packages (from kubernetes>=28.1.0->chromadb==1.0.20) (2.38.0)\n",
            "Requirement already satisfied: websocket-client!=0.40.0,!=0.41.*,!=0.42.*,>=0.32.0 in /usr/local/lib/python3.12/dist-packages (from kubernetes>=28.1.0->chromadb==1.0.20) (1.8.0)\n",
            "Requirement already satisfied: requests in /usr/local/lib/python3.12/dist-packages (from kubernetes>=28.1.0->chromadb==1.0.20) (2.32.4)\n",
            "Requirement already satisfied: requests-oauthlib in /usr/local/lib/python3.12/dist-packages (from kubernetes>=28.1.0->chromadb==1.0.20) (2.0.0)\n",
            "Requirement already satisfied: oauthlib>=3.2.2 in /usr/local/lib/python3.12/dist-packages (from kubernetes>=28.1.0->chromadb==1.0.20) (3.3.1)\n",
            "Requirement already satisfied: urllib3>=1.24.2 in /usr/local/lib/python3.12/dist-packages (from kubernetes>=28.1.0->chromadb==1.0.20) (2.5.0)\n",
            "Requirement already satisfied: durationpy>=0.7 in /usr/local/lib/python3.12/dist-packages (from kubernetes>=28.1.0->chromadb==1.0.20) (0.10)\n",
            "Requirement already satisfied: coloredlogs in /usr/local/lib/python3.12/dist-packages (from onnxruntime>=1.14.1->chromadb==1.0.20) (15.0.1)\n",
            "Requirement already satisfied: flatbuffers in /usr/local/lib/python3.12/dist-packages (from onnxruntime>=1.14.1->chromadb==1.0.20) (25.2.10)\n",
            "Requirement already satisfied: protobuf in /usr/local/lib/python3.12/dist-packages (from onnxruntime>=1.14.1->chromadb==1.0.20) (5.29.5)\n",
            "Requirement already satisfied: sympy in /usr/local/lib/python3.12/dist-packages (from onnxruntime>=1.14.1->chromadb==1.0.20) (1.13.3)\n",
            "Requirement already satisfied: importlib-metadata<8.8.0,>=6.0 in /usr/local/lib/python3.12/dist-packages (from opentelemetry-api>=1.2.0->chromadb==1.0.20) (8.7.0)\n",
            "Requirement already satisfied: googleapis-common-protos~=1.57 in /usr/local/lib/python3.12/dist-packages (from opentelemetry-exporter-otlp-proto-grpc>=1.2.0->chromadb==1.0.20) (1.70.0)\n",
            "Requirement already satisfied: opentelemetry-exporter-otlp-proto-common==1.37.0 in /usr/local/lib/python3.12/dist-packages (from opentelemetry-exporter-otlp-proto-grpc>=1.2.0->chromadb==1.0.20) (1.37.0)\n",
            "Requirement already satisfied: opentelemetry-proto==1.37.0 in /usr/local/lib/python3.12/dist-packages (from opentelemetry-exporter-otlp-proto-grpc>=1.2.0->chromadb==1.0.20) (1.37.0)\n",
            "Requirement already satisfied: opentelemetry-semantic-conventions==0.58b0 in /usr/local/lib/python3.12/dist-packages (from opentelemetry-sdk>=1.2.0->chromadb==1.0.20) (0.58b0)\n",
            "Requirement already satisfied: backoff>=1.10.0 in /usr/local/lib/python3.12/dist-packages (from posthog<6.0.0,>=2.4.0->chromadb==1.0.20) (2.2.1)\n",
            "Requirement already satisfied: distro>=1.5.0 in /usr/local/lib/python3.12/dist-packages (from posthog<6.0.0,>=2.4.0->chromadb==1.0.20) (1.9.0)\n",
            "Requirement already satisfied: annotated-types>=0.6.0 in /usr/local/lib/python3.12/dist-packages (from pydantic>=1.9->chromadb==1.0.20) (0.7.0)\n",
            "Requirement already satisfied: pydantic-core==2.33.2 in /usr/local/lib/python3.12/dist-packages (from pydantic>=1.9->chromadb==1.0.20) (2.33.2)\n",
            "Requirement already satisfied: typing-inspection>=0.4.0 in /usr/local/lib/python3.12/dist-packages (from pydantic>=1.9->chromadb==1.0.20) (0.4.1)\n",
            "Requirement already satisfied: markdown-it-py>=2.2.0 in /usr/local/lib/python3.12/dist-packages (from rich>=10.11.0->chromadb==1.0.20) (4.0.0)\n",
            "Requirement already satisfied: pygments<3.0.0,>=2.13.0 in /usr/local/lib/python3.12/dist-packages (from rich>=10.11.0->chromadb==1.0.20) (2.19.2)\n",
            "Requirement already satisfied: huggingface-hub<1.0,>=0.16.4 in /usr/local/lib/python3.12/dist-packages (from tokenizers>=0.13.2->chromadb==1.0.20) (0.35.0)\n",
            "Requirement already satisfied: click>=8.0.0 in /usr/local/lib/python3.12/dist-packages (from typer>=0.9.0->chromadb==1.0.20) (8.2.1)\n",
            "Requirement already satisfied: shellingham>=1.3.0 in /usr/local/lib/python3.12/dist-packages (from typer>=0.9.0->chromadb==1.0.20) (1.5.4)\n",
            "Requirement already satisfied: httptools>=0.6.3 in /usr/local/lib/python3.12/dist-packages (from uvicorn[standard]>=0.18.3->chromadb==1.0.20) (0.6.4)\n",
            "Requirement already satisfied: python-dotenv>=0.13 in /usr/local/lib/python3.12/dist-packages (from uvicorn[standard]>=0.18.3->chromadb==1.0.20) (1.1.1)\n",
            "Requirement already satisfied: uvloop>=0.15.1 in /usr/local/lib/python3.12/dist-packages (from uvicorn[standard]>=0.18.3->chromadb==1.0.20) (0.21.0)\n",
            "Requirement already satisfied: watchfiles>=0.13 in /usr/local/lib/python3.12/dist-packages (from uvicorn[standard]>=0.18.3->chromadb==1.0.20) (1.1.0)\n",
            "Requirement already satisfied: websockets>=10.4 in /usr/local/lib/python3.12/dist-packages (from uvicorn[standard]>=0.18.3->chromadb==1.0.20) (15.0.1)\n",
            "Requirement already satisfied: cachetools<6.0,>=2.0.0 in /usr/local/lib/python3.12/dist-packages (from google-auth>=1.0.1->kubernetes>=28.1.0->chromadb==1.0.20) (5.5.2)\n",
            "Requirement already satisfied: pyasn1-modules>=0.2.1 in /usr/local/lib/python3.12/dist-packages (from google-auth>=1.0.1->kubernetes>=28.1.0->chromadb==1.0.20) (0.4.2)\n",
            "Requirement already satisfied: rsa<5,>=3.1.4 in /usr/local/lib/python3.12/dist-packages (from google-auth>=1.0.1->kubernetes>=28.1.0->chromadb==1.0.20) (4.9.1)\n",
            "Requirement already satisfied: filelock in /usr/local/lib/python3.12/dist-packages (from huggingface-hub<1.0,>=0.16.4->tokenizers>=0.13.2->chromadb==1.0.20) (3.19.1)\n",
            "Requirement already satisfied: fsspec>=2023.5.0 in /usr/local/lib/python3.12/dist-packages (from huggingface-hub<1.0,>=0.16.4->tokenizers>=0.13.2->chromadb==1.0.20) (2025.3.0)\n",
            "Requirement already satisfied: hf-xet<2.0.0,>=1.1.3 in /usr/local/lib/python3.12/dist-packages (from huggingface-hub<1.0,>=0.16.4->tokenizers>=0.13.2->chromadb==1.0.20) (1.1.10)\n",
            "Requirement already satisfied: zipp>=3.20 in /usr/local/lib/python3.12/dist-packages (from importlib-metadata<8.8.0,>=6.0->opentelemetry-api>=1.2.0->chromadb==1.0.20) (3.23.0)\n",
            "Requirement already satisfied: mdurl~=0.1 in /usr/local/lib/python3.12/dist-packages (from markdown-it-py>=2.2.0->rich>=10.11.0->chromadb==1.0.20) (0.1.2)\n",
            "Requirement already satisfied: charset_normalizer<4,>=2 in /usr/local/lib/python3.12/dist-packages (from requests->kubernetes>=28.1.0->chromadb==1.0.20) (3.4.3)\n",
            "Requirement already satisfied: sniffio>=1.1 in /usr/local/lib/python3.12/dist-packages (from anyio->httpx>=0.27.0->chromadb==1.0.20) (1.3.1)\n",
            "Requirement already satisfied: humanfriendly>=9.1 in /usr/local/lib/python3.12/dist-packages (from coloredlogs->onnxruntime>=1.14.1->chromadb==1.0.20) (10.0)\n",
            "Requirement already satisfied: mpmath<1.4,>=1.1.0 in /usr/local/lib/python3.12/dist-packages (from sympy->onnxruntime>=1.14.1->chromadb==1.0.20) (1.3.0)\n",
            "Requirement already satisfied: pyasn1<0.7.0,>=0.6.1 in /usr/local/lib/python3.12/dist-packages (from pyasn1-modules>=0.2.1->google-auth>=1.0.1->kubernetes>=28.1.0->chromadb==1.0.20) (0.6.1)\n",
            "Requirement already satisfied: langchain-upstage==0.7.3 in /usr/local/lib/python3.12/dist-packages (0.7.3)\n",
            "Requirement already satisfied: langchain-core<0.4.0,>=0.3.29 in /usr/local/lib/python3.12/dist-packages (from langchain-upstage==0.7.3) (0.3.76)\n",
            "Requirement already satisfied: langchain-openai<0.4,>=0.3 in /usr/local/lib/python3.12/dist-packages (from langchain-upstage==0.7.3) (0.3.31)\n",
            "Requirement already satisfied: pypdf<5.0.0,>=4.2.0 in /usr/local/lib/python3.12/dist-packages (from langchain-upstage==0.7.3) (4.3.1)\n",
            "Requirement already satisfied: requests<3.0.0,>=2.31.0 in /usr/local/lib/python3.12/dist-packages (from langchain-upstage==0.7.3) (2.32.4)\n",
            "Requirement already satisfied: tokenizers<0.21.0,>=0.20.0 in /usr/local/lib/python3.12/dist-packages (from langchain-upstage==0.7.3) (0.20.3)\n",
            "Requirement already satisfied: langsmith>=0.3.45 in /usr/local/lib/python3.12/dist-packages (from langchain-core<0.4.0,>=0.3.29->langchain-upstage==0.7.3) (0.4.28)\n",
            "Requirement already satisfied: tenacity!=8.4.0,<10.0.0,>=8.1.0 in /usr/local/lib/python3.12/dist-packages (from langchain-core<0.4.0,>=0.3.29->langchain-upstage==0.7.3) (8.5.0)\n",
            "Requirement already satisfied: jsonpatch<2.0,>=1.33 in /usr/local/lib/python3.12/dist-packages (from langchain-core<0.4.0,>=0.3.29->langchain-upstage==0.7.3) (1.33)\n",
            "Requirement already satisfied: PyYAML>=5.3 in /usr/local/lib/python3.12/dist-packages (from langchain-core<0.4.0,>=0.3.29->langchain-upstage==0.7.3) (6.0.2)\n",
            "Requirement already satisfied: typing-extensions>=4.7 in /usr/local/lib/python3.12/dist-packages (from langchain-core<0.4.0,>=0.3.29->langchain-upstage==0.7.3) (4.15.0)\n",
            "Requirement already satisfied: packaging>=23.2 in /usr/local/lib/python3.12/dist-packages (from langchain-core<0.4.0,>=0.3.29->langchain-upstage==0.7.3) (25.0)\n",
            "Requirement already satisfied: pydantic>=2.7.4 in /usr/local/lib/python3.12/dist-packages (from langchain-core<0.4.0,>=0.3.29->langchain-upstage==0.7.3) (2.11.9)\n",
            "Requirement already satisfied: openai<2.0.0,>=1.99.9 in /usr/local/lib/python3.12/dist-packages (from langchain-openai<0.4,>=0.3->langchain-upstage==0.7.3) (1.108.0)\n",
            "Requirement already satisfied: tiktoken<1,>=0.7 in /usr/local/lib/python3.12/dist-packages (from langchain-openai<0.4,>=0.3->langchain-upstage==0.7.3) (0.11.0)\n",
            "Requirement already satisfied: charset_normalizer<4,>=2 in /usr/local/lib/python3.12/dist-packages (from requests<3.0.0,>=2.31.0->langchain-upstage==0.7.3) (3.4.3)\n",
            "Requirement already satisfied: idna<4,>=2.5 in /usr/local/lib/python3.12/dist-packages (from requests<3.0.0,>=2.31.0->langchain-upstage==0.7.3) (3.10)\n",
            "Requirement already satisfied: urllib3<3,>=1.21.1 in /usr/local/lib/python3.12/dist-packages (from requests<3.0.0,>=2.31.0->langchain-upstage==0.7.3) (2.5.0)\n",
            "Requirement already satisfied: certifi>=2017.4.17 in /usr/local/lib/python3.12/dist-packages (from requests<3.0.0,>=2.31.0->langchain-upstage==0.7.3) (2025.8.3)\n",
            "Requirement already satisfied: huggingface-hub<1.0,>=0.16.4 in /usr/local/lib/python3.12/dist-packages (from tokenizers<0.21.0,>=0.20.0->langchain-upstage==0.7.3) (0.35.0)\n",
            "Requirement already satisfied: filelock in /usr/local/lib/python3.12/dist-packages (from huggingface-hub<1.0,>=0.16.4->tokenizers<0.21.0,>=0.20.0->langchain-upstage==0.7.3) (3.19.1)\n",
            "Requirement already satisfied: fsspec>=2023.5.0 in /usr/local/lib/python3.12/dist-packages (from huggingface-hub<1.0,>=0.16.4->tokenizers<0.21.0,>=0.20.0->langchain-upstage==0.7.3) (2025.3.0)\n",
            "Requirement already satisfied: tqdm>=4.42.1 in /usr/local/lib/python3.12/dist-packages (from huggingface-hub<1.0,>=0.16.4->tokenizers<0.21.0,>=0.20.0->langchain-upstage==0.7.3) (4.67.1)\n",
            "Requirement already satisfied: hf-xet<2.0.0,>=1.1.3 in /usr/local/lib/python3.12/dist-packages (from huggingface-hub<1.0,>=0.16.4->tokenizers<0.21.0,>=0.20.0->langchain-upstage==0.7.3) (1.1.10)\n",
            "Requirement already satisfied: jsonpointer>=1.9 in /usr/local/lib/python3.12/dist-packages (from jsonpatch<2.0,>=1.33->langchain-core<0.4.0,>=0.3.29->langchain-upstage==0.7.3) (3.0.0)\n",
            "Requirement already satisfied: httpx<1,>=0.23.0 in /usr/local/lib/python3.12/dist-packages (from langsmith>=0.3.45->langchain-core<0.4.0,>=0.3.29->langchain-upstage==0.7.3) (0.28.1)\n",
            "Requirement already satisfied: orjson>=3.9.14 in /usr/local/lib/python3.12/dist-packages (from langsmith>=0.3.45->langchain-core<0.4.0,>=0.3.29->langchain-upstage==0.7.3) (3.11.3)\n",
            "Requirement already satisfied: requests-toolbelt>=1.0.0 in /usr/local/lib/python3.12/dist-packages (from langsmith>=0.3.45->langchain-core<0.4.0,>=0.3.29->langchain-upstage==0.7.3) (1.0.0)\n",
            "Requirement already satisfied: zstandard>=0.23.0 in /usr/local/lib/python3.12/dist-packages (from langsmith>=0.3.45->langchain-core<0.4.0,>=0.3.29->langchain-upstage==0.7.3) (0.25.0)\n",
            "Requirement already satisfied: anyio<5,>=3.5.0 in /usr/local/lib/python3.12/dist-packages (from openai<2.0.0,>=1.99.9->langchain-openai<0.4,>=0.3->langchain-upstage==0.7.3) (4.10.0)\n",
            "Requirement already satisfied: distro<2,>=1.7.0 in /usr/local/lib/python3.12/dist-packages (from openai<2.0.0,>=1.99.9->langchain-openai<0.4,>=0.3->langchain-upstage==0.7.3) (1.9.0)\n",
            "Requirement already satisfied: jiter<1,>=0.4.0 in /usr/local/lib/python3.12/dist-packages (from openai<2.0.0,>=1.99.9->langchain-openai<0.4,>=0.3->langchain-upstage==0.7.3) (0.11.0)\n",
            "Requirement already satisfied: sniffio in /usr/local/lib/python3.12/dist-packages (from openai<2.0.0,>=1.99.9->langchain-openai<0.4,>=0.3->langchain-upstage==0.7.3) (1.3.1)\n",
            "Requirement already satisfied: annotated-types>=0.6.0 in /usr/local/lib/python3.12/dist-packages (from pydantic>=2.7.4->langchain-core<0.4.0,>=0.3.29->langchain-upstage==0.7.3) (0.7.0)\n",
            "Requirement already satisfied: pydantic-core==2.33.2 in /usr/local/lib/python3.12/dist-packages (from pydantic>=2.7.4->langchain-core<0.4.0,>=0.3.29->langchain-upstage==0.7.3) (2.33.2)\n",
            "Requirement already satisfied: typing-inspection>=0.4.0 in /usr/local/lib/python3.12/dist-packages (from pydantic>=2.7.4->langchain-core<0.4.0,>=0.3.29->langchain-upstage==0.7.3) (0.4.1)\n",
            "Requirement already satisfied: regex>=2022.1.18 in /usr/local/lib/python3.12/dist-packages (from tiktoken<1,>=0.7->langchain-openai<0.4,>=0.3->langchain-upstage==0.7.3) (2024.11.6)\n",
            "Requirement already satisfied: httpcore==1.* in /usr/local/lib/python3.12/dist-packages (from httpx<1,>=0.23.0->langsmith>=0.3.45->langchain-core<0.4.0,>=0.3.29->langchain-upstage==0.7.3) (1.0.9)\n",
            "Requirement already satisfied: h11>=0.16 in /usr/local/lib/python3.12/dist-packages (from httpcore==1.*->httpx<1,>=0.23.0->langsmith>=0.3.45->langchain-core<0.4.0,>=0.3.29->langchain-upstage==0.7.3) (0.16.0)\n",
            "Requirement already satisfied: pypdf==4.3.1 in /usr/local/lib/python3.12/dist-packages (4.3.1)\n",
            "Requirement already satisfied: pymupdf==1.26.3 in /usr/local/lib/python3.12/dist-packages (1.26.3)\n",
            "Requirement already satisfied: pypdfium2==4.30.0 in /usr/local/lib/python3.12/dist-packages (4.30.0)\n"
          ]
        }
      ],
      "source": [
        "# 버전 명시\n",
        "# 실제 사용 시 호환성을 확인하여 버전을 조정해주세요.\n",
        "!pip install langchain-text-splitters==0.3.9\n",
        "!pip install tiktoken==0.11.0\n",
        "!pip install langchain-community==0.3.27\n",
        "!pip install langchain-openai==0.3.31\n",
        "!pip install chromadb==1.0.20\n",
        "!pip install langchain-upstage==0.7.3\n",
        "!pip install pypdf==4.3.1\n",
        "!pip install pymupdf==1.26.3\n",
        "!pip install pypdfium2==4.30.0\n",
        "!pip install langchain-mcp-adapters==0.1.10"
      ]
    },
    {
      "cell_type": "markdown",
      "metadata": {
        "id": "NoM_BD822ra3"
      },
      "source": [
        "# **Exercise Overview**\n",
        "\n",
        "## **실습 목차**\n",
        "- **1. 환경 설정**: 실습에 필요한 환경을 미리 세팅해둡니다. <br>\n",
        "  - 1. Hello World\n",
        "    - 1-1. 자료에 청킹을 적용해보기\n",
        "    - 1-2. API Key를 사용하여 파싱에 활용해보기\n",
        "\n",
        "- **2. Langchain 이해하기** : LangChain을 사용하여 LLM Chain을 구현하는 방법을 배웁니다. <br>\n",
        "    - 2-1 LLM Chain\n",
        "    - 2-2 What is Langchain?\n",
        "\n",
        "- **3. RAG & Tool 이해하기** : Vector Store 및 Retriever를 생성 구현하는 방법을 배웁니다. <br>\n",
        "    - 3-1 What is RAG?\n",
        "    - 3-2 What is Tool?\n"
      ]
    },
    {
      "cell_type": "markdown",
      "metadata": {
        "id": "f4P3Om_AQuUI"
      },
      "source": [
        "# 1. 환경 설정\n",
        "\n",
        "**LLM이 문서를 이해하기 위해 청킹/파싱이 필요한 이유:**\n",
        "\n",
        "LLM은 마치 매우 똑똑한 학생과 같아요. 하지만 이 학생에게도 몇 가지 한계가 있답니다.\n",
        "\n",
        "---\n",
        "\n",
        "**1. 한 번에 읽을 수 있는 양의 제한 (컨텍스트 창):**\n",
        "- LLM은 한 번에 모든 문서를 통째로 읽고 이해할 수 없어요. 마치 사람이 책 한 권을 한 번에 다 읽고 내용을 기억하기 어려운 것처럼요. LLM이 한 번에 처리할 수 있는 텍스트의 양에는 제한이 있는데, 이걸 '컨텍스트 창(Context Window)'이라고 불러요.\n",
        "만약 문서가 이 컨텍스트 창보다 훨씬 길다면, LLM은 문서의 앞부분만 읽거나 뒷부분만 읽게 되어 전체 내용을 파악하기 어렵겠죠?\n",
        "- ✨ 청킹(Chunking)이 필요한 이유: 그래서 긴 문서를 컨텍스트 창 크기에 맞는 작은 '청크(Chunk)'들로 나누는 거예요. 이렇게 하면 LLM이 각 청크를 하나씩 집중해서 읽고 이해할 수 있게 됩니다. 마치 긴 책을 여러 장으로 나눠서 읽는 것과 같아요.\n",
        "\n",
        "**2. 다양한 형태의 정보 처리의 어려움:**\n",
        "- LLM은 기본적으로 '텍스트' 형태로 된 정보를 가장 잘 처리해요. 하지만 우리가 보는 문서는 텍스트만 있는 게 아니죠? PDF 파일에는 표, 그림, 글자 크기 변화가 있고, 웹페이지에는 이미지, 링크, 복잡한 구조가 있어요.\n",
        "- ✨ 파싱(Parsing)이 필요한 이유: 파싱은 이렇게 다양한 형태의 문서에서 LLM이 이해할 수 있는 '순수한 텍스트'와 필요한 정보(메타데이터 등)를 뽑아내는 과정이에요. 마치 문서에서 중요한 내용만 필기하는 것과 같아요. 잘 파싱된 텍스트는 LLM이 정보를 더 정확하고 효율적으로 이해하고 활용할 수 있게 해줍니다.\n",
        "\n",
        "**요약:**\n",
        "\n",
        "- 청킹: LLM이 한 번에 처리할 수 있는 양의 한계를 극복하고 긴 문서를 나눠서 효율적으로 읽게 해줘요. (긴 책을 장별로 나눠 읽기)\n",
        "- 파싱: 다양한 형식의 문서에서 LLM이 이해할 수 있는 필요한 정보(주로 텍스트)를 추출해줘요. (문서에서 중요한 내용만 필기하기)"
      ]
    },
    {
      "cell_type": "markdown",
      "metadata": {
        "id": "sNZLnY26RS5u"
      },
      "source": [
        "## 1-1. 자료에 청킹을 적용해보기\n",
        "\n",
        "긴 텍스트를 다루는 두 가지 방법인 **토크나이징(Tokenizing)**과 **청킹(Chunking)**의 차이를 알아봅시다.\n",
        ". RAG 시스템에서 정보를 효율적으로 검색하고 LLM이 처리할 수 있도록 데이터를 준비하는 데 사용됩니다.\n",
        "\n",
        "*   **토크나이징(Tokenizing):**\n",
        "    *   텍스트를 LLM이 이해하는 작은 단위(단어, 구두점 등)인 '토큰'으로 쪼개는 과정입니다.\n",
        "    *   `tiktoken` 라이브러리를 사용하여 특정 모델(`cl100k_base`)이 텍스트를 어떻게 토큰화하는지 보여줍니다.\n",
        "    *   원문 텍스트의 길이(문자 수)와 토큰화했을 때의 토큰 수를 비교하여, 문자와 토큰이 1:1로 대응하지 않음을 보여줍니다.\n",
        "    *   LLM은 토큰 단위로 텍스트를 읽고 처리하며, 모델마다 처리할 수 있는 최대 토큰 수(컨텍스트 창 크기)가 정해져 있습니다.\n",
        "\n",
        "*   **청킹(Chunking):**\n",
        "    *   긴 텍스트 문서를 의미적으로 관련 있는 더 작은 '청크(Chunk)' 단위로 묶어서 나누는 과정입니다.\n",
        "    *   `RecursiveCharacterTextSplitter`라는 도구를 사용합니다. 이 도구는 정해진 규칙(예: 줄바꿈, 공백 등)에 따라 텍스트를 재귀적으로 분할합니다.\n",
        "    *   **`chunk_size`:** 각 청크의 최대 크기를 문자의 개수로 지정합니다. 이 크기가 너무 크면 LLM의 컨텍스트 창을 넘어가거나 검색 시 불필요한 정보가 많이 포함될 수 있고, 너무 작으면 정보가 여러 청크에 흩어져 검색 품질이 떨어질 수 있습니다.\n",
        "    *   **`chunk_overlap`:** 인접한 청크들 사이에 겹치는 부분의 크기를 문자의 개수로 지정합니다. 오버랩을 통해 청크가 분할될 때 문맥이 끊어지는 것을 방지하고, 검색 시 인접한 정보를 함께 찾을 확률을 높일 수 있습니다.\n",
        "    *   다양한 `chunk_size`와 `chunk_overlap` 조합으로 청킹을 수행하여, 설정값에 따라 생성되는 청크의 개수와 각 청크의 내용이 어떻게 달라지는지 비교하여 보여줍니다.\n",
        "    *   RAG 시스템에서는 사용자의 질문과 관련된 청크를 검색하여 LLM에게 제공하므로, 적절한 청킹은 검색 정확도와 LLM 응답 품질에 직접적인 영향을 미칩니다.\n",
        "\n",
        "\n",
        "\n",
        "결론적으로, 토크나이징은 LLM의 '언어 이해 단위'이고, 청킹은 RAG 시스템의 '정보 검색 단위'를 만들기 위한 과정이라고 이해할 수 있습니다.\n",
        "\n",
        "아래 예시 파일인 writefile shipping_policy.txt (AI 온라인 서점 배송 정책)를 이용하여 토크나이징, 청킹을 비교해보세요"
      ]
    },
    {
      "cell_type": "code",
      "execution_count": 23,
      "metadata": {
        "colab": {
          "base_uri": "https://localhost:8080/"
        },
        "id": "c997303b",
        "outputId": "72af79f3-1631-4f41-e635-86ee89d0f79f"
      },
      "outputs": [
        {
          "name": "stdout",
          "output_type": "stream",
          "text": [
            "--- 토크나이징 결과 ---\n",
            "원문 텍스트 길이: 198 문자\n",
            "토큰 수: 167 토큰\n",
            "토큰 예시: [198, 15836, 39623, 101, 51440, 32428, 90960, 14806, 238, 80052]...\n",
            "--------------------\n",
            "\n",
            "--- 청킹 결과 비교 ---\n",
            "\n",
            "[Chunk Size: 100, Chunk Overlap: 0]\n",
            "생성된 청크 개수: 3\n",
            "  청크 1 (길이: 90):\n",
            "  'AI 온라인 서점입니다. 고객님의 소중한 문의에 감사드립니다.\n",
            "배송 정책에 대해 안내해 드...'\n",
            "  청크 2 (길이: 55):\n",
            "  '주말 및 공휴일은 배송이 어렵습니다.\n",
            "제주 및 도서 산간 지역은 추가 배송비가 발생할 수 ...'\n",
            "  청크 3 (길이: 49):\n",
            "  '주문 번호 order-123의 배송 상태를 조회하시려면 마이페이지에서 확인 부탁드립니다....'\n",
            "\n",
            "[Chunk Size: 100, Chunk Overlap: 20]\n",
            "생성된 청크 개수: 3\n",
            "  청크 1 (길이: 90):\n",
            "  'AI 온라인 서점입니다. 고객님의 소중한 문의에 감사드립니다.\n",
            "배송 정책에 대해 안내해 드...'\n",
            "  청크 2 (길이: 55):\n",
            "  '주말 및 공휴일은 배송이 어렵습니다.\n",
            "제주 및 도서 산간 지역은 추가 배송비가 발생할 수 ...'\n",
            "  청크 3 (길이: 49):\n",
            "  '주문 번호 order-123의 배송 상태를 조회하시려면 마이페이지에서 확인 부탁드립니다....'\n",
            "\n",
            "[Chunk Size: 50, Chunk Overlap: 0]\n",
            "생성된 청크 개수: 6\n",
            "  청크 1 (길이: 34):\n",
            "  'AI 온라인 서점입니다. 고객님의 소중한 문의에 감사드립니다....'\n",
            "  청크 2 (길이: 21):\n",
            "  '배송 정책에 대해 안내해 드리겠습니다....'\n",
            "  청크 3 (길이: 33):\n",
            "  '일반 도서의 경우 오후 3시 이전 주문 시 당일 발송됩니다....'\n",
            "  청크 4 (길이: 20):\n",
            "  '주말 및 공휴일은 배송이 어렵습니다....'\n",
            "  청크 5 (길이: 34):\n",
            "  '제주 및 도서 산간 지역은 추가 배송비가 발생할 수 있습니다....'\n",
            "  청크 6 (길이: 49):\n",
            "  '주문 번호 order-123의 배송 상태를 조회하시려면 마이페이지에서 확인 부탁드립니다....'\n",
            "\n",
            "[Chunk Size: 50, Chunk Overlap: 10]\n",
            "생성된 청크 개수: 6\n",
            "  청크 1 (길이: 34):\n",
            "  'AI 온라인 서점입니다. 고객님의 소중한 문의에 감사드립니다....'\n",
            "  청크 2 (길이: 21):\n",
            "  '배송 정책에 대해 안내해 드리겠습니다....'\n",
            "  청크 3 (길이: 33):\n",
            "  '일반 도서의 경우 오후 3시 이전 주문 시 당일 발송됩니다....'\n",
            "  청크 4 (길이: 20):\n",
            "  '주말 및 공휴일은 배송이 어렵습니다....'\n",
            "  청크 5 (길이: 34):\n",
            "  '제주 및 도서 산간 지역은 추가 배송비가 발생할 수 있습니다....'\n",
            "  청크 6 (길이: 49):\n",
            "  '주문 번호 order-123의 배송 상태를 조회하시려면 마이페이지에서 확인 부탁드립니다....'\n",
            "--------------------\n"
          ]
        }
      ],
      "source": [
        "from langchain_text_splitters import RecursiveCharacterTextSplitter\n",
        "import tiktoken\n",
        "\n",
        "# 예시 텍스트\n",
        "text = \"\"\"\n",
        "AI 온라인 서점입니다. 고객님의 소중한 문의에 감사드립니다.\n",
        "배송 정책에 대해 안내해 드리겠습니다.\n",
        "일반 도서의 경우 오후 3시 이전 주문 시 당일 발송됩니다.\n",
        "주말 및 공휴일은 배송이 어렵습니다.\n",
        "제주 및 도서 산간 지역은 추가 배송비가 발생할 수 있습니다.\n",
        "주문 번호 order-123의 배송 상태를 조회하시려면 마이페이지에서 확인 부탁드립니다.\n",
        "\"\"\"\n",
        "\n",
        "# 1. 토크나이징 (tiktoken 사용)\n",
        "# 모델에 따라 인코딩 방식이 다를 수 있습니다. 여기서는 'cl100k_base'를 사용합니다.\n",
        "encoding = tiktoken.get_encoding(\"cl100k_base\")\n",
        "tokens = encoding.encode(text)\n",
        "\n",
        "print(\"--- 토크나이징 결과 ---\")\n",
        "print(f\"원문 텍스트 길이: {len(text)} 문자\")\n",
        "print(f\"토큰 수: {len(tokens)} 토큰\")\n",
        "print(f\"토큰 예시: {tokens[:10]}...\") # 첫 10개 토큰 예시\n",
        "print(\"-\" * 20)\n",
        "\n",
        "\n",
        "# 2. 청킹 (RecursiveCharacterTextSplitter 사용)\n",
        "\n",
        "# 다양한 chunk_size와 chunk_overlap으로 비교\n",
        "chunking_configs = [\n",
        "    {\"chunk_size\": 100, \"chunk_overlap\": 0},\n",
        "    {\"chunk_size\": 100, \"chunk_overlap\": 20},\n",
        "    {\"chunk_size\": 50, \"chunk_overlap\": 0},\n",
        "    {\"chunk_size\": 50, \"chunk_overlap\": 10},\n",
        "]\n",
        "\n",
        "print(\"\\n--- 청킹 결과 비교 ---\")\n",
        "\n",
        "for config in chunking_configs:\n",
        "    chunk_size = config[\"chunk_size\"]\n",
        "    chunk_overlap = config[\"chunk_overlap\"]\n",
        "\n",
        "    text_splitter = RecursiveCharacterTextSplitter(\n",
        "        chunk_size=chunk_size,\n",
        "        chunk_overlap=chunk_overlap,\n",
        "        length_function=len, # 길이를 문자로 계산\n",
        "        is_separator_regex=False,\n",
        "    )\n",
        "\n",
        "    chunks = text_splitter.create_documents([text])\n",
        "\n",
        "    print(f\"\\n[Chunk Size: {chunk_size}, Chunk Overlap: {chunk_overlap}]\")\n",
        "    print(f\"생성된 청크 개수: {len(chunks)}\")\n",
        "    for i, chunk in enumerate(chunks):\n",
        "        print(f\"  청크 {i+1} (길이: {len(chunk.page_content)}):\")\n",
        "        print(f\"  '{chunk.page_content[:50]}...'\") # 각 청크의 앞부분만 출력\n",
        "\n",
        "print(\"-\" * 20)"
      ]
    },
    {
      "cell_type": "code",
      "execution_count": 24,
      "metadata": {
        "colab": {
          "base_uri": "https://localhost:8080/"
        },
        "id": "a718139c",
        "outputId": "dfaf7d97-3f22-480d-ba3d-3692b96475e9"
      },
      "outputs": [
        {
          "name": "stdout",
          "output_type": "stream",
          "text": [
            "Overwriting shipping_policy.txt\n"
          ]
        }
      ],
      "source": [
        "%%writefile shipping_policy.txt\n",
        "# AI 온라인 서점 배송 정책\n",
        "\n",
        "## 일반 배송\n",
        "- 평일 오후 3시 이전 주문 시 당일 발송됩니다.\n",
        "- 오후 3시 이후 주문 건은 익일 발송됩니다.\n",
        "- 주말 및 공휴일은 배송이 어렵습니다.\n",
        "\n",
        "## 도서 산간 지역 배송\n",
        "- 제주 및 도서 산간 지역은 추가 배송비가 발생할 수 있습니다.\n",
        "- 추가 배송비 및 예상 소요 시간은 주문 시 확인 가능합니다.\n",
        "\n",
        "## 배송 조회\n",
        "- 주문 번호 order-123의 배송 상태는 마이페이지에서 조회 가능합니다.\n",
        "- 회원 및 비회원 모두 주문 번호로 배송 조회가 가능합니다.\n",
        "- 배송 관련 문의는 고객센터로 연락 주시기 바랍니다."
      ]
    },
    {
      "cell_type": "code",
      "execution_count": 25,
      "metadata": {
        "colab": {
          "base_uri": "https://localhost:8080/"
        },
        "id": "61d4530f",
        "outputId": "652ef0ca-8f39-4b81-bf16-3583017740ac"
      },
      "outputs": [
        {
          "name": "stdout",
          "output_type": "stream",
          "text": [
            "--- 로드된 문서 정보 ---\n",
            "문서 개수: 1\n",
            "첫 번째 문서 내용 (일부): # AI 온라인 서점 배송 정책\n",
            "\n",
            "## 일반 배송\n",
            "- 평일 오후 3시 이전 주문 시 당일 발송됩니다.\n",
            "- 오후 3시 이후 주문 건은 익일 발송됩니다.\n",
            "- 주말 및 공휴일은 배송이 ...\n",
            "첫 번째 문서 메타데이터: {'source': '/content/shipping_policy.txt'}\n",
            "--------------------\n",
            "\n",
            "--- 분할된 청크 정보 ---\n",
            "생성된 청크 개수: 2\n",
            "  청크 1 (길이: 195):\n",
            "  '# AI 온라인 서점 배송 정책\n",
            "\n",
            "## 일반 배송\n",
            "- 평일 오후 3시 이전 주문 시 당일 발송됩니다.\n",
            "- 오후 3시 이후 주문 건은 익일 발송됩니다.\n",
            "- 주말 및 공휴일은 배송이 ...'\n",
            "  메타데이터: {'source': '/content/shipping_policy.txt'}\n",
            "  청크 2 (길이: 118):\n",
            "  '## 배송 조회\n",
            "- 주문 번호 order-123의 배송 상태는 마이페이지에서 조회 가능합니다.\n",
            "- 회원 및 비회원 모두 주문 번호로 배송 조회가 가능합니다.\n",
            "- 배송 관련 문의는 ...'\n",
            "  메타데이터: {'source': '/content/shipping_policy.txt'}\n",
            "--------------------\n"
          ]
        }
      ],
      "source": [
        "from langchain_community.document_loaders import TextLoader\n",
        "from langchain_text_splitters import RecursiveCharacterTextSplitter\n",
        "\n",
        "# 1. TextLoader를 사용하여 파일 불러오기\n",
        "loader = TextLoader(\"/content/shipping_policy.txt\")\n",
        "documents = loader.load()\n",
        "\n",
        "print(\"--- 로드된 문서 정보 ---\")\n",
        "print(f\"문서 개수: {len(documents)}\")\n",
        "if documents:\n",
        "    print(f\"첫 번째 문서 내용 (일부): {documents[0].page_content[:100]}...\")\n",
        "    print(f\"첫 번째 문서 메타데이터: {documents[0].metadata}\")\n",
        "print(\"-\" * 20)\n",
        "\n",
        "# 2. RecursiveCharacterTextSplitter를 사용하여 문서 분할\n",
        "# 적절한 chunk_size와 chunk_overlap을 설정합니다.\n",
        "# 여기서는 예시로 설정하며, 실제 적용 시에는 데이터 특성에 맞게 조정해야 합니다.\n",
        "text_splitter = RecursiveCharacterTextSplitter(\n",
        "    chunk_size=200,  # 청크 최대 크기 (문자 단위)\n",
        "    chunk_overlap=20, # 청크 간 겹치는 부분 (문자 단위)\n",
        "    length_function=len, # 길이를 문자로 계산\n",
        "    is_separator_regex=False,\n",
        ")\n",
        "\n",
        "chunks = text_splitter.split_documents(documents)\n",
        "\n",
        "print(\"\\n--- 분할된 청크 정보 ---\")\n",
        "print(f\"생성된 청크 개수: {len(chunks)}\")\n",
        "for i, chunk in enumerate(chunks):\n",
        "    print(f\"  청크 {i+1} (길이: {len(chunk.page_content)}):\")\n",
        "    print(f\"  '{chunk.page_content[:100]}...'\") # 각 청크의 앞부분만 출력\n",
        "    print(f\"  메타데이터: {chunk.metadata}\")\n",
        "print(\"-\" * 20)"
      ]
    },
    {
      "cell_type": "markdown",
      "metadata": {
        "id": "2aaeOC22RAqk"
      },
      "source": [
        "## 1-2 UPSTAGE Credit 및 API Key 발급 받기\n",
        "\n",
        "1. 회원 가입 진행\n",
        "  1. <a href = \"https://console.upstage.ai/\">업스테이지 콘솔</a> 에 방문합니다.\n",
        "  2. 계정이 없다면, 구글 계정을 통해 회원가입을 진행합니다\n",
        "  3.  계정에 로그인 합니다.\n",
        "\n",
        "2. API Key 발급\n",
        "  1. <a href = \"https://console.upstage.ai/api-keys\">업스테이지 콘솔 - API Keys</a>페이지를 클릭합니다.\n",
        "  2. Create New key를 누르고, 발급받은 API key를 복사합니다.\n",
        "  3. 하단 셀을 실행한 후, 복사한 API Key를 넣습니다.\n",
        "  4. 세션 재시작시에는 업스테이지 api 를 사용하는 코드를 사용하기 위해 반드시 다시 설정해야 합니다.\n"
      ]
    },
    {
      "cell_type": "code",
      "execution_count": 26,
      "metadata": {
        "colab": {
          "base_uri": "https://localhost:8080/"
        },
        "id": "wsUMMUR0Nr22",
        "outputId": "dceb5364-7c52-41ab-8097-af3dc416e941"
      },
      "outputs": [
        {
          "name": "stdout",
          "output_type": "stream",
          "text": [
            "API key has been set successfully.\n"
          ]
        }
      ],
      "source": [
        "# @title set API key\n",
        "import os\n",
        "import getpass\n",
        "import warnings\n",
        "\n",
        "warnings.filterwarnings(\"ignore\")\n",
        "\n",
        "# Get the Upstage API key using getpass\n",
        "if \"UPSTAGE_API_KEY\" not in os.environ or not os.environ[\"UPSTAGE_API_KEY\"]:\n",
        "    os.environ[\"UPSTAGE_API_KEY\"] = getpass.getpass(\"Enter your Upstage API key: \")\n",
        "\n",
        "print(\"API key has been set successfully.\")"
      ]
    },
    {
      "cell_type": "code",
      "execution_count": 27,
      "metadata": {
        "colab": {
          "base_uri": "https://localhost:8080/"
        },
        "id": "1a7fa77e",
        "outputId": "ee16c212-0100-49ec-c4c5-bb38f010d105"
      },
      "outputs": [
        {
          "name": "stdout",
          "output_type": "stream",
          "text": [
            "--- 로드된 문서 정보 ---\n",
            "문서 개수: 1\n",
            "첫 번째 문서 내용 (일부): # AI 온라인 서점 배송 정책\n",
            "\n",
            "## 일반 배송\n",
            "- 평일 오후 3시 이전 주문 시 당일 발송됩니다.\n",
            "- 오후 3시 이후 주문 건은 익일 발송됩니다.\n",
            "- 주말 및 공휴일은 배송이 ...\n",
            "첫 번째 문서 메타데이터: {'source': './shipping_policy.txt'}\n",
            "--------------------\n",
            "\n",
            "--- 분할된 청크 정보 ---\n",
            "생성된 청크 개수: 2\n",
            "  청크 1 (길이: 195):\n",
            "  '# AI 온라인 서점 배송 정책\n",
            "\n",
            "## 일반 배송\n",
            "- 평일 오후 3시 이전 주문 시 당일 발송됩니다.\n",
            "- 오후 3시 이후 주문 건은 익일 발송됩니다.\n",
            "- 주말 및 공휴일은 배송이 ...'\n",
            "  메타데이터: {'source': './shipping_policy.txt'}\n",
            "  청크 2 (길이: 118):\n",
            "  '## 배송 조회\n",
            "- 주문 번호 order-123의 배송 상태는 마이페이지에서 조회 가능합니다.\n",
            "- 회원 및 비회원 모두 주문 번호로 배송 조회가 가능합니다.\n",
            "- 배송 관련 문의는 ...'\n",
            "  메타데이터: {'source': './shipping_policy.txt'}\n",
            "--------------------\n"
          ]
        }
      ],
      "source": [
        "from langchain_community.document_loaders import TextLoader\n",
        "from langchain_text_splitters import RecursiveCharacterTextSplitter\n",
        "\n",
        "# 1. TextLoader를 사용하여 파일 불러오기\n",
        "loader = TextLoader(\"./shipping_policy.txt\")\n",
        "documents = loader.load()\n",
        "\n",
        "print(\"--- 로드된 문서 정보 ---\")\n",
        "print(f\"문서 개수: {len(documents)}\")\n",
        "if documents:\n",
        "    print(f\"첫 번째 문서 내용 (일부): {documents[0].page_content[:100]}...\")\n",
        "    print(f\"첫 번째 문서 메타데이터: {documents[0].metadata}\")\n",
        "print(\"-\" * 20)\n",
        "\n",
        "# 2. RecursiveCharacterTextSplitter를 사용하여 문서 분할\n",
        "# 적절한 chunk_size와 chunk_overlap을 설정합니다.\n",
        "# 여기서는 예시로 설정하며, 실제 적용 시에는 데이터 특성에 맞게 조정해야 합니다.\n",
        "text_splitter = RecursiveCharacterTextSplitter(\n",
        "    chunk_size=200,  # 청크 최대 크기 (문자 단위)\n",
        "    chunk_overlap=20, # 청크 간 겹치는 부분 (문자 단위)\n",
        "    length_function=len, # 길이를 문자로 계산\n",
        "    is_separator_regex=False,\n",
        ")\n",
        "\n",
        "chunks = text_splitter.split_documents(documents)\n",
        "\n",
        "print(\"\\n--- 분할된 청크 정보 ---\")\n",
        "print(f\"생성된 청크 개수: {len(chunks)}\")\n",
        "for i, chunk in enumerate(chunks):\n",
        "    print(f\"  청크 {i+1} (길이: {len(chunk.page_content)}):\")\n",
        "    print(f\"  '{chunk.page_content[:100]}...'\") # 각 청크의 앞부분만 출력\n",
        "    print(f\"  메타데이터: {chunk.metadata}\")\n",
        "print(\"-\" * 20)"
      ]
    },
    {
      "cell_type": "markdown",
      "metadata": {
        "id": "0vWxy7yJVoW7"
      },
      "source": [
        "# Langchain 이해하기\n",
        "\n",
        "\n",
        " ### 📘 LLM Chain이란?\n",
        "\n",
        " LLM Chain(체인)이란, **여러 구성 요소들을 결합**하여 **LLM의 출력을 생성하는 프로세스**를 의미합니다. 이는 입력 프롬프트를 모델에 전달하고, 모델의 출력을 받아 원하는 형식으로 처리할 수 있도록 구성된 파이프라인입니다. 각 단계별로 어떻게 Chain을 구성하는 지 알아봅시다.\n",
        "\n",
        "#### LLM Chain 구성 요소\n",
        "- **LLM(Large Language Model)**  : 모델 정의\n",
        "- **Prompt(프롬프트)** : LLM에게 쿼리(질문)과 함께 입력하는 예제와 지시사항  \n",
        "- Output Parser(출력 파서, *optional*) : 출력 결과의 형태를 지정할 수 있는 도구\n",
        "\n",
        "### (Recap.) LLM의 구성요소\n",
        "\n",
        "1. `User Input` : 사용자가 LLM에게 보낼 질문/쿼리/입력\n",
        "2. `Prompt`\n",
        "  - Task Description : LLM에게 특정 역할/task를 부여함. (e.g. 질의응답, 요약, 번역 등)\n",
        "  - Output Indicator : 대화 스타일, 어조 등을 부여하는 등 output 형식들을 지정\n",
        "  - Example Inputs : Few-Shot Prompting, LLM이 맥락을 더 파악할 수 있도록 예제를 넣어줌\n",
        "3. `LLM Model` : user input을 바탕으로 output을 생성할 대규모 텍스트 데이터로 사전학습된 AI 모델\n",
        "4. `Output` : LLM이 생성해내는 Text 답변/응답\n",
        "\n",
        "\n"
      ]
    },
    {
      "cell_type": "markdown",
      "metadata": {
        "id": "mREtVD4TXhxP"
      },
      "source": [
        "## 2-1 What is Langchain?\n",
        "\n",
        "<img src=\"https://media.licdn.com/dms/image/D4D12AQGQQFHNeQJRgQ/article-cover_image-shrink_720_1280/0/1711873462713?e=2147483647&v=beta&t=u5ls9p4LHatE_PxtiNIm23lIFGMaAjp-XHdV7TwwDxE\" alt=\"Langchain\" width=\"300\" />\n",
        "\n",
        "- LLM Chain을 제공해주는 라이브러리!\n",
        "\n",
        "- LangChain은 대규모 언어 모델(LLM)을 활용해 AI Application(e.g.챗봇, QA 시스템 등)을 쉽게 개발할 수 있도록 도와주는 프레임워크입니다. 이는 누구나 LLM을 이용해 쉽고 빠르게 애플리케이션을 만들고 배포할 수 있도록 지원합니다. 프로그래밍 경험이 없어도 LangChain의 다양한 도구와 템플릿을 통해 필요한 AI 애플리케이션을 만들 수 있습니다. 복잡한 개발 과정을 간소화하여 AI 애플리케이션 개발을 더 쉽게 접근할 수 있게 해줍니다.\n",
        "\n",
        "\n",
        "#### Langchain의 구성요소\n",
        "1. [Langchain Library](https://python.langchain.com/v0.2/docs/introduction/) : Lanchain의 다양한 기능을 사용할 수 있게 구현해둔 패키지\n",
        "   - **langchain-core**: LangChain의 가장 기본 문법\n",
        "   - **Integrated Package** : 다른 AI 도구와 LangChain을 쉽게 연결할 수 있는 패키지 (e.g. [langchain-upstage](https://python.langchain.com/docs/integrations/providers/upstage/), [langchain_chroma](https://python.langchain.com/docs/integrations/providers/chroma/))\n",
        "   - **langchain**: 애플리케이션 구성에 필요한 체인, 에이전트, 정보 검색 전략 등을 제공하여 애플리케이션의 '두뇌' 역할을 합니다.\n",
        "\n",
        "2. [Langchain Templates](https://templates.langchain.com/): 다양한 작업에 맞춘 템플릿으로, 개발자들이 애플리케이션을 더 빠르게 설정하고 실행할 수 있도록 돕습니다.\n",
        "3. [LangServe](https://python.langchain.com/docs/langserve/): LangChain으로 만든 애플리케이션을 REST API로 쉽게 배포할 수 있게 해주는 도구입니다.\n",
        "4. [LangSmith](https://docs.smith.langchain.com/): 개발자가 애플리케이션을 디버그하고 테스트하며 모니터링할 수 있도록 도와주는 플랫폼입니다.\n",
        "5. [LangGraph](https://www.langchain.com/langgraph): LLM이 가지는 여러 상태들을 관리하여 Agent를 구조화하여 구현할 수 있는 프레임워크입니다.\n",
        "\n",
        "더 자세한 Langchain에 대한 설명은 <a href = \"https://python.langchain.com/docs/introduction/\">Langchain Documentation</a> 을 확인하세요!"
      ]
    },
    {
      "cell_type": "markdown",
      "metadata": {
        "id": "6y8jLeH2T82-"
      },
      "source": [
        "### 코드 설명\n",
        "\n",
        "1. 선호하는 LLM 정의:\n",
        "   - `langchain_upstage`에서 `ChatUpstage` 클래스를 가져옵니다.\n",
        "   - `ChatUpstage` 인스턴스를 생성하고 변수 `llm`에 할당합니다.\n",
        "\n",
        "2. 입력 프롬프트 정의:\n",
        "   - `langchain_core.prompts`에서 `ChatPromptTemplate` 클래스를 가져옵니다.\n",
        "   - `from_messages()` 메서드를 사용해 `ChatPromptTemplate` 인스턴스를 생성합니다.\n",
        "   -  system prompt, few-shot prompting을 위한 예제들, user input 등을 포함한 메시지 리스트를 제공합니다.\n",
        "\n",
        "3. 출력 파서 정의 :\n",
        "   - `langchain_core.output_parsers`에서 `StrOutputParser` 클래스를 가져옵니다.\n",
        "   - 더 자세한 Parser에 대한 내용은 [Langchain Guide](https://python.langchain.com/docs/concepts/output_parsers/) 참고 바랍니다.\n",
        "\n",
        "4. 체인 정의 :\n",
        "   - `rag_with_history_prompt`, `llm`, `StrOutputParser()`를 파이프(`|`) 연산자를 사용하여 결합해 체인을 만듭니다.\n",
        "\n",
        "4. 체인 호출:\n",
        "   - `chain` 객체의 `invoke()` 메서드를 호출하고 빈 딕셔너리(`{}`)를 입력값으로 전달합니다.\n",
        "   - 체인에서 얻은 응답을 출력합니다."
      ]
    },
    {
      "cell_type": "code",
      "execution_count": 28,
      "metadata": {
        "colab": {
          "base_uri": "https://localhost:8080/"
        },
        "id": "p-qGVRpDRVH4",
        "outputId": "872d2af4-9b3f-4bf2-f8a2-72bdd3e90d38"
      },
      "outputs": [
        {
          "name": "stdout",
          "output_type": "stream",
          "text": [
            "알고 있습니다. 한국의 수도는 서울입니다.\n"
          ]
        }
      ],
      "source": [
        "# LLM Chain 구성하는 법.\n",
        "# 1. llm 정의, 2. prompt 정의, 3. chain 정의, 4. chain 호출\n",
        "\n",
        "# 1. define your favorate llm, solar\n",
        "from langchain_upstage import ChatUpstage\n",
        "\n",
        "llm = ChatUpstage()\n",
        "\n",
        "# 2. define chat prompt\n",
        "from langchain_core.prompts import ChatPromptTemplate # '대화' 형태로 prompt template 생성\n",
        "\n",
        "prompt = ChatPromptTemplate.from_messages(\n",
        "    [\n",
        "        (\"system\", \"모든 답변은 존댓말로 답변해줘.\"),\n",
        "\n",
        "        # few-shot prompting\n",
        "        (\"human\", \"프랑스의 수도는 어딘지 알아?\"),  # human request\n",
        "        (\"ai\", \"알고 있습니다. 파리입니다.\"),      # LLM response\n",
        "        (\"human\", \"일본의 수도는 어딘지 알아?\"),\n",
        "        (\"ai\",  \"알고 있습니다. 도쿄입니다.\"),\n",
        "\n",
        "        # User Query\n",
        "        (\"human\", \"그렇다면, 한국은?\"),\n",
        "    ]\n",
        ")\n",
        "\n",
        "# 3. define chain\n",
        "from langchain_core.output_parsers import StrOutputParser #문자열(text, string)만 나오게 하는 출력 파서\n",
        "\n",
        "# chain = prompt | llm  # without output parser\n",
        "\n",
        "chain = prompt | llm | StrOutputParser() # with output parser\n",
        "\n",
        "# 4. invoke the chain\n",
        "c_result = chain.invoke({})\n",
        "print(c_result)"
      ]
    },
    {
      "cell_type": "markdown",
      "metadata": {
        "id": "BX5blGdlV-R1"
      },
      "source": [
        "# RAG & Tool 이해하기\n",
        "\n",
        "**RAG : Retrieval-Augmented Generation**\n",
        "\n",
        "* **RAG (Retrieval-Augmented Generation)**:\n",
        "  * 단어의 뜻 (RAG 구성 요소):\n",
        "    * **Retrieval (검색):** 사용자의 질문과 관련된 정보를 외부 지식 기반(Vector Store)에서 찾아오는 과정입니다.\n",
        "    * **Augmented (증강된):** 검색된 정보를 LLM에게 추가로 제공하여, LLM이 그 정보를 바탕으로 더 풍부하고 정확한 답변을 생성하도록 돕는다는 의미입니다.\n",
        "    * **Generation (생성):** LLM이 검색된 정보와 사용자의 질문을 바탕으로 자연어 답변을 만들어내는 과정입니다.RAG는 \"검색 증강 생성\"의 줄임말입니다. LLM이 답변을 생성할 때, 단순히 학습된 지식에만 의존하는 것이 아니라, 외부의 신뢰할 수 있는 정보원(우리의 Vector Store)에서 관련 정보를 검색(Retrieval)하여, 그 정보를 참고해서(Augmented) 답변을 생성(Generation)하도록 돕는 기술입니다.\n",
        "  * **RAG 사용 이유:**\n",
        "정보의 최신성: LLM은 학습된 시점까지의 정보만 알고 있습니다. RAG를 사용하면 LLM이 학습된 이후의 최신 정보나 특정 도메인(예: 우리 온라인 서점의 배송 정책)에 대한 정보를 활용할 수 있습니다.\n",
        "    * **환각 (Hallucination) 문제 감소**: LLM은 때때로 사실이 아닌 내용을 지어내서 말하는 '환각' 현상을 보일 수 있습니다. RAG는 답변의 근거가 되는 실제 문서를 제공함으로써 LLM이 정확하고 신뢰성 있는 답변을 생성하도록 돕습니다.\n",
        "    * **특정 도메인 지식 활용:** 모든 정보를 LLM에게 학습시키는 것은 비효율적이고 비용이 많이 듭니다. RAG는 특정 분야의 전문 지식 문서들만 Vector Store에 넣어두고 필요할 때 검색해서 사용하게 함으로써 효율성을 높입니다.\n",
        "\n",
        "\n",
        "* **파싱 (Parsing):** 파싱은 \"분석\" 또는 \"구문\n",
        "분석\"이라고도 이해할 수 있습니다. 컴퓨터가 이해하기 쉬운 구조로 데이터를 변환하는 과정을 말해요. 우리가 보는 문서는 글자, 그림, 표 등 다양한 형태로 복잡하게 구성되어 있죠. PDF 파일이나 웹 페이지처럼요. 파싱은 이런 복잡한 문서에서 우리가 필요한 '순수한 텍스트' 내용과 그 외 중요한 정보(예: 제목, 작성자, 페이지 번호 등 메타데이터)를 뽑아내서, LLM이 처리하기 좋은 단순한 텍스트 형태로 만드는 작업을 의미합니다.\n",
        "  * **왜 파싱이 필요한가?** LLM은 기본적으로 텍스트를 가장 잘 처리합니다. 복잡한 구조나 그림이 있는 문서 전체를 그대로 주면 제대로 이해하기 어렵습니다. 파싱을 통해 핵심 텍스트만 추출하고 정돈하면, LLM이 문서를 더 빠르고 정확하게 이해하고 분석할 수 있게 됩니다.\n",
        "\n",
        "\n",
        "* **파싱 <-> 청킹 <-> 인덱싱 관계:**\n",
        "\n",
        "  이 세 과정은 RAG 시스템에서 외부 문서를 LLM이 활용할 수 있는 형태로 준비하는 파이프라인의 주요 단계입니다.\n",
        "  1. **파싱:**  가장 먼저, 다양한 형식의 원본 문서(PDF, 웹페이지 등)에서 LLM이 처리하기 좋은 '순수한 텍스트'와 메타데이터를 추출하는 과정입니다.\n",
        "  2. **청킹:** 파싱된 긴 텍스트를 LLM의 컨텍스트 창 한계와 검색 효율성을 고려하여 의미 있는 작은 단위인 '청크'들로 나누는 과정입니다.\n",
        "  3. **인덱싱 (Indexing):**  이렇게 분할된 텍스트 청크들을 임베딩 모델을 사용하여 벡터로 변환하고, 이 벡터들을 Vector Store에 저장하는 과정 전체를 '인덱싱'이라고 부르기도 합니다. Vector Store는 이 벡터들을 효율적으로 검색할 수 있도록 일종의 '색인(Index)'을 만듭니다. 사용자의 질문이 들어오면, 질문도 벡터로 변환한 후, Vector Store의 색인을 사용하여 질문 벡터와 유사한 청크 벡터들을 빠르게 찾아냅니다. Retriever가 이 인덱싱된 Vector Store를 활용하여 검색을 수행합니다."
      ]
    },
    {
      "cell_type": "markdown",
      "metadata": {
        "id": "KTtDA5mDXyAm"
      },
      "source": [
        "## 3-1 What is RAG?\n",
        "\n",
        "\n",
        "1. Vector Store 생성: 앞서 준비한 텍스트 조각(청크)들을 컴퓨터가 이해할 수 있는 숫자의 배열(벡터)로 변환하고, 이 벡터들을 효율적으로 저장하고 검색할 수 있는 데이터베이스를 만드는 것입니다. 이 데이터베이스를 Vector Store라고 부릅니다. 여기서는 Chroma라는 Vector Store를 사용합니다.\n",
        "2. Retriever 생성: Vector Store에 저장된 벡터들 중에서 사용자의 질문과 가장 관련이 깊은 벡터(즉, 질문의 의미와 가장 유사한 텍스트 청크)를 찾아주는 도구를 만듭니다. 이것을 Retriever (검색기)라고 합니다.\n",
        "3. Retriever를 도구로 만들기: 이렇게 만든 Retriever를 우리 AI 에이전트가 사용할 수 있도록 '도구(Tool)' 형태로 만듭니다. 에이전트는 이 도구를 사용하여 사용자의 질문에 답변하기 위해 필요한 정보를 Vector Store에서 찾아올 수 있습니다.\n",
        "\n",
        "\n",
        "\n",
        "- **처리순서**\n",
        "\n",
        "  원본 문서 -(파싱)-> 정제된 텍스트 -(청킹)-> 텍스트 청크 리스트 -(인덱싱: 임베딩 & Vector Store 저장)-> Vector Store (검색 가능한 벡터 데이터)\n",
        "\n",
        "\n",
        "\n",
        "### 코드설명\n",
        "\n",
        "실습 3의 코드는 이 과정 중 3번(인덱싱 - Vector Store 생성)과 4번(Retriever 생성 및 도구화) 부분을 구현하는 것입니다.\n",
        "\n",
        "코드를 다시 보시면, UpstageEmbeddings를 사용하여 텍스트 청크를 벡터로 변환하고, Chroma.from_documents로 Vector Store를 만들고 데이터를 저장하는 부분이 바로 인덱싱 단계에 해당합니다. 그리고 vectorstore.as_retriever()로 검색기를 만들고, create_retriever_tool로 에이전트 도구로 만드는 과정이 포함되어 있습니다.\n",
        "\n",
        "\n"
      ]
    },
    {
      "cell_type": "markdown",
      "metadata": {
        "id": "aac1967b"
      },
      "source": [
        "### 실제 데이터 로드 및 파싱\n",
        "\n",
        "### Subtask 1 :\n",
        "`TextLoader`를 사용하여 배송정책 데이터 파일(`shipping_policy.txt`)을 로드하고 파싱합니다.\n",
        "\n",
        "### Subtask 2 :\n",
        "\n",
        "별도로 제공된 **yes24 보상·혜택 제도 관련 PDF 파일**을 `PyPDFLoader`로 로드하고 파싱합니다.  \n",
        "- 아래 yes24 링크는 **출처 안내용**이며, 실습은 **이미 출처에서 추출해 제공된 PDF 파일**로 진행합니다.  \n",
        "- Colab 환경에서는 아래 제공된 Google Drive 마운트 후 제공된 PDF를 드라이브에 업로드하고 진행합니다.\n",
        "\n",
        "출처: [yes24 보상/혜택 제도 페이지](https://www.yes24.com/Mall/Help/FAQ?faqGb=34&faqSubGb=YD3#:~:text=*%20%EB%B3%80%EC%8B%AC%2C%20%EC%98%A4%EC%A3%BC%EB%AC%B8%EC%97%90%20%EC%9D%98%ED%95%9C,%ED%9B%84%20%EB%B0%98%ED%92%88%EC%9D%B4%20%EA%B0%80%EB%8A%A5%ED%95%A9%EB%8B%88%EB%8B%A4.)"
      ]
    },
    {
      "cell_type": "code",
      "execution_count": null,
      "metadata": {},
      "outputs": [],
      "source": [
        "from google.colab import drive\n",
        "drive.mount('/content/drive')"
      ]
    },
    {
      "cell_type": "markdown",
      "metadata": {},
      "source": [
        "1. 코드를 실행하면 \"Go to this URL in a browser:\" 라는 메시지와 함께 링크가 나타납니다. 이 링크를 클릭하세요.\n",
        "2. Google 계정 선택 화면이 나타나면 Google Drive에 연결할 계정을 선택합니다.\n",
        "3. Google Drive 권한 요청 화면이 나타나면 \"허용\"을 클릭합니다.\n",
        "4. 인증 코드가 나타나면 이 코드를 복사합니다.\n",
        "5. Colab으로 돌아와 \"Enter your authorization code:\" 아래에 복사한 인증 코드를 붙여넣고 Enter 키를 누릅니다.\n",
        "\n",
        "정상적으로 마운트가 완료되면 `/content/drive` 경로를 통해 Google Drive에 접근할 수 있습니다."
      ]
    },
    {
      "cell_type": "code",
      "execution_count": 29,
      "metadata": {
        "colab": {
          "base_uri": "https://localhost:8080/"
        },
        "id": "6d259fc8",
        "outputId": "bf0b9bfe-1fdc-4350-e4bb-48e162de46bb"
      },
      "outputs": [
        {
          "name": "stdout",
          "output_type": "stream",
          "text": [
            "--- './' 경로에서 찾은 PDF 파일 목록: [] ---\n",
            "'./shipping_policy.txt' 파일 로드 완료. 1 문서 로드됨.\n",
            "\n",
            "--- 모든 파일에서 로드된 총 문서 정보 ---\n",
            "총 문서 개수: 1\n",
            "첫 번째 문서 내용 (일부): # AI 온라인 서점 배송 정책\n",
            "\n",
            "## 일반 배송\n",
            "- 평일 오후 3시 이전 주문 시 당일 발송됩니다.\n",
            "- 오후 3시 이후 주문 건은 익일 발송됩니다.\n",
            "- 주말 및 공휴일은 배송이 어렵습니다.\n",
            "\n",
            "## 도서 산간 지역 배송\n",
            "- 제주 및 도서 산간 지역은 추가 배송비가 발생할 수 있습니다.\n",
            "- 추가 배송비 및 예상 소요 시간은 주문 시 확인 가능합니다.\n",
            "\n",
            "## ...\n",
            "첫 번째 문서 메타데이터: {'source': './shipping_policy.txt'}\n",
            "--------------------\n"
          ]
        }
      ],
      "source": [
        "import glob # 파일을 검색하기 위한 glob 모듈을 가져옵니다.\n",
        "from langchain_community.document_loaders import TextLoader\n",
        "from langchain_community.document_loaders import PyMuPDFLoader\n",
        "\n",
        "# './' 경로에 있는 모든 PDF 파일을 찾습니다.\n",
        "pdf_files = glob.glob('/content/drive/*.pdf')\n",
        "\n",
        "all_documents = [] # 모든 PDF 파일에서 로드된 문서를 저장할 빈 리스트를 생성합니다.\n",
        "\n",
        "print(f\"--- './' 경로에서 찾은 PDF 파일 목록: {pdf_files} ---\")\n",
        "\n",
        "# 찾은 각 PDF 파일에 대해 로드 및 파싱을 수행합니다.\n",
        "for pdf_filepath in pdf_files:\n",
        "    try:\n",
        "        #loader = PyPDFLoader(pdf_filepath)\n",
        "        loader = PyMuPDFLoader(pdf_filepath)\n",
        "        pages = loader.load()\n",
        "        all_documents.extend(pages) # 로드된 페이지들을 all_documents 리스트에 추가합니다.\n",
        "        print(f\"'{pdf_filepath}' 파일 로드 완료. {len(pages)} 페이지 로드됨.\")\n",
        "    except Exception as e:\n",
        "        print(f\"'{pdf_filepath}' 파일 로드 중 오류 발생: {e}\")\n",
        "\n",
        "# shipping_policy.txt 파일도 로드하여 all_documents에 추가합니다.\n",
        "shipping_policy_file_path = './shipping_policy.txt'\n",
        "\n",
        "try:\n",
        "    # Create a TextLoader instance with the file path\n",
        "    loader = TextLoader(shipping_policy_file_path)\n",
        "\n",
        "    # Load the document\n",
        "    text_documents = loader.load()\n",
        "\n",
        "    # Extend all_documents with text file documents\n",
        "    all_documents.extend(text_documents)\n",
        "    print(f\"'{shipping_policy_file_path}' 파일 로드 완료. {len(text_documents)} 문서 로드됨.\")\n",
        "\n",
        "\n",
        "except FileNotFoundError:\n",
        "    print(f\"Error: File not found at {shipping_policy_file_path}. Please ensure the file exists at this location.\")\n",
        "except Exception as e:\n",
        "    print(f\"An error occurred while loading {shipping_policy_file_path}: {e}\")\n",
        "\n",
        "\n",
        "# 모든 로드된 총 문서(PDF 페이지 + Text 문서) 정보 출력\n",
        "print(\"\\n--- 모든 파일에서 로드된 총 문서 정보 ---\")\n",
        "print(f\"총 문서 개수: {len(all_documents)}\")\n",
        "if all_documents:\n",
        "    print(f\"첫 번째 문서 내용 (일부): {all_documents[0].page_content[:200]}...\")\n",
        "    print(f\"첫 번째 문서 메타데이터: {all_documents[0].metadata}\")\n",
        "else:\n",
        "    print(\"로드된 문서가 없습니다.\")\n",
        "print(\"-\" * 20)\n",
        "\n",
        "# 다음 단계를 위해 변수 이름을 'documents'로 맞춥니다.\n",
        "documents = all_documents"
      ]
    },
    {
      "cell_type": "markdown",
      "metadata": {
        "id": "4c7d0389"
      },
      "source": [
        "### 텍스트 청킹\n",
        "\n",
        "### Subtask:\n",
        "로드된 실제 데이터를 검색에 용이한 청크로 분할합니다."
      ]
    },
    {
      "cell_type": "code",
      "execution_count": 30,
      "metadata": {
        "colab": {
          "base_uri": "https://localhost:8080/"
        },
        "id": "f2dd4eee",
        "outputId": "5dd6599e-9702-4e95-fbda-acf3cb2c8e8a"
      },
      "outputs": [
        {
          "name": "stdout",
          "output_type": "stream",
          "text": [
            "\n",
            "--- 분할된 청크 정보 ---\n",
            "생성된 청크 개수: 2\n",
            "  청크 1 (길이: 195):\n",
            "  '# AI 온라인 서점 배송 정책\n",
            "\n",
            "## 일반 배송\n",
            "- 평일 오후 3시 이전 주문 시 당일 발송됩니다.\n",
            "- 오후 3시 이후 주문 건은 익일 발송됩니다.\n",
            "- 주말 및 공휴일은 배송이 ...'\n",
            "  메타데이터: {'source': './shipping_policy.txt'}\n",
            "  청크 2 (길이: 118):\n",
            "  '## 배송 조회\n",
            "- 주문 번호 order-123의 배송 상태는 마이페이지에서 조회 가능합니다.\n",
            "- 회원 및 비회원 모두 주문 번호로 배송 조회가 가능합니다.\n",
            "- 배송 관련 문의는 ...'\n",
            "  메타데이터: {'source': './shipping_policy.txt'}\n",
            "--------------------\n"
          ]
        }
      ],
      "source": [
        "from langchain_text_splitters import RecursiveCharacterTextSplitter\n",
        "\n",
        "# 2. RecursiveCharacterTextSplitter를 사용하여 문서 분할\n",
        "# 적절한 chunk_size와 chunk_overlap을 설정합니다.\n",
        "# 여기서는 예시로 설정하며, 실제 적용 시에는 데이터 특성에 맞게 조정해야 합니다.\n",
        "text_splitter = RecursiveCharacterTextSplitter(\n",
        "    chunk_size=200,  # 청크 최대 크기 (문자 단위)\n",
        "    chunk_overlap=20, # 청크 간 겹치는 부분 (문자 단위)\n",
        "    length_function=len, # 길이를 문자로 계산\n",
        "    is_separator_regex=False,\n",
        ")\n",
        "\n",
        "chunks = text_splitter.split_documents(documents)\n",
        "\n",
        "print(\"\\n--- 분할된 청크 정보 ---\")\n",
        "print(f\"생성된 청크 개수: {len(chunks)}\")\n",
        "for i, chunk in enumerate(chunks):\n",
        "    print(f\"  청크 {i+1} (길이: {len(chunk.page_content)}):\")\n",
        "    print(f\"  '{chunk.page_content[:100]}...'\") # 각 청크의 앞부분만 출력\n",
        "    print(f\"  메타데이터: {chunk.metadata}\")\n",
        "print(\"-\" * 20)"
      ]
    },
    {
      "cell_type": "markdown",
      "metadata": {
        "id": "7750b9c1"
      },
      "source": [
        "### Vector store 및 retriever 생성\n",
        "\n",
        "### Subtask:\n",
        "청킹된 실제 데이터를 사용하여 Vector Store를 생성하고 Retriever를 구축합니다.\n"
      ]
    },
    {
      "cell_type": "code",
      "execution_count": 31,
      "metadata": {
        "colab": {
          "base_uri": "https://localhost:8080/"
        },
        "id": "36249060",
        "outputId": "1a46d034-f842-4a4d-e609-a91316d18e93"
      },
      "outputs": [
        {
          "name": "stdout",
          "output_type": "stream",
          "text": [
            "\n",
            "--- Vector Store 생성 완료 ---\n",
            "Vector Store에 저장된 문서 개수: 16\n",
            "--- Retriever 생성 완료 ---\n",
            "--------------------\n"
          ]
        }
      ],
      "source": [
        "from langchain_community.vectorstores import Chroma\n",
        "from langchain_upstage import UpstageEmbeddings\n",
        "\n",
        "# 1. UpstageEmbeddings 인스턴스 생성\n",
        "# 환경 변수에 Upstage API 키가 올바르게 설정되어 있는지 확인하세요.\n",
        "embeddings = UpstageEmbeddings(model=\"embedding-query\")\n",
        "\n",
        "# 2. 청크로부터 Chroma Vector Store 생성\n",
        "# 'chunks' 변수는 이전 하위 작업에서 성공적으로 생성되었습니다.\n",
        "vectorstore = Chroma.from_documents(documents=chunks, embedding=embeddings)\n",
        "\n",
        "print(\"\\n--- Vector Store 생성 완료 ---\")\n",
        "# 선택 사항: 확인을 위해 벡터 스토어에 있는 문서 수를 출력합니다.\n",
        "try:\n",
        "    print(f\"Vector Store에 저장된 문서 개수: {vectorstore._collection.count()}\")\n",
        "except Exception as e:\n",
        "    print(f\"Vector Store 문서 개수 확인 중 오류 발생: {e}\")\n",
        "\n",
        "\n",
        "# 3. 벡터 스토어를 검색기로 변환\n",
        "retriever = vectorstore.as_retriever()\n",
        "\n",
        "print(\"--- Retriever 생성 완료 ---\")\n",
        "print(\"-\" * 20)"
      ]
    },
    {
      "cell_type": "markdown",
      "metadata": {
        "id": "NmudrO-hdkJ5"
      },
      "source": [
        "### Naive RAG 수행"
      ]
    },
    {
      "cell_type": "code",
      "execution_count": 35,
      "metadata": {
        "colab": {
          "base_uri": "https://localhost:8080/"
        },
        "id": "XdMZNg3jdjkr",
        "outputId": "7b6e4683-f2e6-465a-c16f-e5d85933d02a"
      },
      "outputs": [
        {
          "name": "stdout",
          "output_type": "stream",
          "text": [
            "--- Naive RAG 체인 구성 완료 ---\n",
            "first=RunnableAssign(mapper={\n",
            "  context: RunnableLambda(itemgetter('question'))\n",
            "           | VectorStoreRetriever(tags=['Chroma', 'UpstageEmbeddings'], vectorstore=<langchain_community.vectorstores.chroma.Chroma object at 0x7f8fcca5e4e0>, search_kwargs={})\n",
            "           | RunnableLambda(format_docs)\n",
            "}) middle=[ChatPromptTemplate(input_variables=['context', 'question'], input_types={}, partial_variables={}, messages=[SystemMessagePromptTemplate(prompt=PromptTemplate(input_variables=['context'], input_types={}, partial_variables={}, template='너는 AI 온라인 서점의 고객 서비스 에이전트야.\\n모든 답변은 존댓말로 답변해줘.\\n다음 컨텍스트를 참고해서 질문에 답변해:\\n\\n{context}'), additional_kwargs={}), HumanMessagePromptTemplate(prompt=PromptTemplate(input_variables=['question'], input_types={}, partial_variables={}, template='{question}'), additional_kwargs={})])] last=ChatUpstage(client=<openai.resources.chat.completions.completions.Completions object at 0x7f8fc61b2b70>, async_client=<openai.resources.chat.completions.completions.AsyncCompletions object at 0x7f8fccbd0050>, model_kwargs={}, upstage_api_key=SecretStr('**********'), upstage_api_base='https://api.upstage.ai/v1/solar')\n",
            "\n",
            "--- 질문 '주말에도 배송되나요?'으로 RAG 체인 테스트 중 ---\n",
            "\n",
            "--- RAG 체인 응답 ---\n",
            "안녕하세요, AI 온라인 서점입니다. 문의하신 배송 정책에 대해 안내해 드리겠습니다. 현재 저희 서점의 배송 정책에 따르면, 주말 및 공휴일은 배송이 어려운 것으로 되어 있습니다. 따라서 주말에는 배송이 진행되지 않습니다. 다른 문의 사항이 있으시면 언제든지 말씀해 주세요. 감사합니다.\n",
            "--------------------\n"
          ]
        }
      ],
      "source": [
        "from langchain_core.runnables import RunnablePassthrough\n",
        "from langchain_core.prompts import ChatPromptTemplate\n",
        "from langchain_upstage import ChatUpstage\n",
        "from operator import itemgetter # itemgetter 임포트\n",
        "\n",
        "# 이전 단계에서 retriever와 llm이 준비되었다고 가정합니다.\n",
        "# 그렇지 않다면 여기서 정의하거나 임포트해야 합니다.\n",
        "\n",
        "# RAG 체인을 위한 프롬프트 템플릿 정의\n",
        "# 이 템플릿은 검색된 컨텍스트와 사용자 질문을 위한 플레이스홀더를 포함합니다.\n",
        "rag_prompt = ChatPromptTemplate.from_messages(\n",
        "    [\n",
        "        (\"system\", \"너는 AI 온라인 서점의 고객 서비스 에이전트야.\\n모든 답변은 존댓말로 답변해줘.\\n다음 컨텍스트를 참고해서 질문에 답변해:\\n\\n{context}\"),\n",
        "        (\"human\", \"{question}\"),\n",
        "    ]\n",
        ")\n",
        "\n",
        "# 검색된 문서 목록을 하나의 문자열로 포맷하는 헬퍼 함수\n",
        "def format_docs(docs):\n",
        "    \"\"\"문서 목록을 하나의 문자열로 포맷합니다.\"\"\"\n",
        "    return \"\\n\\n\".join(doc.page_content for doc in docs)\n",
        "\n",
        "\n",
        "# LCEL을 사용하여 Naive RAG 체인 구성\n",
        "# 체인은 다음을 수행합니다:\n",
        "# 1. 사용자 질문을 입력으로 받습니다 ('question' 키를 가진 딕셔너리 형태).\n",
        "# 2. itemgetter('question')을 사용하여 질문 문자열을 추출합니다.\n",
        "# 3. 질문 문자열을 retriever에게 전달하여 관련 문서를 가져옵니다.\n",
        "# 4. format_docs를 사용하여 검색된 문서를 포맷합니다.\n",
        "# 5. 포맷된 컨텍스트와 원본 질문 (RunnablePassthrough 사용)을 rag_prompt에게 전달합니다.\n",
        "# 6. 결과 프롬프트를 LLM에게 보내 최종 답변을 생성합니다.\n",
        "rag_chain = (\n",
        "    RunnablePassthrough.assign(context=itemgetter(\"question\") | retriever | format_docs)\n",
        "    | rag_prompt\n",
        "    | llm\n",
        ")\n",
        "\n",
        "print(\"--- Naive RAG 체인 구성 완료 ---\")\n",
        "# 확인을 위해 체인 구조 출력\n",
        "print(rag_chain)\n",
        "\n",
        "\n",
        "# 테스트 질문으로 RAG 체인 실행\n",
        "test_question = \"주말에도 배송되나요?\"\n",
        "\n",
        "print(f\"\\n--- 질문 '{test_question}'으로 RAG 체인 테스트 중 ---\")\n",
        "\n",
        "# 테스트 질문으로 체인 호출\n",
        "# 출력은 ChatMessage 객체이므로 content 속성에 접근합니다.\n",
        "try:\n",
        "    response = rag_chain.invoke({\"question\": test_question})\n",
        "    print(\"\\n--- RAG 체인 응답 ---\")\n",
        "    print(response.content)\n",
        "    print(\"-\" * 20)\n",
        "except Exception as e:\n",
        "    print(f\"\\n--- RAG 체인 실행 오류 ---\")\n",
        "    print(f\"오류: {e}\")\n",
        "    print(\"'retriever'와 'llm'이 이전 셀에 정의되어 있는지 확인하십시오.\")\n",
        "    print(\"-\" * 20)\n",
        "\n",
        "\n",
        "# 다른 질문으로도 테스트할 수 있습니다.\n",
        "# test_question_2 = \"제주도 추가 배송비가 있나요?\"\n",
        "# print(f\"\\n--- 질문 '{test_question_2}'으로 RAG 체인 테스트 중 ---\")\n",
        "# try:\n",
        "#     response_2 = rag_chain.invoke({\"question\": test_question_2})\n",
        "#     print(\"\\n--- RAG 체인 응답 ---\")\n",
        "#     print(response_2.content)\n",
        "#     print(\"-\" * 20)\n",
        "# except Exception as e:\n",
        "#     print(f\"\\n--- RAG 체인 실행 오류 ---\")\n",
        "#     print(f\"오류: {e}\")\n",
        "#     print(\"'retriever'와 'llm'이 이전 셀에 정의되어 있는지 확인하십시오.\")\n",
        "#     print(\"-\" * 20)"
      ]
    },
    {
      "cell_type": "markdown",
      "metadata": {
        "id": "X4Yd9qTHX1fw"
      },
      "source": [
        "## 3-2 What is Agent & Tool?\n"
      ]
    },
    {
      "cell_type": "markdown",
      "metadata": {
        "id": "df020115"
      },
      "source": [
        "### Agent (에이전트)란?\n",
        "\n",
        "**정의:**\n",
        "\n",
        "AI 에이전트는 목표 달성을 위해 계획을 세우고, 필요한 도구(Tool)를 사용하며, 관찰(Observation) 결과를 바탕으로 다음 행동을 결정하는 자율적인 시스템입니다. LLM은 에이전트의 '두뇌' 역할을 하지만, 에이전트는 단순히 텍스트를 생성하는 것을 넘어 외부 환경과 상호작용하고 문제를 해결하기 위해 설계됩니다.\n",
        "\n",
        "Agent는 다음의 핵심 요소들로 구성될 수 있습니다:\n",
        "\n",
        "*   **LLM (Large Language Model):** 에이전트의 의사결정 및 텍스트 생성 능력의 기반입니다. 사용자의 요청을 이해하고, 어떤 도구를 사용할지, 다음 단계는 무엇일지 등을 판단하는 역할을 합니다.\n",
        "*   **Planner (계획자):** 복잡한 목표를 달성하기 위해 일련의 단계(Sub-goals)를 설정하고, 각 단계에 필요한 도구 사용 계획을 세웁니다.\n",
        "*   **Tool (도구):** 에이전트가 특정 작업을 수행하거나 외부 정보에 접근하기 위해 사용하는 기능입니다. 예를 들어, 검색 엔진 도구, 계산기 도구, 데이터베이스 조회 도구 등이 있습니다.\n",
        "*   **Memory (메모리):** 과거 대화 기록이나 작업 수행 정보를 기억하여 현재의 의사결정이나 다음 행동에 활용합니다.\n",
        "*   **Observation (관찰):** 도구 사용 결과나 외부 시스템과의 상호작용 결과를 받아들이고 해석하는 과정입니다. 이 관찰 결과를 바탕으로 계획을 수정하거나 다음 행동을 결정합니다.\n",
        "\n",
        "**사용 이유:**\n",
        "\n",
        "LLM은 뛰어난 텍스트 이해 및 생성 능력을 가지고 있지만, 몇 가지 근본적인 한계가 있습니다. Agent는 이러한 LLM의 한계를 극복하고 더 복잡하고 실제적인 문제를 해결하기 위해 사용됩니다. Agent를 사용하는 주요 이유는 다음과 같습니다.\n",
        "\n",
        "1.  **최신 정보 접근 및 활용:** LLM은 학습된 시점까지의 데이터만 알고 있습니다. Agent는 검색 엔진이나 데이터베이스와 같은 'Tool'을 사용하여 실시간 정보나 최신 데이터를 검색하고, 이를 바탕으로 답변하거나 작업을 수행할 수 있습니다. (RAG의 확장된 개념)\n",
        "2.  **정확하고 신뢰성 있는 정보 제공 (환각 감소):** LLM은 때때로 사실과 다른 내용을 지어내거나 잘못된 정보를 제공하는 '환각(Hallucination)' 현상을 보입니다. Agent는 외부의 신뢰할 수 있는 정보 소스(Tool을 통해 접근)를 통해 정보를 확인하고 근거를 바탕으로 답변함으로써 환각을 줄이고 정보의 신뢰성을 높일 수 있습니다.\n",
        "3.  **특정 작업 수행 및 자동화:** Agent는 계산, API 호출, 파일 조작, 외부 시스템과의 상호작용 등 다양한 'Tool'을 사용하여 특정 작업을 수행할 수 있습니다. 이를 통해 단순 질의응답을 넘어 복잡한 업무를 자동화하고 사용자 요청을 직접 처리하는 에이전트 역할을 할 수 있습니다.\n",
        "4.  **복잡한 문제 해결:** Agent는 복잡한 문제를 작은 단계로 나누고, 각 단계에 맞는 도구를 사용하여 문제를 해결해 나가는 추론 과정을 수행할 수 있습니다. 이는 LLM 단독으로는 어려운 다단계 작업을 가능하게 합니다.\n",
        "5.  **외부 환경과의 상호작용:** Agent는 Tool을 통해 단순히 텍스트를 주고받는 것을 넘어 외부 API를 호출하거나 데이터베이스를 업데이트하는 등 실제 환경과 상호작용하는 애플리케이션을 구축할 수 있게 합니다.\n",
        "\n",
        "요약하자면, Agent는 LLM에 계획, 도구 사용, 관찰, 기억 등의 능력을 부여하여 LLM의 지능을 확장하고, 더 넓은 범위의 문제를 해결하며 실제 세계와 상호작용할 수 있도록 만드는 개념입니다."
      ]
    },
    {
      "cell_type": "markdown",
      "metadata": {
        "id": "EpSKscqviVRi"
      },
      "source": [
        "### What is Tool?\n",
        "\n",
        "- **정의:** AI 에이전트가 특정 작업을 수행하기 위해 사용하는 기능 또는 외부 리소스에 접근하는 방법입니다. LangChain에서는 @tool 데코레이터를 사용하여 Python 함수를 도구로 만들 수 있습니다.\n",
        "- **사용 이유:**\n",
        "LLM 자체의 정보/기능 한계 극복.\n",
        "실시간 정보, 특정 데이터베이스 정보 등 외부 데이터 접근. 계산, API 호출 등 다양한 작업 수행을 통한 에이전트 기능 확장.\n"
      ]
    },
    {
      "cell_type": "markdown",
      "metadata": {
        "id": "HpKjeQz1kDi6"
      },
      "source": [
        "### Retriever 도구화\n",
        "\n",
        "생성된 Retriever를 에이전트 도구로 만듭니다.\n"
      ]
    },
    {
      "cell_type": "code",
      "execution_count": 36,
      "metadata": {
        "colab": {
          "base_uri": "https://localhost:8080/"
        },
        "id": "30fe3192",
        "outputId": "19e9d9e3-4ecc-408a-8ecb-9b566e5965a7"
      },
      "outputs": [
        {
          "name": "stdout",
          "output_type": "stream",
          "text": [
            "\n",
            "--- 배송 정책 검색 도구 생성 완료 ---\n",
            "생성된 도구: [Tool(name='shipping_policy_search_tool', description=\"Searches and returns information about the AI online bookstore's shipping policy.\", args_schema=<class 'langchain_core.tools.retriever.RetrieverInput'>, func=functools.partial(<function _get_relevant_documents at 0x7f8fc074c400>, retriever=VectorStoreRetriever(tags=['Chroma', 'UpstageEmbeddings'], vectorstore=<langchain_community.vectorstores.chroma.Chroma object at 0x7f8fcca5e4e0>, search_kwargs={}), document_prompt=PromptTemplate(input_variables=['page_content'], input_types={}, partial_variables={}, template='{page_content}'), document_separator='\\n\\n', response_format='content'), coroutine=functools.partial(<function _aget_relevant_documents at 0x7f8fc074c540>, retriever=VectorStoreRetriever(tags=['Chroma', 'UpstageEmbeddings'], vectorstore=<langchain_community.vectorstores.chroma.Chroma object at 0x7f8fcca5e4e0>, search_kwargs={}), document_prompt=PromptTemplate(input_variables=['page_content'], input_types={}, partial_variables={}, template='{page_content}'), document_separator='\\n\\n', response_format='content'))]\n",
            "--------------------\n"
          ]
        }
      ],
      "source": [
        "# langchain 패키지의 tools 모듈에서 retriever 도구를 생성하는 함수를 가져옵니다.\n",
        "from langchain.tools.retriever import create_retriever_tool\n",
        "\n",
        "\n",
        "# retriever tool 생성\n",
        "if 'retriever' in locals():\n",
        "    shipping_policy_retriever_tool = create_retriever_tool(\n",
        "        retriever,\n",
        "        \"shipping_policy_search_tool\", # Tool name for the agent\n",
        "        \"Searches and returns information about the AI online bookstore's shipping policy.\" # Tool description (English is recommended)\n",
        "    )\n",
        "\n",
        "    # Create a list of tools\n",
        "    agent_tools = [shipping_policy_retriever_tool]\n",
        "\n",
        "    print(\"\\n--- 배송 정책 검색 도구 생성 완료 ---\")\n",
        "    print(f\"생성된 도구: {agent_tools}\")\n",
        "    print(\"-\" * 20)\n",
        "else:\n",
        "    print(\"오류: 'retriever' 변수가 생성되지 않았습니다. Vector Store 및 Retriever 생성 단계를 먼저 실행해주세요.\")"
      ]
    },
    {
      "cell_type": "code",
      "execution_count": 37,
      "metadata": {
        "colab": {
          "base_uri": "https://localhost:8080/"
        },
        "id": "821c1dc0",
        "outputId": "92f9c7cc-d7c2-4fc3-9e88-8b8ac59dce50"
      },
      "outputs": [
        {
          "name": "stdout",
          "output_type": "stream",
          "text": [
            "--- 주문 조회 도구 생성 완료 ---\n",
            "생성된 도구 이름: get_order_status\n",
            "생성된 도구 설명: 주문 번호를 입력받아 해당 주문의 배송 상태를 반환합니다.\n",
            "    알 수 없는 주문 번호의 경우, 해당 주문을 찾을 수 없음을 알립니다.\n",
            "--------------------\n",
            "\n",
            "--- 현재 에이전트 도구 목록 ---\n",
            "[Tool(name='shipping_policy_search_tool', description=\"Searches and returns information about the AI online bookstore's shipping policy.\", args_schema=<class 'langchain_core.tools.retriever.RetrieverInput'>, func=functools.partial(<function _get_relevant_documents at 0x7f8fc074c400>, retriever=VectorStoreRetriever(tags=['Chroma', 'UpstageEmbeddings'], vectorstore=<langchain_community.vectorstores.chroma.Chroma object at 0x7f8fcca5e4e0>, search_kwargs={}), document_prompt=PromptTemplate(input_variables=['page_content'], input_types={}, partial_variables={}, template='{page_content}'), document_separator='\\n\\n', response_format='content'), coroutine=functools.partial(<function _aget_relevant_documents at 0x7f8fc074c540>, retriever=VectorStoreRetriever(tags=['Chroma', 'UpstageEmbeddings'], vectorstore=<langchain_community.vectorstores.chroma.Chroma object at 0x7f8fcca5e4e0>, search_kwargs={}), document_prompt=PromptTemplate(input_variables=['page_content'], input_types={}, partial_variables={}, template='{page_content}'), document_separator='\\n\\n', response_format='content')), StructuredTool(name='get_order_status', description='주문 번호를 입력받아 해당 주문의 배송 상태를 반환합니다.\\n    알 수 없는 주문 번호의 경우, 해당 주문을 찾을 수 없음을 알립니다.', args_schema=<class 'langchain_core.utils.pydantic.get_order_status'>, func=<function get_order_status at 0x7f8fa208de40>)]\n",
            "--------------------\n"
          ]
        }
      ],
      "source": [
        "from langchain_core.tools import tool\n",
        "@tool\n",
        "def get_order_status(order_id: str) -> str:\n",
        "    \"\"\"주문 번호를 입력받아 해당 주문의 배송 상태를 반환합니다.\n",
        "    알 수 없는 주문 번호의 경우, 해당 주문을 찾을 수 없음을 알립니다.\n",
        "    \"\"\"\n",
        "    # 실제 시스템에서는 데이터베이스 조회 등의 로직이 들어갑니다.\n",
        "    # 여기서는 예시를 위해 더미 데이터를 사용합니다.\n",
        "    order_statuses = {\n",
        "        \"order-123\": \"상품 준비 중\",\n",
        "        \"order-456\": \"배송 중\",\n",
        "        \"order-789\": \"배송 완료\",\n",
        "    }\n",
        "\n",
        "    status = order_statuses.get(order_id, f\"주문 번호 {order_id}를 찾을 수 없습니다.\")\n",
        "    return status\n",
        "\n",
        "print(\"--- 주문 조회 도구 생성 완료 ---\")\n",
        "print(f\"생성된 도구 이름: {get_order_status.name}\")\n",
        "print(f\"생성된 도구 설명: {get_order_status.description}\")\n",
        "print(\"-\" * 20)\n",
        "\n",
        "# 생성된 도구를 리스트에 추가 (이후 에이전트 빌드 시 사용)\n",
        "# 이전에 생성된 tools 리스트에 추가하거나, 새로운 리스트를 생성합니다.\n",
        "# 여기서는 새로운 리스트를 생성합니다.\n",
        "agent_tools.append(get_order_status)\n",
        "\n",
        "print(\"\\n--- 현재 에이전트 도구 목록 ---\")\n",
        "print(agent_tools)\n",
        "print(\"-\" * 20)\n",
        "\n",
        "# 도구 사용 예시 (실제 에이전트가 호출하는 방식)\n",
        "# print(get_order_status.invoke(\"order-123\"))\n",
        "# print(get_order_status.invoke(\"order-999\"))"
      ]
    },
    {
      "cell_type": "code",
      "execution_count": 38,
      "metadata": {
        "colab": {
          "base_uri": "https://localhost:8080/"
        },
        "id": "dca7536e",
        "outputId": "b83b6e36-4458-4d95-fb71-4b62c5a4ea09"
      },
      "outputs": [
        {
          "name": "stdout",
          "output_type": "stream",
          "text": [
            "--- 인사 도구 생성 완료 ---\n",
            "생성된 도구 이름: greet_customer\n",
            "생성된 도구 설명: 고객의 인삿말(예: 안녕, 안녕하세요)이 포함되어 있으면, 정해진 환영 메시지를 반환합니다.\n",
            "--------------------\n",
            "\n",
            "--- 현재 에이전트 도구 목록 ---\n",
            "[Tool(name='shipping_policy_search_tool', description=\"Searches and returns information about the AI online bookstore's shipping policy.\", args_schema=<class 'langchain_core.tools.retriever.RetrieverInput'>, func=functools.partial(<function _get_relevant_documents at 0x7f8fc074c400>, retriever=VectorStoreRetriever(tags=['Chroma', 'UpstageEmbeddings'], vectorstore=<langchain_community.vectorstores.chroma.Chroma object at 0x7f8fcca5e4e0>, search_kwargs={}), document_prompt=PromptTemplate(input_variables=['page_content'], input_types={}, partial_variables={}, template='{page_content}'), document_separator='\\n\\n', response_format='content'), coroutine=functools.partial(<function _aget_relevant_documents at 0x7f8fc074c540>, retriever=VectorStoreRetriever(tags=['Chroma', 'UpstageEmbeddings'], vectorstore=<langchain_community.vectorstores.chroma.Chroma object at 0x7f8fcca5e4e0>, search_kwargs={}), document_prompt=PromptTemplate(input_variables=['page_content'], input_types={}, partial_variables={}, template='{page_content}'), document_separator='\\n\\n', response_format='content')), StructuredTool(name='get_order_status', description='주문 번호를 입력받아 해당 주문의 배송 상태를 반환합니다.\\n    알 수 없는 주문 번호의 경우, 해당 주문을 찾을 수 없음을 알립니다.', args_schema=<class 'langchain_core.utils.pydantic.get_order_status'>, func=<function get_order_status at 0x7f8fa208de40>), StructuredTool(name='greet_customer', description='고객의 인삿말(예: 안녕, 안녕하세요)이 포함되어 있으면, 정해진 환영 메시지를 반환합니다.', args_schema=<class 'langchain_core.utils.pydantic.greet_customer'>, func=<function greet_customer at 0x7f8fca817920>)]\n",
            "--------------------\n"
          ]
        }
      ],
      "source": [
        "from langchain.tools import tool\n",
        "\n",
        "@tool\n",
        "def greet_customer(query: str) -> str:\n",
        "    \"\"\"고객의 인삿말(예: 안녕, 안녕하세요)이 포함되어 있으면, 정해진 환영 메시지를 반환합니다.\"\"\"\n",
        "    greeting_keywords = [\"안녕\", \"안녕하세요\", \"하이\", \"반가워요\"]\n",
        "    if any(keyword in query for keyword in greeting_keywords):\n",
        "        return \"안녕하세요! AI 온라인 서점입니다. 무엇을 도와드릴까요?\"\n",
        "    else:\n",
        "        # 인삿말이 아닌 경우, 도구를 사용하지 않도록 빈 문자열 또는 None을 반환할 수도 있습니다.\n",
        "        # 여기서는 간단히 인삿말이 아님을 알립니다.\n",
        "        return \"\" # 에이전트가 이 도구를 사용하지 않도록 유도\n",
        "\n",
        "print(\"--- 인사 도구 생성 완료 ---\")\n",
        "print(f\"생성된 도구 이름: {greet_customer.name}\")\n",
        "print(f\"생성된 도구 설명: {greet_customer.description}\")\n",
        "print(\"-\" * 20)\n",
        "\n",
        "# 생성된 도구를 기존 에이전트 도구 리스트에 추가\n",
        "agent_tools.append(greet_customer)\n",
        "\n",
        "print(\"\\n--- 현재 에이전트 도구 목록 ---\")\n",
        "print(agent_tools)\n",
        "print(\"-\" * 20)\n",
        "\n",
        "# 도구 사용 예시\n",
        "# print(greet_customer.invoke(\"안녕하세요! 배송 문의드려요.\"))\n",
        "# print(greet_customer.invoke(\"주문 상태 확인 부탁드립니다.\"))"
      ]
    },
    {
      "cell_type": "markdown",
      "metadata": {
        "id": "Gb1vQHsH6yn-"
      },
      "source": [
        "# 실습 마무리\n",
        "\n",
        "이번 실습을 통해 RAG의 절차에 대한 이해 및 VectorDB와 Retriever을 사용하여 검색 단계를 구현하는 방법을 배웠습니다. 또한, Retriever를  Tool로 사용하여 Agent가 사용하는 방법을 수행했습니다.\n",
        "\n",
        "Parding, Chunking, Indexing이 무엇인지 이해하고 각각에 대한 결과는 어떠한지 비교하는 실험까지 다루어보았습니다.\n",
        "\n",
        "이를 통해 여러분이 각자 프로젝트에서 설계한 서비스에 적절한 검색 방법론을 설계하고 구현할 수 있는 기초를 다질 수 있기를 바랍니다."
      ]
    }
  ],
  "metadata": {
    "colab": {
      "provenance": [],
      "toc_visible": true
    },
    "kernelspec": {
      "display_name": "Python 3",
      "name": "python3"
    },
    "language_info": {
      "name": "python"
    }
  },
  "nbformat": 4,
  "nbformat_minor": 0
}
